{
 "cells": [
  {
   "cell_type": "markdown",
   "metadata": {},
   "source": [
    "# Customer Segmentation & Recency, Frequency, Monetary Modeling & Upselling\n",
    "\n",
    "We discovered some interesting observations around our cohort data set. While cohort analysis provides us with customer behavior overtime and understand retention rates, we also want to be able to segment our data by their behavior as well."
   ]
  },
  {
   "cell_type": "code",
   "execution_count": 1,
   "metadata": {},
   "outputs": [],
   "source": [
    "import pandas as pd # for dataframes\n",
    "import numpy as np\n",
    "import matplotlib.pyplot as plt # for plotting graphs\n",
    "import seaborn as sns # for plotting graphs\n",
    "import re\n",
    "from pandas.plotting import scatter_matrix\n",
    "from datetime import datetime\n",
    "import plotly.offline as py\n",
    "import plotly.graph_objs as go\n"
   ]
  },
  {
   "cell_type": "code",
   "execution_count": 2,
   "metadata": {},
   "outputs": [
    {
     "data": {
      "text/html": [
       "<div>\n",
       "<style scoped>\n",
       "    .dataframe tbody tr th:only-of-type {\n",
       "        vertical-align: middle;\n",
       "    }\n",
       "\n",
       "    .dataframe tbody tr th {\n",
       "        vertical-align: top;\n",
       "    }\n",
       "\n",
       "    .dataframe thead th {\n",
       "        text-align: right;\n",
       "    }\n",
       "</style>\n",
       "<table border=\"1\" class=\"dataframe\">\n",
       "  <thead>\n",
       "    <tr style=\"text-align: right;\">\n",
       "      <th></th>\n",
       "      <th>order_id</th>\n",
       "      <th>order_item_id</th>\n",
       "      <th>product_id</th>\n",
       "      <th>seller_id</th>\n",
       "      <th>shipping_limit_date</th>\n",
       "      <th>price</th>\n",
       "      <th>freight_value</th>\n",
       "      <th>payment_sequential</th>\n",
       "      <th>payment_type</th>\n",
       "      <th>payment_installments</th>\n",
       "      <th>...</th>\n",
       "      <th>customer_city</th>\n",
       "      <th>customer_state</th>\n",
       "      <th>customer_unique_id</th>\n",
       "      <th>review_response_time</th>\n",
       "      <th>order_purchase_year</th>\n",
       "      <th>order_purchase_month</th>\n",
       "      <th>order_purchase_dayofweek</th>\n",
       "      <th>order_purchase_hour</th>\n",
       "      <th>order_purchase_day</th>\n",
       "      <th>order_purchase_mon</th>\n",
       "    </tr>\n",
       "  </thead>\n",
       "  <tbody>\n",
       "    <tr>\n",
       "      <th>0</th>\n",
       "      <td>00010242fe8c5a6d1ba2dd792cb16214</td>\n",
       "      <td>1</td>\n",
       "      <td>4244733e06e7ecb4970a6e2683c13e61</td>\n",
       "      <td>48436dade18ac8b2bce089ec2a041202</td>\n",
       "      <td>9/19/2017 9:45</td>\n",
       "      <td>58.9</td>\n",
       "      <td>13.29</td>\n",
       "      <td>1</td>\n",
       "      <td>Credit Card</td>\n",
       "      <td>2</td>\n",
       "      <td>...</td>\n",
       "      <td>Campos Dos Goytacazes</td>\n",
       "      <td>RJ</td>\n",
       "      <td>5ee8fe956c2631afc0a1dcc1920d0e3d</td>\n",
       "      <td>1</td>\n",
       "      <td>2017</td>\n",
       "      <td>9</td>\n",
       "      <td>2</td>\n",
       "      <td>8</td>\n",
       "      <td>Wed</td>\n",
       "      <td>Sep</td>\n",
       "    </tr>\n",
       "    <tr>\n",
       "      <th>1</th>\n",
       "      <td>130898c0987d1801452a8ed92a670612</td>\n",
       "      <td>1</td>\n",
       "      <td>4244733e06e7ecb4970a6e2683c13e61</td>\n",
       "      <td>48436dade18ac8b2bce089ec2a041202</td>\n",
       "      <td>7/5/2017 2:44</td>\n",
       "      <td>55.9</td>\n",
       "      <td>17.96</td>\n",
       "      <td>1</td>\n",
       "      <td>Boleto</td>\n",
       "      <td>1</td>\n",
       "      <td>...</td>\n",
       "      <td>Jatai</td>\n",
       "      <td>GO</td>\n",
       "      <td>8b3f917f4307d3e5cf34c0b43d6e6f50</td>\n",
       "      <td>3</td>\n",
       "      <td>2017</td>\n",
       "      <td>6</td>\n",
       "      <td>2</td>\n",
       "      <td>11</td>\n",
       "      <td>Wed</td>\n",
       "      <td>Jun</td>\n",
       "    </tr>\n",
       "    <tr>\n",
       "      <th>2</th>\n",
       "      <td>532ed5e14e24ae1f0d735b91524b98b9</td>\n",
       "      <td>1</td>\n",
       "      <td>4244733e06e7ecb4970a6e2683c13e61</td>\n",
       "      <td>48436dade18ac8b2bce089ec2a041202</td>\n",
       "      <td>5/23/2018 10:56</td>\n",
       "      <td>64.9</td>\n",
       "      <td>18.33</td>\n",
       "      <td>1</td>\n",
       "      <td>Credit Card</td>\n",
       "      <td>2</td>\n",
       "      <td>...</td>\n",
       "      <td>Belo Horizonte</td>\n",
       "      <td>MG</td>\n",
       "      <td>69ba88e17ea574da9c9b8c8834a583d1</td>\n",
       "      <td>1</td>\n",
       "      <td>2018</td>\n",
       "      <td>5</td>\n",
       "      <td>4</td>\n",
       "      <td>10</td>\n",
       "      <td>Fri</td>\n",
       "      <td>May</td>\n",
       "    </tr>\n",
       "    <tr>\n",
       "      <th>3</th>\n",
       "      <td>6f8c31653edb8c83e1a739408b5ff750</td>\n",
       "      <td>1</td>\n",
       "      <td>4244733e06e7ecb4970a6e2683c13e61</td>\n",
       "      <td>48436dade18ac8b2bce089ec2a041202</td>\n",
       "      <td>8/7/2017 18:55</td>\n",
       "      <td>58.9</td>\n",
       "      <td>16.17</td>\n",
       "      <td>1</td>\n",
       "      <td>Credit Card</td>\n",
       "      <td>3</td>\n",
       "      <td>...</td>\n",
       "      <td>Sao Jose Dos Pinhais</td>\n",
       "      <td>PR</td>\n",
       "      <td>cbe063493a222cb17024ff0285b4ecb6</td>\n",
       "      <td>3</td>\n",
       "      <td>2017</td>\n",
       "      <td>8</td>\n",
       "      <td>1</td>\n",
       "      <td>18</td>\n",
       "      <td>Tue</td>\n",
       "      <td>Aug</td>\n",
       "    </tr>\n",
       "    <tr>\n",
       "      <th>4</th>\n",
       "      <td>7d19f4ef4d04461989632411b7e588b9</td>\n",
       "      <td>1</td>\n",
       "      <td>4244733e06e7ecb4970a6e2683c13e61</td>\n",
       "      <td>48436dade18ac8b2bce089ec2a041202</td>\n",
       "      <td>8/16/2017 22:05</td>\n",
       "      <td>58.9</td>\n",
       "      <td>13.29</td>\n",
       "      <td>1</td>\n",
       "      <td>Credit Card</td>\n",
       "      <td>4</td>\n",
       "      <td>...</td>\n",
       "      <td>Conselheiro Lafaiete</td>\n",
       "      <td>MG</td>\n",
       "      <td>ffab5330bd7b40979ab6726b2e02292e</td>\n",
       "      <td>3</td>\n",
       "      <td>2017</td>\n",
       "      <td>8</td>\n",
       "      <td>3</td>\n",
       "      <td>21</td>\n",
       "      <td>Thu</td>\n",
       "      <td>Aug</td>\n",
       "    </tr>\n",
       "    <tr>\n",
       "      <th>...</th>\n",
       "      <td>...</td>\n",
       "      <td>...</td>\n",
       "      <td>...</td>\n",
       "      <td>...</td>\n",
       "      <td>...</td>\n",
       "      <td>...</td>\n",
       "      <td>...</td>\n",
       "      <td>...</td>\n",
       "      <td>...</td>\n",
       "      <td>...</td>\n",
       "      <td>...</td>\n",
       "      <td>...</td>\n",
       "      <td>...</td>\n",
       "      <td>...</td>\n",
       "      <td>...</td>\n",
       "      <td>...</td>\n",
       "      <td>...</td>\n",
       "      <td>...</td>\n",
       "      <td>...</td>\n",
       "      <td>...</td>\n",
       "      <td>...</td>\n",
       "    </tr>\n",
       "    <tr>\n",
       "      <th>116576</th>\n",
       "      <td>fdaf98feac227eb978d8f33f36e0231d</td>\n",
       "      <td>1</td>\n",
       "      <td>f739e9151702508b18f796c53005e5e9</td>\n",
       "      <td>d1aa1ec0839dcab73a6161130eb1f94a</td>\n",
       "      <td>4/27/2017 5:10</td>\n",
       "      <td>119.9</td>\n",
       "      <td>16.14</td>\n",
       "      <td>1</td>\n",
       "      <td>Boleto</td>\n",
       "      <td>1</td>\n",
       "      <td>...</td>\n",
       "      <td>Rio De Janeiro</td>\n",
       "      <td>RJ</td>\n",
       "      <td>e060eb8f37de232154b24bbb2413b68e</td>\n",
       "      <td>1</td>\n",
       "      <td>2017</td>\n",
       "      <td>4</td>\n",
       "      <td>2</td>\n",
       "      <td>10</td>\n",
       "      <td>Wed</td>\n",
       "      <td>Apr</td>\n",
       "    </tr>\n",
       "    <tr>\n",
       "      <th>116577</th>\n",
       "      <td>fe68b52db13993f58175fa589125d345</td>\n",
       "      <td>1</td>\n",
       "      <td>f4135cbdece8245560f7be179533797a</td>\n",
       "      <td>3fefda3299e6dfaea3466ef346a3571a</td>\n",
       "      <td>8/17/2017 2:55</td>\n",
       "      <td>209.0</td>\n",
       "      <td>16.21</td>\n",
       "      <td>1</td>\n",
       "      <td>Boleto</td>\n",
       "      <td>1</td>\n",
       "      <td>...</td>\n",
       "      <td>Limeira</td>\n",
       "      <td>SP</td>\n",
       "      <td>3041f5d65c4fa516eed1325d7a8657af</td>\n",
       "      <td>1</td>\n",
       "      <td>2017</td>\n",
       "      <td>8</td>\n",
       "      <td>4</td>\n",
       "      <td>10</td>\n",
       "      <td>Fri</td>\n",
       "      <td>Aug</td>\n",
       "    </tr>\n",
       "    <tr>\n",
       "      <th>116578</th>\n",
       "      <td>fefacc66af859508bf1a7934eab1e97f</td>\n",
       "      <td>1</td>\n",
       "      <td>69c590f7ffc7bf8db97190b6cb6ed62e</td>\n",
       "      <td>80ceebb4ee9b31afb6c6a916a574a1e2</td>\n",
       "      <td>8/2/2018 4:05</td>\n",
       "      <td>6729.0</td>\n",
       "      <td>193.21</td>\n",
       "      <td>1</td>\n",
       "      <td>Boleto</td>\n",
       "      <td>1</td>\n",
       "      <td>...</td>\n",
       "      <td>Vitoria</td>\n",
       "      <td>ES</td>\n",
       "      <td>57b628f46c00f9a7358e5e875d5b4dd0</td>\n",
       "      <td>0</td>\n",
       "      <td>2018</td>\n",
       "      <td>7</td>\n",
       "      <td>2</td>\n",
       "      <td>18</td>\n",
       "      <td>Wed</td>\n",
       "      <td>Jul</td>\n",
       "    </tr>\n",
       "    <tr>\n",
       "      <th>116579</th>\n",
       "      <td>ff701a7c869ad21de22a6994237c8a00</td>\n",
       "      <td>1</td>\n",
       "      <td>5ff4076c0f01eeba4f728c9e3fa2653c</td>\n",
       "      <td>3e35a8bb43569389d3cebef0ce820f69</td>\n",
       "      <td>4/18/2018 20:10</td>\n",
       "      <td>27.9</td>\n",
       "      <td>14.44</td>\n",
       "      <td>1</td>\n",
       "      <td>Credit Card</td>\n",
       "      <td>1</td>\n",
       "      <td>...</td>\n",
       "      <td>Cacapava</td>\n",
       "      <td>SP</td>\n",
       "      <td>ea4d52b176423e61a84052b0f4717be9</td>\n",
       "      <td>3</td>\n",
       "      <td>2018</td>\n",
       "      <td>4</td>\n",
       "      <td>3</td>\n",
       "      <td>19</td>\n",
       "      <td>Thu</td>\n",
       "      <td>Apr</td>\n",
       "    </tr>\n",
       "    <tr>\n",
       "      <th>116580</th>\n",
       "      <td>ff701a7c869ad21de22a6994237c8a00</td>\n",
       "      <td>2</td>\n",
       "      <td>5ff4076c0f01eeba4f728c9e3fa2653c</td>\n",
       "      <td>3e35a8bb43569389d3cebef0ce820f69</td>\n",
       "      <td>4/18/2018 20:10</td>\n",
       "      <td>27.9</td>\n",
       "      <td>14.44</td>\n",
       "      <td>1</td>\n",
       "      <td>Credit Card</td>\n",
       "      <td>1</td>\n",
       "      <td>...</td>\n",
       "      <td>Cacapava</td>\n",
       "      <td>SP</td>\n",
       "      <td>ea4d52b176423e61a84052b0f4717be9</td>\n",
       "      <td>3</td>\n",
       "      <td>2018</td>\n",
       "      <td>4</td>\n",
       "      <td>3</td>\n",
       "      <td>19</td>\n",
       "      <td>Thu</td>\n",
       "      <td>Apr</td>\n",
       "    </tr>\n",
       "  </tbody>\n",
       "</table>\n",
       "<p>116581 rows × 34 columns</p>\n",
       "</div>"
      ],
      "text/plain": [
       "                                order_id  order_item_id   \n",
       "0       00010242fe8c5a6d1ba2dd792cb16214              1  \\\n",
       "1       130898c0987d1801452a8ed92a670612              1   \n",
       "2       532ed5e14e24ae1f0d735b91524b98b9              1   \n",
       "3       6f8c31653edb8c83e1a739408b5ff750              1   \n",
       "4       7d19f4ef4d04461989632411b7e588b9              1   \n",
       "...                                  ...            ...   \n",
       "116576  fdaf98feac227eb978d8f33f36e0231d              1   \n",
       "116577  fe68b52db13993f58175fa589125d345              1   \n",
       "116578  fefacc66af859508bf1a7934eab1e97f              1   \n",
       "116579  ff701a7c869ad21de22a6994237c8a00              1   \n",
       "116580  ff701a7c869ad21de22a6994237c8a00              2   \n",
       "\n",
       "                              product_id                         seller_id   \n",
       "0       4244733e06e7ecb4970a6e2683c13e61  48436dade18ac8b2bce089ec2a041202  \\\n",
       "1       4244733e06e7ecb4970a6e2683c13e61  48436dade18ac8b2bce089ec2a041202   \n",
       "2       4244733e06e7ecb4970a6e2683c13e61  48436dade18ac8b2bce089ec2a041202   \n",
       "3       4244733e06e7ecb4970a6e2683c13e61  48436dade18ac8b2bce089ec2a041202   \n",
       "4       4244733e06e7ecb4970a6e2683c13e61  48436dade18ac8b2bce089ec2a041202   \n",
       "...                                  ...                               ...   \n",
       "116576  f739e9151702508b18f796c53005e5e9  d1aa1ec0839dcab73a6161130eb1f94a   \n",
       "116577  f4135cbdece8245560f7be179533797a  3fefda3299e6dfaea3466ef346a3571a   \n",
       "116578  69c590f7ffc7bf8db97190b6cb6ed62e  80ceebb4ee9b31afb6c6a916a574a1e2   \n",
       "116579  5ff4076c0f01eeba4f728c9e3fa2653c  3e35a8bb43569389d3cebef0ce820f69   \n",
       "116580  5ff4076c0f01eeba4f728c9e3fa2653c  3e35a8bb43569389d3cebef0ce820f69   \n",
       "\n",
       "       shipping_limit_date   price  freight_value  payment_sequential   \n",
       "0           9/19/2017 9:45    58.9          13.29                   1  \\\n",
       "1            7/5/2017 2:44    55.9          17.96                   1   \n",
       "2          5/23/2018 10:56    64.9          18.33                   1   \n",
       "3           8/7/2017 18:55    58.9          16.17                   1   \n",
       "4          8/16/2017 22:05    58.9          13.29                   1   \n",
       "...                    ...     ...            ...                 ...   \n",
       "116576      4/27/2017 5:10   119.9          16.14                   1   \n",
       "116577      8/17/2017 2:55   209.0          16.21                   1   \n",
       "116578       8/2/2018 4:05  6729.0         193.21                   1   \n",
       "116579     4/18/2018 20:10    27.9          14.44                   1   \n",
       "116580     4/18/2018 20:10    27.9          14.44                   1   \n",
       "\n",
       "       payment_type  payment_installments  ...          customer_city   \n",
       "0       Credit Card                     2  ...  Campos Dos Goytacazes  \\\n",
       "1            Boleto                     1  ...                  Jatai   \n",
       "2       Credit Card                     2  ...         Belo Horizonte   \n",
       "3       Credit Card                     3  ...   Sao Jose Dos Pinhais   \n",
       "4       Credit Card                     4  ...   Conselheiro Lafaiete   \n",
       "...             ...                   ...  ...                    ...   \n",
       "116576       Boleto                     1  ...         Rio De Janeiro   \n",
       "116577       Boleto                     1  ...                Limeira   \n",
       "116578       Boleto                     1  ...                Vitoria   \n",
       "116579  Credit Card                     1  ...               Cacapava   \n",
       "116580  Credit Card                     1  ...               Cacapava   \n",
       "\n",
       "       customer_state                customer_unique_id review_response_time   \n",
       "0                  RJ  5ee8fe956c2631afc0a1dcc1920d0e3d                    1  \\\n",
       "1                  GO  8b3f917f4307d3e5cf34c0b43d6e6f50                    3   \n",
       "2                  MG  69ba88e17ea574da9c9b8c8834a583d1                    1   \n",
       "3                  PR  cbe063493a222cb17024ff0285b4ecb6                    3   \n",
       "4                  MG  ffab5330bd7b40979ab6726b2e02292e                    3   \n",
       "...               ...                               ...                  ...   \n",
       "116576             RJ  e060eb8f37de232154b24bbb2413b68e                    1   \n",
       "116577             SP  3041f5d65c4fa516eed1325d7a8657af                    1   \n",
       "116578             ES  57b628f46c00f9a7358e5e875d5b4dd0                    0   \n",
       "116579             SP  ea4d52b176423e61a84052b0f4717be9                    3   \n",
       "116580             SP  ea4d52b176423e61a84052b0f4717be9                    3   \n",
       "\n",
       "       order_purchase_year order_purchase_month  order_purchase_dayofweek   \n",
       "0                     2017                    9                         2  \\\n",
       "1                     2017                    6                         2   \n",
       "2                     2018                    5                         4   \n",
       "3                     2017                    8                         1   \n",
       "4                     2017                    8                         3   \n",
       "...                    ...                  ...                       ...   \n",
       "116576                2017                    4                         2   \n",
       "116577                2017                    8                         4   \n",
       "116578                2018                    7                         2   \n",
       "116579                2018                    4                         3   \n",
       "116580                2018                    4                         3   \n",
       "\n",
       "       order_purchase_hour order_purchase_day order_purchase_mon  \n",
       "0                        8                Wed                Sep  \n",
       "1                       11                Wed                Jun  \n",
       "2                       10                Fri                May  \n",
       "3                       18                Tue                Aug  \n",
       "4                       21                Thu                Aug  \n",
       "...                    ...                ...                ...  \n",
       "116576                  10                Wed                Apr  \n",
       "116577                  10                Fri                Aug  \n",
       "116578                  18                Wed                Jul  \n",
       "116579                  19                Thu                Apr  \n",
       "116580                  19                Thu                Apr  \n",
       "\n",
       "[116581 rows x 34 columns]"
      ]
     },
     "execution_count": 2,
     "metadata": {},
     "output_type": "execute_result"
    }
   ],
   "source": [
    "myData= pd.read_csv('../dataSource.csv')\n",
    "myData"
   ]
  },
  {
   "cell_type": "code",
   "execution_count": 5,
   "metadata": {},
   "outputs": [],
   "source": [
    "features = ['order_id', 'order_status', 'order_purchase_timestamp',\n",
    "       'payment_value', 'customer_unique_id', 'customer_zip_code_prefix',\n",
    "       'customer_city', 'customer_state']\n",
    "myData_db = myData[features].copy()\n"
   ]
  },
  {
   "cell_type": "code",
   "execution_count": 6,
   "metadata": {},
   "outputs": [
    {
     "data": {
      "text/plain": [
       "0        2017-09-13\n",
       "1        2017-06-28\n",
       "2        2018-05-18\n",
       "3        2017-08-01\n",
       "4        2017-08-10\n",
       "            ...    \n",
       "116576   2017-04-19\n",
       "116577   2017-08-11\n",
       "116578   2018-07-25\n",
       "116579   2018-04-12\n",
       "116580   2018-04-12\n",
       "Name: order_purchase_date, Length: 116581, dtype: datetime64[ns]"
      ]
     },
     "execution_count": 6,
     "metadata": {},
     "output_type": "execute_result"
    }
   ],
   "source": [
    "#chuyển cột order_purchase_timestamp từ dạng string thành dạng date\n",
    "myData_db['order_purchase_date'] = pd.to_datetime(myData_db.order_purchase_timestamp, format=\"%m/%d/%Y %H:%M\").dt.date\n",
    "myData_db['order_purchase_date'] = pd.to_datetime(myData_db['order_purchase_date'])\n",
    "myData_db['order_purchase_date']\n"
   ]
  },
  {
   "cell_type": "code",
   "execution_count": 8,
   "metadata": {},
   "outputs": [],
   "source": [
    "myData_db = myData_db.drop_duplicates()\n",
    "delivered = myData_db.loc[myData_db[\"order_status\"] == \"delivered\"]"
   ]
  },
  {
   "cell_type": "markdown",
   "metadata": {},
   "source": [
    "### Function to describe customer orders "
   ]
  },
  {
   "cell_type": "code",
   "execution_count": 9,
   "metadata": {},
   "outputs": [],
   "source": [
    "\n",
    "def clustering_customers(df, date_max, date_min=False, group_range_days=False):\n",
    "    df = df.copy()\n",
    "\n",
    "    if(date_min == False):\n",
    "        cond_f = df[\"order_purchase_date\"] <= pd.to_datetime(date_max)\n",
    "    else:\n",
    "        cond_1 = df[\"order_purchase_date\"] <= pd.to_datetime(date_max)\n",
    "        cond_2 = df[\"order_purchase_date\"] >= pd.to_datetime(date_min)\n",
    "        cond_f = cond_1 & cond_2\n",
    "\n",
    "    df = df.loc[cond_f]\n",
    "\n",
    "    df[\"today\"] = df[\"order_purchase_date\"].max()\n",
    "\n",
    "    # df[\"today\"] = df[\"today\"].dt.date\n",
    "    # df[\"today\"] = pd.to_datetime(df[\"today\"], format=\"%Y-%m-%d\")\n",
    "\n",
    "    df[\"order_purchase_days_since\"] = df[\"today\"]  - df[\"order_purchase_date\"]\n",
    "    df[\"order_purchase_days_since\"] = df[\"order_purchase_days_since\"].astype(str)\n",
    "    df[\"order_purchase_days_since\"] = df[\"order_purchase_days_since\"].str.replace(r' days.*', '', regex=True)\n",
    "    df[\"order_purchase_days_since\"] = df[\"order_purchase_days_since\"].astype(int)\n",
    "    df[\"order_purchase_year\"] = df[\"order_purchase_date\"].dt.year\n",
    "\n",
    "   \n",
    "    df_group = df.groupby([\"customer_unique_id\"]).agg({\n",
    "        \"order_purchase_days_since\": [\"min\", \"max\", \"count\"],\n",
    "        \"payment_value\": [\"sum\",\"mean\"]\n",
    "    }).reset_index()\n",
    "\n",
    "    df_group.columns = [' '.join(col).strip() for col in df_group.columns.values]\n",
    "\n",
    "    \n",
    "    df_group.rename({\n",
    "        \"order_purchase_days_since max\": \"first_order_purchase\",\n",
    "        \"order_purchase_days_since min\": \"last_order_purchase\",\n",
    "        \"order_purchase_days_since count\": \"order_purchase_qty\",\n",
    "        \"payment_value mean\": \"payment_value_mean\",\n",
    "        \"payment_value sum\": \"payment_value_sum\"\n",
    "    }, axis=1, inplace=True)\n",
    "\n",
    "    median_payment = df_group[\"payment_value_mean\"].median()\n",
    "\n",
    "    if(group_range_days == False):\n",
    "        major_group = 4\n",
    "        range_days = str(df[\"order_purchase_date\"].max() - df[\"order_purchase_date\"].min()) \n",
    "        group_range_days = int(re.sub(r'\\s+days.*', '', range_days))/major_group\n",
    "\n",
    "    cond_payment_zero = df_group['payment_value_mean'] == 0.0\n",
    "    #nếu   df_group['last_order_purchase'] càng lớn -> lần mua đầu tiên cách càng xa\n",
    "    cond_inactive_1 = df_group['last_order_purchase'] > group_range_days*3\n",
    "\n",
    "    cond_inactive = cond_inactive_1 | cond_payment_zero\n",
    "\n",
    "    cond_cold_1 = df_group['last_order_purchase'] > group_range_days*2\n",
    "    cond_cold_2 = df_group['last_order_purchase'] <= group_range_days*3\n",
    "    cond_cold = cond_cold_1 & cond_cold_2 & ~(cond_payment_zero)\n",
    "\n",
    "    cond_hot_1 = df_group['last_order_purchase'] > group_range_days\n",
    "    cond_hot_2 = df_group['last_order_purchase'] <= group_range_days*2\n",
    "    cond_hot = cond_hot_1 & cond_hot_2 & ~(cond_payment_zero)\n",
    "\n",
    "    cond_active_1 = df_group['last_order_purchase'] <= group_range_days\n",
    "    cond_active = cond_active_1 & ~(cond_payment_zero)\n",
    "\n",
    "    df_group.loc[cond_inactive, \"segment\"] = \"inactive\"\n",
    "    df_group.loc[cond_cold, \"segment\"] = \"cold\"\n",
    "    df_group.loc[cond_hot, \"segment\"] = \"hot\"\n",
    "    df_group.loc[cond_active, \"segment\"] = \"active\"\n",
    "    \n",
    "    cond_hot_high_payment_1 = df_group[\"segment\"] == \"hot\"\n",
    "    cond_hot_high_payment_2 = df_group[\"payment_value_mean\"] >= median_payment\n",
    "    cond_hot_high_payment = cond_hot_high_payment_1 & cond_hot_high_payment_2\n",
    "    \n",
    "    cond_hot_low_payment_1 = df_group[\"segment\"] == \"hot\"\n",
    "    cond_hot_low_payment_2 = df_group[\"payment_value_mean\"] < median_payment\n",
    "    cond_hot_low_payment = cond_hot_low_payment_1 & cond_hot_low_payment_2\n",
    "    \n",
    "    cond_active_high_payment_1 = df_group[\"segment\"] == \"active\"\n",
    "    cond_active_high_payment_2 = df_group[\"payment_value_mean\"] >= median_payment\n",
    "    cond_active_high_payment = cond_active_high_payment_1 & cond_active_high_payment_2\n",
    "\n",
    "    cond_active_low_payment_1 = df_group[\"segment\"] == \"active\"\n",
    "    cond_active_low_payment_2 = df_group[\"payment_value_mean\"] < median_payment\n",
    "    cond_active_low_payment = cond_active_low_payment_1 & cond_active_low_payment_2\n",
    "\n",
    "    cond_cold_high_payment_1 = df_group[\"segment\"] == \"cold\"\n",
    "    cond_cold_high_payment_2 = df_group[\"payment_value_mean\"] >= median_payment\n",
    "    cond_cold_high_payment = cond_cold_high_payment_1 & cond_cold_high_payment_2\n",
    "\n",
    "    cond_cold_low_payment_1 = df_group[\"segment\"] == \"cold\"\n",
    "    cond_cold_low_payment_2 = df_group[\"payment_value_mean\"] < median_payment\n",
    "    cond_cold_low_payment = cond_cold_low_payment_1 & cond_cold_low_payment_2\n",
    "\n",
    "    df_group[\"sub_segment\"] = \"inactive\"\n",
    "    df_group.loc[cond_hot_high_payment, \"sub_segment\"] = \"hot_high_payment_value\"\n",
    "    df_group.loc[cond_hot_low_payment, \"sub_segment\"] = \"hot_low_payment_value\"\n",
    "    df_group.loc[cond_active_high_payment, \"sub_segment\"] = \"active_high_payment_value\"\n",
    "    df_group.loc[cond_active_low_payment, \"sub_segment\"] = \"active_low_payment_value\"\n",
    "    df_group.loc[cond_cold_high_payment, \"sub_segment\"] = \"cold_high_payment_value\"\n",
    "    df_group.loc[cond_cold_low_payment, \"sub_segment\"] = \"cold_low_payment_value\"\n",
    "\n",
    "    cond_new_customer = df_group[\"first_order_purchase\"] <= group_range_days*2\n",
    "    df_group[\"new_customer\"] = 0\n",
    "    df_group.loc[cond_new_customer, \"new_customer\"] = 1\n",
    "    \n",
    "    return group_range_days, df_group\n"
   ]
  },
  {
   "cell_type": "code",
   "execution_count": 10,
   "metadata": {},
   "outputs": [
    {
     "data": {
      "text/html": [
       "<div>\n",
       "<style scoped>\n",
       "    .dataframe tbody tr th:only-of-type {\n",
       "        vertical-align: middle;\n",
       "    }\n",
       "\n",
       "    .dataframe tbody tr th {\n",
       "        vertical-align: top;\n",
       "    }\n",
       "\n",
       "    .dataframe thead th {\n",
       "        text-align: right;\n",
       "    }\n",
       "</style>\n",
       "<table border=\"1\" class=\"dataframe\">\n",
       "  <thead>\n",
       "    <tr style=\"text-align: right;\">\n",
       "      <th></th>\n",
       "      <th>customer_unique_id</th>\n",
       "      <th>last_order_purchase</th>\n",
       "      <th>first_order_purchase</th>\n",
       "      <th>order_purchase_qty</th>\n",
       "      <th>payment_value_sum</th>\n",
       "      <th>payment_value_mean</th>\n",
       "      <th>segment</th>\n",
       "      <th>sub_segment</th>\n",
       "      <th>new_customer</th>\n",
       "    </tr>\n",
       "  </thead>\n",
       "  <tbody>\n",
       "    <tr>\n",
       "      <th>0</th>\n",
       "      <td>0000b849f77a49e4a4ce2b2a4ca5be3f</td>\n",
       "      <td>174</td>\n",
       "      <td>285</td>\n",
       "      <td>2</td>\n",
       "      <td>136.26</td>\n",
       "      <td>68.130000</td>\n",
       "      <td>active</td>\n",
       "      <td>active_low_payment_value</td>\n",
       "      <td>1</td>\n",
       "    </tr>\n",
       "    <tr>\n",
       "      <th>1</th>\n",
       "      <td>0000f46a3911fa3c0805444483337064</td>\n",
       "      <td>130</td>\n",
       "      <td>398</td>\n",
       "      <td>3</td>\n",
       "      <td>583.87</td>\n",
       "      <td>194.623333</td>\n",
       "      <td>active</td>\n",
       "      <td>active_high_payment_value</td>\n",
       "      <td>0</td>\n",
       "    </tr>\n",
       "    <tr>\n",
       "      <th>2</th>\n",
       "      <td>0004bd2a26a76fe21f786e4fbd80607f</td>\n",
       "      <td>12</td>\n",
       "      <td>455</td>\n",
       "      <td>4</td>\n",
       "      <td>480.54</td>\n",
       "      <td>120.135000</td>\n",
       "      <td>active</td>\n",
       "      <td>active_high_payment_value</td>\n",
       "      <td>0</td>\n",
       "    </tr>\n",
       "    <tr>\n",
       "      <th>3</th>\n",
       "      <td>00050ab1314c0e55a6ca13cf7181fecf</td>\n",
       "      <td>224</td>\n",
       "      <td>224</td>\n",
       "      <td>1</td>\n",
       "      <td>80.18</td>\n",
       "      <td>80.180000</td>\n",
       "      <td>hot</td>\n",
       "      <td>hot_low_payment_value</td>\n",
       "      <td>1</td>\n",
       "    </tr>\n",
       "    <tr>\n",
       "      <th>4</th>\n",
       "      <td>0005ef4cd20d2893f0d9fbd94d3c0d97</td>\n",
       "      <td>486</td>\n",
       "      <td>486</td>\n",
       "      <td>1</td>\n",
       "      <td>187.91</td>\n",
       "      <td>187.910000</td>\n",
       "      <td>cold</td>\n",
       "      <td>cold_high_payment_value</td>\n",
       "      <td>0</td>\n",
       "    </tr>\n",
       "  </tbody>\n",
       "</table>\n",
       "</div>"
      ],
      "text/plain": [
       "                 customer_unique_id  last_order_purchase   \n",
       "0  0000b849f77a49e4a4ce2b2a4ca5be3f                  174  \\\n",
       "1  0000f46a3911fa3c0805444483337064                  130   \n",
       "2  0004bd2a26a76fe21f786e4fbd80607f                   12   \n",
       "3  00050ab1314c0e55a6ca13cf7181fecf                  224   \n",
       "4  0005ef4cd20d2893f0d9fbd94d3c0d97                  486   \n",
       "\n",
       "   first_order_purchase  order_purchase_qty  payment_value_sum   \n",
       "0                   285                   2             136.26  \\\n",
       "1                   398                   3             583.87   \n",
       "2                   455                   4             480.54   \n",
       "3                   224                   1              80.18   \n",
       "4                   486                   1             187.91   \n",
       "\n",
       "   payment_value_mean segment                sub_segment  new_customer  \n",
       "0           68.130000  active   active_low_payment_value             1  \n",
       "1          194.623333  active  active_high_payment_value             0  \n",
       "2          120.135000  active  active_high_payment_value             0  \n",
       "3           80.180000     hot      hot_low_payment_value             1  \n",
       "4          187.910000    cold    cold_high_payment_value             0  "
      ]
     },
     "execution_count": 10,
     "metadata": {},
     "output_type": "execute_result"
    }
   ],
   "source": [
    "# customer payment purchase and orders until 2018\n",
    "period_2018, df_clustering_2018 = clustering_customers(myData_db, \"2018-12-31\")\n",
    "df_clustering_2018.head(5)"
   ]
  },
  {
   "cell_type": "code",
   "execution_count": 12,
   "metadata": {},
   "outputs": [
    {
     "name": "stdout",
     "output_type": "stream",
     "text": [
      "                 sub_segment  payment_value_sum\n",
      "0  active_high_payment_value         8602975.35\n",
      "1   active_low_payment_value         2811777.86\n",
      "4     hot_high_payment_value         2575126.40\n",
      "5      hot_low_payment_value          855437.90\n",
      "2    cold_high_payment_value          522834.74\n",
      "3     cold_low_payment_value          181146.07\n",
      "6                   inactive           72387.51\n"
     ]
    },
    {
     "ename": "ValueError",
     "evalue": "\n    Invalid value of type 'builtins.str' received for the 'xaxis' property of layout\n        Received value: 'kjfahd'\n\n    The 'xaxis' property is an instance of XAxis\n    that may be specified as:\n      - An instance of :class:`plotly.graph_objs.layout.XAxis`\n      - A dict of string/value properties that will be passed\n        to the XAxis constructor\n\n        Supported dict properties:\n            \n            anchor\n                If set to an opposite-letter axis id (e.g.\n                `x2`, `y`), this axis is bound to the\n                corresponding opposite-letter axis. If set to\n                \"free\", this axis' position is determined by\n                `position`.\n            automargin\n                Determines whether long tick labels\n                automatically grow the figure margins.\n            autorange\n                Determines whether or not the range of this\n                axis is computed in relation to the input data.\n                See `rangemode` for more info. If `range` is\n                provided, then `autorange` is set to False.\n            autotypenumbers\n                Using \"strict\" a numeric string in trace data\n                is not converted to a number. Using *convert\n                types* a numeric string in trace data may be\n                treated as a number during automatic axis\n                `type` detection. Defaults to\n                layout.autotypenumbers.\n            calendar\n                Sets the calendar system to use for `range` and\n                `tick0` if this is a date axis. This does not\n                set the calendar for interpreting data on this\n                axis, that's specified in the trace or via the\n                global `layout.calendar`\n            categoryarray\n                Sets the order in which categories on this axis\n                appear. Only has an effect if `categoryorder`\n                is set to \"array\". Used with `categoryorder`.\n            categoryarraysrc\n                Sets the source reference on Chart Studio Cloud\n                for `categoryarray`.\n            categoryorder\n                Specifies the ordering logic for the case of\n                categorical variables. By default, plotly uses\n                \"trace\", which specifies the order that is\n                present in the data supplied. Set\n                `categoryorder` to *category ascending* or\n                *category descending* if order should be\n                determined by the alphanumerical order of the\n                category names. Set `categoryorder` to \"array\"\n                to derive the ordering from the attribute\n                `categoryarray`. If a category is not found in\n                the `categoryarray` array, the sorting behavior\n                for that attribute will be identical to the\n                \"trace\" mode. The unspecified categories will\n                follow the categories in `categoryarray`. Set\n                `categoryorder` to *total ascending* or *total\n                descending* if order should be determined by\n                the numerical order of the values. Similarly,\n                the order can be determined by the min, max,\n                sum, mean or median of all the values.\n            color\n                Sets default for all colors associated with\n                this axis all at once: line, font, tick, and\n                grid colors. Grid color is lightened by\n                blending this with the plot background\n                Individual pieces can override this.\n            constrain\n                If this axis needs to be compressed (either due\n                to its own `scaleanchor` and `scaleratio` or\n                those of the other axis), determines how that\n                happens: by increasing the \"range\", or by\n                decreasing the \"domain\". Default is \"domain\"\n                for axes containing image traces, \"range\"\n                otherwise.\n            constraintoward\n                If this axis needs to be compressed (either due\n                to its own `scaleanchor` and `scaleratio` or\n                those of the other axis), determines which\n                direction we push the originally specified plot\n                area. Options are \"left\", \"center\" (default),\n                and \"right\" for x axes, and \"top\", \"middle\"\n                (default), and \"bottom\" for y axes.\n            dividercolor\n                Sets the color of the dividers Only has an\n                effect on \"multicategory\" axes.\n            dividerwidth\n                Sets the width (in px) of the dividers Only has\n                an effect on \"multicategory\" axes.\n            domain\n                Sets the domain of this axis (in plot\n                fraction).\n            dtick\n                Sets the step in-between ticks on this axis.\n                Use with `tick0`. Must be a positive number, or\n                special strings available to \"log\" and \"date\"\n                axes. If the axis `type` is \"log\", then ticks\n                are set every 10^(n*dtick) where n is the tick\n                number. For example, to set a tick mark at 1,\n                10, 100, 1000, ... set dtick to 1. To set tick\n                marks at 1, 100, 10000, ... set dtick to 2. To\n                set tick marks at 1, 5, 25, 125, 625, 3125, ...\n                set dtick to log_10(5), or 0.69897000433. \"log\"\n                has several special values; \"L<f>\", where `f`\n                is a positive number, gives ticks linearly\n                spaced in value (but not position). For example\n                `tick0` = 0.1, `dtick` = \"L0.5\" will put ticks\n                at 0.1, 0.6, 1.1, 1.6 etc. To show powers of 10\n                plus small digits between, use \"D1\" (all\n                digits) or \"D2\" (only 2 and 5). `tick0` is\n                ignored for \"D1\" and \"D2\". If the axis `type`\n                is \"date\", then you must convert the time to\n                milliseconds. For example, to set the interval\n                between ticks to one day, set `dtick` to\n                86400000.0. \"date\" also has special values\n                \"M<n>\" gives ticks spaced by a number of\n                months. `n` must be a positive integer. To set\n                ticks on the 15th of every third month, set\n                `tick0` to \"2000-01-15\" and `dtick` to \"M3\". To\n                set ticks every 4 years, set `dtick` to \"M48\"\n            exponentformat\n                Determines a formatting rule for the tick\n                exponents. For example, consider the number\n                1,000,000,000. If \"none\", it appears as\n                1,000,000,000. If \"e\", 1e+9. If \"E\", 1E+9. If\n                \"power\", 1x10^9 (with 9 in a super script). If\n                \"SI\", 1G. If \"B\", 1B.\n            fixedrange\n                Determines whether or not this axis is zoom-\n                able. If true, then zoom is disabled.\n            gridcolor\n                Sets the color of the grid lines.\n            griddash\n                Sets the dash style of lines. Set to a dash\n                type string (\"solid\", \"dot\", \"dash\",\n                \"longdash\", \"dashdot\", or \"longdashdot\") or a\n                dash length list in px (eg \"5px,10px,2px,2px\").\n            gridwidth\n                Sets the width (in px) of the grid lines.\n            hoverformat\n                Sets the hover text formatting rule using d3\n                formatting mini-languages which are very\n                similar to those in Python. For numbers, see: h\n                ttps://github.com/d3/d3-format/tree/v1.4.5#d3-\n                format. And for dates see:\n                https://github.com/d3/d3-time-\n                format/tree/v2.2.3#locale_format. We add two\n                items to d3's date formatter: \"%h\" for half of\n                the year as a decimal number as well as \"%{n}f\"\n                for fractional seconds with n digits. For\n                example, *2016-10-13 09:15:23.456* with\n                tickformat \"%H~%M~%S.%2f\" would display\n                \"09~15~23.46\"\n            labelalias\n                Replacement text for specific tick or hover\n                labels. For example using {US: 'USA', CA:\n                'Canada'} changes US to USA and CA to Canada.\n                The labels we would have shown must match the\n                keys exactly, after adding any tickprefix or\n                ticksuffix. labelalias can be used with any\n                axis type, and both keys (if needed) and values\n                (if desired) can include html-like tags or\n                MathJax.\n            layer\n                Sets the layer on which this axis is displayed.\n                If *above traces*, this axis is displayed above\n                all the subplot's traces If *below traces*,\n                this axis is displayed below all the subplot's\n                traces, but above the grid lines. Useful when\n                used together with scatter-like traces with\n                `cliponaxis` set to False to show markers\n                and/or text nodes above this axis.\n            linecolor\n                Sets the axis line color.\n            linewidth\n                Sets the width (in px) of the axis line.\n            matches\n                If set to another axis id (e.g. `x2`, `y`), the\n                range of this axis will match the range of the\n                corresponding axis in data-coordinates space.\n                Moreover, matching axes share auto-range\n                values, category lists and histogram auto-bins.\n                Note that setting axes simultaneously in both a\n                `scaleanchor` and a `matches` constraint is\n                currently forbidden. Moreover, note that\n                matching axes must have the same `type`.\n            minexponent\n                Hide SI prefix for 10^n if |n| is below this\n                number. This only has an effect when\n                `tickformat` is \"SI\" or \"B\".\n            minor\n                :class:`plotly.graph_objects.layout.xaxis.Minor\n                ` instance or dict with compatible properties\n            mirror\n                Determines if the axis lines or/and ticks are\n                mirrored to the opposite side of the plotting\n                area. If True, the axis lines are mirrored. If\n                \"ticks\", the axis lines and ticks are mirrored.\n                If False, mirroring is disable. If \"all\", axis\n                lines are mirrored on all shared-axes subplots.\n                If \"allticks\", axis lines and ticks are\n                mirrored on all shared-axes subplots.\n            nticks\n                Specifies the maximum number of ticks for the\n                particular axis. The actual number of ticks\n                will be chosen automatically to be less than or\n                equal to `nticks`. Has an effect only if\n                `tickmode` is set to \"auto\".\n            overlaying\n                If set a same-letter axis id, this axis is\n                overlaid on top of the corresponding same-\n                letter axis, with traces and axes visible for\n                both axes. If False, this axis does not overlay\n                any same-letter axes. In this case, for axes\n                with overlapping domains only the highest-\n                numbered axis will be visible.\n            position\n                Sets the position of this axis in the plotting\n                space (in normalized coordinates). Only has an\n                effect if `anchor` is set to \"free\".\n            range\n                Sets the range of this axis. If the axis `type`\n                is \"log\", then you must take the log of your\n                desired range (e.g. to set the range from 1 to\n                100, set the range from 0 to 2). If the axis\n                `type` is \"date\", it should be date strings,\n                like date data, though Date objects and unix\n                milliseconds will be accepted and converted to\n                strings. If the axis `type` is \"category\", it\n                should be numbers, using the scale where each\n                category is assigned a serial number from zero\n                in the order it appears.\n            rangebreaks\n                A tuple of :class:`plotly.graph_objects.layout.\n                xaxis.Rangebreak` instances or dicts with\n                compatible properties\n            rangebreakdefaults\n                When used in a template (as layout.template.lay\n                out.xaxis.rangebreakdefaults), sets the default\n                property values to use for elements of\n                layout.xaxis.rangebreaks\n            rangemode\n                If \"normal\", the range is computed in relation\n                to the extrema of the input data. If *tozero*`,\n                the range extends to 0, regardless of the input\n                data If \"nonnegative\", the range is non-\n                negative, regardless of the input data. Applies\n                only to linear axes.\n            rangeselector\n                :class:`plotly.graph_objects.layout.xaxis.Range\n                selector` instance or dict with compatible\n                properties\n            rangeslider\n                :class:`plotly.graph_objects.layout.xaxis.Range\n                slider` instance or dict with compatible\n                properties\n            scaleanchor\n                If set to another axis id (e.g. `x2`, `y`), the\n                range of this axis changes together with the\n                range of the corresponding axis such that the\n                scale of pixels per unit is in a constant\n                ratio. Both axes are still zoomable, but when\n                you zoom one, the other will zoom the same\n                amount, keeping a fixed midpoint. `constrain`\n                and `constraintoward` determine how we enforce\n                the constraint. You can chain these, ie `yaxis:\n                {scaleanchor: *x*}, xaxis2: {scaleanchor: *y*}`\n                but you can only link axes of the same `type`.\n                The linked axis can have the opposite letter\n                (to constrain the aspect ratio) or the same\n                letter (to match scales across subplots). Loops\n                (`yaxis: {scaleanchor: *x*}, xaxis:\n                {scaleanchor: *y*}` or longer) are redundant\n                and the last constraint encountered will be\n                ignored to avoid possible inconsistent\n                constraints via `scaleratio`. Note that setting\n                axes simultaneously in both a `scaleanchor` and\n                a `matches` constraint is currently forbidden.\n            scaleratio\n                If this axis is linked to another by\n                `scaleanchor`, this determines the pixel to\n                unit scale ratio. For example, if this value is\n                10, then every unit on this axis spans 10 times\n                the number of pixels as a unit on the linked\n                axis. Use this for example to create an\n                elevation profile where the vertical scale is\n                exaggerated a fixed amount with respect to the\n                horizontal.\n            separatethousands\n                If \"true\", even 4-digit integers are separated\n            showdividers\n                Determines whether or not a dividers are drawn\n                between the category levels of this axis. Only\n                has an effect on \"multicategory\" axes.\n            showexponent\n                If \"all\", all exponents are shown besides their\n                significands. If \"first\", only the exponent of\n                the first tick is shown. If \"last\", only the\n                exponent of the last tick is shown. If \"none\",\n                no exponents appear.\n            showgrid\n                Determines whether or not grid lines are drawn.\n                If True, the grid lines are drawn at every tick\n                mark.\n            showline\n                Determines whether or not a line bounding this\n                axis is drawn.\n            showspikes\n                Determines whether or not spikes (aka\n                droplines) are drawn for this axis. Note: This\n                only takes affect when hovermode = closest\n            showticklabels\n                Determines whether or not the tick labels are\n                drawn.\n            showtickprefix\n                If \"all\", all tick labels are displayed with a\n                prefix. If \"first\", only the first tick is\n                displayed with a prefix. If \"last\", only the\n                last tick is displayed with a suffix. If\n                \"none\", tick prefixes are hidden.\n            showticksuffix\n                Same as `showtickprefix` but for tick suffixes.\n            side\n                Determines whether a x (y) axis is positioned\n                at the \"bottom\" (\"left\") or \"top\" (\"right\") of\n                the plotting area.\n            spikecolor\n                Sets the spike color. If undefined, will use\n                the series color\n            spikedash\n                Sets the dash style of lines. Set to a dash\n                type string (\"solid\", \"dot\", \"dash\",\n                \"longdash\", \"dashdot\", or \"longdashdot\") or a\n                dash length list in px (eg \"5px,10px,2px,2px\").\n            spikemode\n                Determines the drawing mode for the spike line\n                If \"toaxis\", the line is drawn from the data\n                point to the axis the  series is plotted on. If\n                \"across\", the line is drawn across the entire\n                plot area, and supercedes \"toaxis\". If\n                \"marker\", then a marker dot is drawn on the\n                axis the series is plotted on\n            spikesnap\n                Determines whether spikelines are stuck to the\n                cursor or to the closest datapoints.\n            spikethickness\n                Sets the width (in px) of the zero line.\n            tick0\n                Sets the placement of the first tick on this\n                axis. Use with `dtick`. If the axis `type` is\n                \"log\", then you must take the log of your\n                starting tick (e.g. to set the starting tick to\n                100, set the `tick0` to 2) except when\n                `dtick`=*L<f>* (see `dtick` for more info). If\n                the axis `type` is \"date\", it should be a date\n                string, like date data. If the axis `type` is\n                \"category\", it should be a number, using the\n                scale where each category is assigned a serial\n                number from zero in the order it appears.\n            tickangle\n                Sets the angle of the tick labels with respect\n                to the horizontal. For example, a `tickangle`\n                of -90 draws the tick labels vertically.\n            tickcolor\n                Sets the tick color.\n            tickfont\n                Sets the tick font.\n            tickformat\n                Sets the tick label formatting rule using d3\n                formatting mini-languages which are very\n                similar to those in Python. For numbers, see: h\n                ttps://github.com/d3/d3-format/tree/v1.4.5#d3-\n                format. And for dates see:\n                https://github.com/d3/d3-time-\n                format/tree/v2.2.3#locale_format. We add two\n                items to d3's date formatter: \"%h\" for half of\n                the year as a decimal number as well as \"%{n}f\"\n                for fractional seconds with n digits. For\n                example, *2016-10-13 09:15:23.456* with\n                tickformat \"%H~%M~%S.%2f\" would display\n                \"09~15~23.46\"\n            tickformatstops\n                A tuple of :class:`plotly.graph_objects.layout.\n                xaxis.Tickformatstop` instances or dicts with\n                compatible properties\n            tickformatstopdefaults\n                When used in a template (as layout.template.lay\n                out.xaxis.tickformatstopdefaults), sets the\n                default property values to use for elements of\n                layout.xaxis.tickformatstops\n            ticklabelmode\n                Determines where tick labels are drawn with\n                respect to their corresponding ticks and grid\n                lines. Only has an effect for axes of `type`\n                \"date\" When set to \"period\", tick labels are\n                drawn in the middle of the period between\n                ticks.\n            ticklabeloverflow\n                Determines how we handle tick labels that would\n                overflow either the graph div or the domain of\n                the axis. The default value for inside tick\n                labels is *hide past domain*. Otherwise on\n                \"category\" and \"multicategory\" axes the default\n                is \"allow\". In other cases the default is *hide\n                past div*.\n            ticklabelposition\n                Determines where tick labels are drawn with\n                respect to the axis Please note that top or\n                bottom has no effect on x axes or when\n                `ticklabelmode` is set to \"period\". Similarly\n                left or right has no effect on y axes or when\n                `ticklabelmode` is set to \"period\". Has no\n                effect on \"multicategory\" axes or when\n                `tickson` is set to \"boundaries\". When used on\n                axes linked by `matches` or `scaleanchor`, no\n                extra padding for inside labels would be added\n                by autorange, so that the scales could match.\n            ticklabelstep\n                Sets the spacing between tick labels as\n                compared to the spacing between ticks. A value\n                of 1 (default) means each tick gets a label. A\n                value of 2 means shows every 2nd label. A\n                larger value n means only every nth tick is\n                labeled. `tick0` determines which labels are\n                shown. Not implemented for axes with `type`\n                \"log\" or \"multicategory\", or when `tickmode` is\n                \"array\".\n            ticklen\n                Sets the tick length (in px).\n            tickmode\n                Sets the tick mode for this axis. If \"auto\",\n                the number of ticks is set via `nticks`. If\n                \"linear\", the placement of the ticks is\n                determined by a starting position `tick0` and a\n                tick step `dtick` (\"linear\" is the default\n                value if `tick0` and `dtick` are provided). If\n                \"array\", the placement of the ticks is set via\n                `tickvals` and the tick text is `ticktext`.\n                (\"array\" is the default value if `tickvals` is\n                provided). If \"sync\", the number of ticks will\n                sync with the overlayed axis set by\n                `overlaying` property.\n            tickprefix\n                Sets a tick label prefix.\n            ticks\n                Determines whether ticks are drawn or not. If\n                \"\", this axis' ticks are not drawn. If\n                \"outside\" (\"inside\"), this axis' are drawn\n                outside (inside) the axis lines.\n            tickson\n                Determines where ticks and grid lines are drawn\n                with respect to their corresponding tick\n                labels. Only has an effect for axes of `type`\n                \"category\" or \"multicategory\". When set to\n                \"boundaries\", ticks and grid lines are drawn\n                half a category to the left/bottom of labels.\n            ticksuffix\n                Sets a tick label suffix.\n            ticktext\n                Sets the text displayed at the ticks position\n                via `tickvals`. Only has an effect if\n                `tickmode` is set to \"array\". Used with\n                `tickvals`.\n            ticktextsrc\n                Sets the source reference on Chart Studio Cloud\n                for `ticktext`.\n            tickvals\n                Sets the values at which ticks on this axis\n                appear. Only has an effect if `tickmode` is set\n                to \"array\". Used with `ticktext`.\n            tickvalssrc\n                Sets the source reference on Chart Studio Cloud\n                for `tickvals`.\n            tickwidth\n                Sets the tick width (in px).\n            title\n                :class:`plotly.graph_objects.layout.xaxis.Title\n                ` instance or dict with compatible properties\n            titlefont\n                Deprecated: Please use layout.xaxis.title.font\n                instead. Sets this axis' title font. Note that\n                the title's font used to be customized by the\n                now deprecated `titlefont` attribute.\n            type\n                Sets the axis type. By default, plotly attempts\n                to determined the axis type by looking into the\n                data of the traces that referenced the axis in\n                question.\n            uirevision\n                Controls persistence of user-driven changes in\n                axis `range`, `autorange`, and `title` if in\n                `editable: true` configuration. Defaults to\n                `layout.uirevision`.\n            visible\n                A single toggle to hide the axis while\n                preserving interaction like dragging. Default\n                is true when a cheater plot is present on the\n                axis, otherwise false\n            zeroline\n                Determines whether or not a line is drawn at\n                along the 0 value of this axis. If True, the\n                zero line is drawn on top of the grid lines.\n            zerolinecolor\n                Sets the line color of the zero line.\n            zerolinewidth\n                Sets the width (in px) of the zero line.\n",
     "output_type": "error",
     "traceback": [
      "\u001b[1;31m---------------------------------------------------------------------------\u001b[0m",
      "\u001b[1;31mValueError\u001b[0m                                Traceback (most recent call last)",
      "Cell \u001b[1;32mIn[12], line 20\u001b[0m\n\u001b[0;32m      5\u001b[0m trace0 \u001b[39m=\u001b[39m go\u001b[39m.\u001b[39mBar(\n\u001b[0;32m      6\u001b[0m     x\u001b[39m=\u001b[39mdf_revenue_subsegment_2018[\u001b[39m\"\u001b[39m\u001b[39msub_segment\u001b[39m\u001b[39m\"\u001b[39m]\u001b[39m.\u001b[39mvalues,\n\u001b[0;32m      7\u001b[0m     y\u001b[39m=\u001b[39mdf_revenue_subsegment_2018[\u001b[39m\"\u001b[39m\u001b[39mpayment_value_sum\u001b[39m\u001b[39m\"\u001b[39m]\u001b[39m.\u001b[39mvalues,\n\u001b[1;32m   (...)\u001b[0m\n\u001b[0;32m     15\u001b[0m                \u001b[39m'\u001b[39m\u001b[39mrgba(255,22,84,1)\u001b[39m\u001b[39m'\u001b[39m]),\n\u001b[0;32m     16\u001b[0m )\n\u001b[0;32m     18\u001b[0m data \u001b[39m=\u001b[39m [trace0]\n\u001b[1;32m---> 20\u001b[0m layout \u001b[39m=\u001b[39m go\u001b[39m.\u001b[39;49mLayout(\n\u001b[0;32m     21\u001b[0m     title\u001b[39m=\u001b[39;49m\u001b[39m'\u001b[39;49m\u001b[39mRevenue 2018 by Customer Group\u001b[39;49m\u001b[39m'\u001b[39;49m,\n\u001b[0;32m     22\u001b[0m     xaxis\u001b[39m=\u001b[39;49m\u001b[39m\"\u001b[39;49m\u001b[39mkjfahd\u001b[39;49m\u001b[39m\"\u001b[39;49m\n\u001b[0;32m     23\u001b[0m )\n\u001b[0;32m     25\u001b[0m fig \u001b[39m=\u001b[39m go\u001b[39m.\u001b[39mFigure(data\u001b[39m=\u001b[39mdata, layout\u001b[39m=\u001b[39mlayout)\n\u001b[0;32m     26\u001b[0m py\u001b[39m.\u001b[39miplot(fig)\n",
      "File \u001b[1;32mc:\\Users\\ADMIN\\AppData\\Local\\Programs\\Python\\Python311\\Lib\\site-packages\\plotly\\graph_objs\\_layout.py:6810\u001b[0m, in \u001b[0;36mLayout.__init__\u001b[1;34m(self, arg, activeselection, activeshape, annotations, annotationdefaults, autosize, autotypenumbers, bargap, bargroupgap, barmode, barnorm, boxgap, boxgroupgap, boxmode, calendar, clickmode, coloraxis, colorscale, colorway, computed, datarevision, dragmode, editrevision, extendfunnelareacolors, extendiciclecolors, extendpiecolors, extendsunburstcolors, extendtreemapcolors, font, funnelareacolorway, funnelgap, funnelgroupgap, funnelmode, geo, grid, height, hiddenlabels, hiddenlabelssrc, hidesources, hoverdistance, hoverlabel, hovermode, iciclecolorway, images, imagedefaults, legend, mapbox, margin, meta, metasrc, minreducedheight, minreducedwidth, modebar, newselection, newshape, paper_bgcolor, piecolorway, plot_bgcolor, polar, scattergap, scattermode, scene, selectdirection, selectionrevision, selections, selectiondefaults, separators, shapes, shapedefaults, showlegend, sliders, sliderdefaults, smith, spikedistance, sunburstcolorway, template, ternary, title, titlefont, transition, treemapcolorway, uirevision, uniformtext, updatemenus, updatemenudefaults, violingap, violingroupgap, violinmode, waterfallgap, waterfallgroupgap, waterfallmode, width, xaxis, yaxis, **kwargs)\u001b[0m\n\u001b[0;32m   6808\u001b[0m _v \u001b[39m=\u001b[39m xaxis \u001b[39mif\u001b[39;00m xaxis \u001b[39mis\u001b[39;00m \u001b[39mnot\u001b[39;00m \u001b[39mNone\u001b[39;00m \u001b[39melse\u001b[39;00m _v\n\u001b[0;32m   6809\u001b[0m \u001b[39mif\u001b[39;00m _v \u001b[39mis\u001b[39;00m \u001b[39mnot\u001b[39;00m \u001b[39mNone\u001b[39;00m:\n\u001b[1;32m-> 6810\u001b[0m     \u001b[39mself\u001b[39;49m[\u001b[39m\"\u001b[39;49m\u001b[39mxaxis\u001b[39;49m\u001b[39m\"\u001b[39;49m] \u001b[39m=\u001b[39m _v\n\u001b[0;32m   6811\u001b[0m _v \u001b[39m=\u001b[39m arg\u001b[39m.\u001b[39mpop(\u001b[39m\"\u001b[39m\u001b[39myaxis\u001b[39m\u001b[39m\"\u001b[39m, \u001b[39mNone\u001b[39;00m)\n\u001b[0;32m   6812\u001b[0m _v \u001b[39m=\u001b[39m yaxis \u001b[39mif\u001b[39;00m yaxis \u001b[39mis\u001b[39;00m \u001b[39mnot\u001b[39;00m \u001b[39mNone\u001b[39;00m \u001b[39melse\u001b[39;00m _v\n",
      "File \u001b[1;32mc:\\Users\\ADMIN\\AppData\\Local\\Programs\\Python\\Python311\\Lib\\site-packages\\plotly\\basedatatypes.py:5875\u001b[0m, in \u001b[0;36mBaseLayoutType.__setitem__\u001b[1;34m(self, prop, value)\u001b[0m\n\u001b[0;32m   5872\u001b[0m match \u001b[39m=\u001b[39m \u001b[39mself\u001b[39m\u001b[39m.\u001b[39m_subplot_re_match(prop)\n\u001b[0;32m   5873\u001b[0m \u001b[39mif\u001b[39;00m match \u001b[39mis\u001b[39;00m \u001b[39mNone\u001b[39;00m:\n\u001b[0;32m   5874\u001b[0m     \u001b[39m# Set as ordinary property\u001b[39;00m\n\u001b[1;32m-> 5875\u001b[0m     \u001b[39msuper\u001b[39;49m(BaseLayoutHierarchyType, \u001b[39mself\u001b[39;49m)\u001b[39m.\u001b[39;49m\u001b[39m__setitem__\u001b[39;49m(prop, value)\n\u001b[0;32m   5876\u001b[0m \u001b[39melse\u001b[39;00m:\n\u001b[0;32m   5877\u001b[0m     \u001b[39m# Set as subplotid property\u001b[39;00m\n\u001b[0;32m   5878\u001b[0m     \u001b[39mself\u001b[39m\u001b[39m.\u001b[39m_set_subplotid_prop(prop, value)\n",
      "File \u001b[1;32mc:\\Users\\ADMIN\\AppData\\Local\\Programs\\Python\\Python311\\Lib\\site-packages\\plotly\\basedatatypes.py:4865\u001b[0m, in \u001b[0;36mBasePlotlyType.__setitem__\u001b[1;34m(self, prop, value)\u001b[0m\n\u001b[0;32m   4863\u001b[0m \u001b[39m# ### Handle compound property ###\u001b[39;00m\n\u001b[0;32m   4864\u001b[0m \u001b[39mif\u001b[39;00m \u001b[39misinstance\u001b[39m(validator, CompoundValidator):\n\u001b[1;32m-> 4865\u001b[0m     \u001b[39mself\u001b[39;49m\u001b[39m.\u001b[39;49m_set_compound_prop(prop, value)\n\u001b[0;32m   4867\u001b[0m \u001b[39m# ### Handle compound array property ###\u001b[39;00m\n\u001b[0;32m   4868\u001b[0m \u001b[39melif\u001b[39;00m \u001b[39misinstance\u001b[39m(validator, (CompoundArrayValidator, BaseDataValidator)):\n",
      "File \u001b[1;32mc:\\Users\\ADMIN\\AppData\\Local\\Programs\\Python\\Python311\\Lib\\site-packages\\plotly\\basedatatypes.py:5276\u001b[0m, in \u001b[0;36mBasePlotlyType._set_compound_prop\u001b[1;34m(self, prop, val)\u001b[0m\n\u001b[0;32m   5273\u001b[0m \u001b[39m# Import value\u001b[39;00m\n\u001b[0;32m   5274\u001b[0m \u001b[39m# ------------\u001b[39;00m\n\u001b[0;32m   5275\u001b[0m validator \u001b[39m=\u001b[39m \u001b[39mself\u001b[39m\u001b[39m.\u001b[39m_get_validator(prop)\n\u001b[1;32m-> 5276\u001b[0m val \u001b[39m=\u001b[39m validator\u001b[39m.\u001b[39;49mvalidate_coerce(val, skip_invalid\u001b[39m=\u001b[39;49m\u001b[39mself\u001b[39;49m\u001b[39m.\u001b[39;49m_skip_invalid)\n\u001b[0;32m   5278\u001b[0m \u001b[39m# Save deep copies of current and new states\u001b[39;00m\n\u001b[0;32m   5279\u001b[0m \u001b[39m# ------------------------------------------\u001b[39;00m\n\u001b[0;32m   5280\u001b[0m curr_val \u001b[39m=\u001b[39m \u001b[39mself\u001b[39m\u001b[39m.\u001b[39m_compound_props\u001b[39m.\u001b[39mget(prop, \u001b[39mNone\u001b[39;00m)\n",
      "File \u001b[1;32mc:\\Users\\ADMIN\\AppData\\Local\\Programs\\Python\\Python311\\Lib\\site-packages\\_plotly_utils\\basevalidators.py:2484\u001b[0m, in \u001b[0;36mCompoundValidator.validate_coerce\u001b[1;34m(self, v, skip_invalid, _validate)\u001b[0m\n\u001b[0;32m   2482\u001b[0m         v \u001b[39m=\u001b[39m \u001b[39mself\u001b[39m\u001b[39m.\u001b[39mdata_class()\n\u001b[0;32m   2483\u001b[0m     \u001b[39melse\u001b[39;00m:\n\u001b[1;32m-> 2484\u001b[0m         \u001b[39mself\u001b[39;49m\u001b[39m.\u001b[39;49mraise_invalid_val(v)\n\u001b[0;32m   2486\u001b[0m v\u001b[39m.\u001b[39m_plotly_name \u001b[39m=\u001b[39m \u001b[39mself\u001b[39m\u001b[39m.\u001b[39mplotly_name\n\u001b[0;32m   2487\u001b[0m \u001b[39mreturn\u001b[39;00m v\n",
      "File \u001b[1;32mc:\\Users\\ADMIN\\AppData\\Local\\Programs\\Python\\Python311\\Lib\\site-packages\\_plotly_utils\\basevalidators.py:287\u001b[0m, in \u001b[0;36mBaseValidator.raise_invalid_val\u001b[1;34m(self, v, inds)\u001b[0m\n\u001b[0;32m    284\u001b[0m             \u001b[39mfor\u001b[39;00m i \u001b[39min\u001b[39;00m inds:\n\u001b[0;32m    285\u001b[0m                 name \u001b[39m+\u001b[39m\u001b[39m=\u001b[39m \u001b[39m\"\u001b[39m\u001b[39m[\u001b[39m\u001b[39m\"\u001b[39m \u001b[39m+\u001b[39m \u001b[39mstr\u001b[39m(i) \u001b[39m+\u001b[39m \u001b[39m\"\u001b[39m\u001b[39m]\u001b[39m\u001b[39m\"\u001b[39m\n\u001b[1;32m--> 287\u001b[0m         \u001b[39mraise\u001b[39;00m \u001b[39mValueError\u001b[39;00m(\n\u001b[0;32m    288\u001b[0m \u001b[39m            \u001b[39m\u001b[39m\"\"\"\u001b[39;00m\n\u001b[0;32m    289\u001b[0m \u001b[39m    Invalid value of type {typ} received for the '{name}' property of {pname}\u001b[39;00m\n\u001b[0;32m    290\u001b[0m \u001b[39m        Received value: {v}\u001b[39;00m\n\u001b[0;32m    291\u001b[0m \n\u001b[0;32m    292\u001b[0m \u001b[39m{valid_clr_desc}\"\"\"\u001b[39;00m\u001b[39m.\u001b[39mformat(\n\u001b[0;32m    293\u001b[0m                 name\u001b[39m=\u001b[39mname,\n\u001b[0;32m    294\u001b[0m                 pname\u001b[39m=\u001b[39m\u001b[39mself\u001b[39m\u001b[39m.\u001b[39mparent_name,\n\u001b[0;32m    295\u001b[0m                 typ\u001b[39m=\u001b[39mtype_str(v),\n\u001b[0;32m    296\u001b[0m                 v\u001b[39m=\u001b[39m\u001b[39mrepr\u001b[39m(v),\n\u001b[0;32m    297\u001b[0m                 valid_clr_desc\u001b[39m=\u001b[39m\u001b[39mself\u001b[39m\u001b[39m.\u001b[39mdescription(),\n\u001b[0;32m    298\u001b[0m             )\n\u001b[0;32m    299\u001b[0m         )\n",
      "\u001b[1;31mValueError\u001b[0m: \n    Invalid value of type 'builtins.str' received for the 'xaxis' property of layout\n        Received value: 'kjfahd'\n\n    The 'xaxis' property is an instance of XAxis\n    that may be specified as:\n      - An instance of :class:`plotly.graph_objs.layout.XAxis`\n      - A dict of string/value properties that will be passed\n        to the XAxis constructor\n\n        Supported dict properties:\n            \n            anchor\n                If set to an opposite-letter axis id (e.g.\n                `x2`, `y`), this axis is bound to the\n                corresponding opposite-letter axis. If set to\n                \"free\", this axis' position is determined by\n                `position`.\n            automargin\n                Determines whether long tick labels\n                automatically grow the figure margins.\n            autorange\n                Determines whether or not the range of this\n                axis is computed in relation to the input data.\n                See `rangemode` for more info. If `range` is\n                provided, then `autorange` is set to False.\n            autotypenumbers\n                Using \"strict\" a numeric string in trace data\n                is not converted to a number. Using *convert\n                types* a numeric string in trace data may be\n                treated as a number during automatic axis\n                `type` detection. Defaults to\n                layout.autotypenumbers.\n            calendar\n                Sets the calendar system to use for `range` and\n                `tick0` if this is a date axis. This does not\n                set the calendar for interpreting data on this\n                axis, that's specified in the trace or via the\n                global `layout.calendar`\n            categoryarray\n                Sets the order in which categories on this axis\n                appear. Only has an effect if `categoryorder`\n                is set to \"array\". Used with `categoryorder`.\n            categoryarraysrc\n                Sets the source reference on Chart Studio Cloud\n                for `categoryarray`.\n            categoryorder\n                Specifies the ordering logic for the case of\n                categorical variables. By default, plotly uses\n                \"trace\", which specifies the order that is\n                present in the data supplied. Set\n                `categoryorder` to *category ascending* or\n                *category descending* if order should be\n                determined by the alphanumerical order of the\n                category names. Set `categoryorder` to \"array\"\n                to derive the ordering from the attribute\n                `categoryarray`. If a category is not found in\n                the `categoryarray` array, the sorting behavior\n                for that attribute will be identical to the\n                \"trace\" mode. The unspecified categories will\n                follow the categories in `categoryarray`. Set\n                `categoryorder` to *total ascending* or *total\n                descending* if order should be determined by\n                the numerical order of the values. Similarly,\n                the order can be determined by the min, max,\n                sum, mean or median of all the values.\n            color\n                Sets default for all colors associated with\n                this axis all at once: line, font, tick, and\n                grid colors. Grid color is lightened by\n                blending this with the plot background\n                Individual pieces can override this.\n            constrain\n                If this axis needs to be compressed (either due\n                to its own `scaleanchor` and `scaleratio` or\n                those of the other axis), determines how that\n                happens: by increasing the \"range\", or by\n                decreasing the \"domain\". Default is \"domain\"\n                for axes containing image traces, \"range\"\n                otherwise.\n            constraintoward\n                If this axis needs to be compressed (either due\n                to its own `scaleanchor` and `scaleratio` or\n                those of the other axis), determines which\n                direction we push the originally specified plot\n                area. Options are \"left\", \"center\" (default),\n                and \"right\" for x axes, and \"top\", \"middle\"\n                (default), and \"bottom\" for y axes.\n            dividercolor\n                Sets the color of the dividers Only has an\n                effect on \"multicategory\" axes.\n            dividerwidth\n                Sets the width (in px) of the dividers Only has\n                an effect on \"multicategory\" axes.\n            domain\n                Sets the domain of this axis (in plot\n                fraction).\n            dtick\n                Sets the step in-between ticks on this axis.\n                Use with `tick0`. Must be a positive number, or\n                special strings available to \"log\" and \"date\"\n                axes. If the axis `type` is \"log\", then ticks\n                are set every 10^(n*dtick) where n is the tick\n                number. For example, to set a tick mark at 1,\n                10, 100, 1000, ... set dtick to 1. To set tick\n                marks at 1, 100, 10000, ... set dtick to 2. To\n                set tick marks at 1, 5, 25, 125, 625, 3125, ...\n                set dtick to log_10(5), or 0.69897000433. \"log\"\n                has several special values; \"L<f>\", where `f`\n                is a positive number, gives ticks linearly\n                spaced in value (but not position). For example\n                `tick0` = 0.1, `dtick` = \"L0.5\" will put ticks\n                at 0.1, 0.6, 1.1, 1.6 etc. To show powers of 10\n                plus small digits between, use \"D1\" (all\n                digits) or \"D2\" (only 2 and 5). `tick0` is\n                ignored for \"D1\" and \"D2\". If the axis `type`\n                is \"date\", then you must convert the time to\n                milliseconds. For example, to set the interval\n                between ticks to one day, set `dtick` to\n                86400000.0. \"date\" also has special values\n                \"M<n>\" gives ticks spaced by a number of\n                months. `n` must be a positive integer. To set\n                ticks on the 15th of every third month, set\n                `tick0` to \"2000-01-15\" and `dtick` to \"M3\". To\n                set ticks every 4 years, set `dtick` to \"M48\"\n            exponentformat\n                Determines a formatting rule for the tick\n                exponents. For example, consider the number\n                1,000,000,000. If \"none\", it appears as\n                1,000,000,000. If \"e\", 1e+9. If \"E\", 1E+9. If\n                \"power\", 1x10^9 (with 9 in a super script). If\n                \"SI\", 1G. If \"B\", 1B.\n            fixedrange\n                Determines whether or not this axis is zoom-\n                able. If true, then zoom is disabled.\n            gridcolor\n                Sets the color of the grid lines.\n            griddash\n                Sets the dash style of lines. Set to a dash\n                type string (\"solid\", \"dot\", \"dash\",\n                \"longdash\", \"dashdot\", or \"longdashdot\") or a\n                dash length list in px (eg \"5px,10px,2px,2px\").\n            gridwidth\n                Sets the width (in px) of the grid lines.\n            hoverformat\n                Sets the hover text formatting rule using d3\n                formatting mini-languages which are very\n                similar to those in Python. For numbers, see: h\n                ttps://github.com/d3/d3-format/tree/v1.4.5#d3-\n                format. And for dates see:\n                https://github.com/d3/d3-time-\n                format/tree/v2.2.3#locale_format. We add two\n                items to d3's date formatter: \"%h\" for half of\n                the year as a decimal number as well as \"%{n}f\"\n                for fractional seconds with n digits. For\n                example, *2016-10-13 09:15:23.456* with\n                tickformat \"%H~%M~%S.%2f\" would display\n                \"09~15~23.46\"\n            labelalias\n                Replacement text for specific tick or hover\n                labels. For example using {US: 'USA', CA:\n                'Canada'} changes US to USA and CA to Canada.\n                The labels we would have shown must match the\n                keys exactly, after adding any tickprefix or\n                ticksuffix. labelalias can be used with any\n                axis type, and both keys (if needed) and values\n                (if desired) can include html-like tags or\n                MathJax.\n            layer\n                Sets the layer on which this axis is displayed.\n                If *above traces*, this axis is displayed above\n                all the subplot's traces If *below traces*,\n                this axis is displayed below all the subplot's\n                traces, but above the grid lines. Useful when\n                used together with scatter-like traces with\n                `cliponaxis` set to False to show markers\n                and/or text nodes above this axis.\n            linecolor\n                Sets the axis line color.\n            linewidth\n                Sets the width (in px) of the axis line.\n            matches\n                If set to another axis id (e.g. `x2`, `y`), the\n                range of this axis will match the range of the\n                corresponding axis in data-coordinates space.\n                Moreover, matching axes share auto-range\n                values, category lists and histogram auto-bins.\n                Note that setting axes simultaneously in both a\n                `scaleanchor` and a `matches` constraint is\n                currently forbidden. Moreover, note that\n                matching axes must have the same `type`.\n            minexponent\n                Hide SI prefix for 10^n if |n| is below this\n                number. This only has an effect when\n                `tickformat` is \"SI\" or \"B\".\n            minor\n                :class:`plotly.graph_objects.layout.xaxis.Minor\n                ` instance or dict with compatible properties\n            mirror\n                Determines if the axis lines or/and ticks are\n                mirrored to the opposite side of the plotting\n                area. If True, the axis lines are mirrored. If\n                \"ticks\", the axis lines and ticks are mirrored.\n                If False, mirroring is disable. If \"all\", axis\n                lines are mirrored on all shared-axes subplots.\n                If \"allticks\", axis lines and ticks are\n                mirrored on all shared-axes subplots.\n            nticks\n                Specifies the maximum number of ticks for the\n                particular axis. The actual number of ticks\n                will be chosen automatically to be less than or\n                equal to `nticks`. Has an effect only if\n                `tickmode` is set to \"auto\".\n            overlaying\n                If set a same-letter axis id, this axis is\n                overlaid on top of the corresponding same-\n                letter axis, with traces and axes visible for\n                both axes. If False, this axis does not overlay\n                any same-letter axes. In this case, for axes\n                with overlapping domains only the highest-\n                numbered axis will be visible.\n            position\n                Sets the position of this axis in the plotting\n                space (in normalized coordinates). Only has an\n                effect if `anchor` is set to \"free\".\n            range\n                Sets the range of this axis. If the axis `type`\n                is \"log\", then you must take the log of your\n                desired range (e.g. to set the range from 1 to\n                100, set the range from 0 to 2). If the axis\n                `type` is \"date\", it should be date strings,\n                like date data, though Date objects and unix\n                milliseconds will be accepted and converted to\n                strings. If the axis `type` is \"category\", it\n                should be numbers, using the scale where each\n                category is assigned a serial number from zero\n                in the order it appears.\n            rangebreaks\n                A tuple of :class:`plotly.graph_objects.layout.\n                xaxis.Rangebreak` instances or dicts with\n                compatible properties\n            rangebreakdefaults\n                When used in a template (as layout.template.lay\n                out.xaxis.rangebreakdefaults), sets the default\n                property values to use for elements of\n                layout.xaxis.rangebreaks\n            rangemode\n                If \"normal\", the range is computed in relation\n                to the extrema of the input data. If *tozero*`,\n                the range extends to 0, regardless of the input\n                data If \"nonnegative\", the range is non-\n                negative, regardless of the input data. Applies\n                only to linear axes.\n            rangeselector\n                :class:`plotly.graph_objects.layout.xaxis.Range\n                selector` instance or dict with compatible\n                properties\n            rangeslider\n                :class:`plotly.graph_objects.layout.xaxis.Range\n                slider` instance or dict with compatible\n                properties\n            scaleanchor\n                If set to another axis id (e.g. `x2`, `y`), the\n                range of this axis changes together with the\n                range of the corresponding axis such that the\n                scale of pixels per unit is in a constant\n                ratio. Both axes are still zoomable, but when\n                you zoom one, the other will zoom the same\n                amount, keeping a fixed midpoint. `constrain`\n                and `constraintoward` determine how we enforce\n                the constraint. You can chain these, ie `yaxis:\n                {scaleanchor: *x*}, xaxis2: {scaleanchor: *y*}`\n                but you can only link axes of the same `type`.\n                The linked axis can have the opposite letter\n                (to constrain the aspect ratio) or the same\n                letter (to match scales across subplots). Loops\n                (`yaxis: {scaleanchor: *x*}, xaxis:\n                {scaleanchor: *y*}` or longer) are redundant\n                and the last constraint encountered will be\n                ignored to avoid possible inconsistent\n                constraints via `scaleratio`. Note that setting\n                axes simultaneously in both a `scaleanchor` and\n                a `matches` constraint is currently forbidden.\n            scaleratio\n                If this axis is linked to another by\n                `scaleanchor`, this determines the pixel to\n                unit scale ratio. For example, if this value is\n                10, then every unit on this axis spans 10 times\n                the number of pixels as a unit on the linked\n                axis. Use this for example to create an\n                elevation profile where the vertical scale is\n                exaggerated a fixed amount with respect to the\n                horizontal.\n            separatethousands\n                If \"true\", even 4-digit integers are separated\n            showdividers\n                Determines whether or not a dividers are drawn\n                between the category levels of this axis. Only\n                has an effect on \"multicategory\" axes.\n            showexponent\n                If \"all\", all exponents are shown besides their\n                significands. If \"first\", only the exponent of\n                the first tick is shown. If \"last\", only the\n                exponent of the last tick is shown. If \"none\",\n                no exponents appear.\n            showgrid\n                Determines whether or not grid lines are drawn.\n                If True, the grid lines are drawn at every tick\n                mark.\n            showline\n                Determines whether or not a line bounding this\n                axis is drawn.\n            showspikes\n                Determines whether or not spikes (aka\n                droplines) are drawn for this axis. Note: This\n                only takes affect when hovermode = closest\n            showticklabels\n                Determines whether or not the tick labels are\n                drawn.\n            showtickprefix\n                If \"all\", all tick labels are displayed with a\n                prefix. If \"first\", only the first tick is\n                displayed with a prefix. If \"last\", only the\n                last tick is displayed with a suffix. If\n                \"none\", tick prefixes are hidden.\n            showticksuffix\n                Same as `showtickprefix` but for tick suffixes.\n            side\n                Determines whether a x (y) axis is positioned\n                at the \"bottom\" (\"left\") or \"top\" (\"right\") of\n                the plotting area.\n            spikecolor\n                Sets the spike color. If undefined, will use\n                the series color\n            spikedash\n                Sets the dash style of lines. Set to a dash\n                type string (\"solid\", \"dot\", \"dash\",\n                \"longdash\", \"dashdot\", or \"longdashdot\") or a\n                dash length list in px (eg \"5px,10px,2px,2px\").\n            spikemode\n                Determines the drawing mode for the spike line\n                If \"toaxis\", the line is drawn from the data\n                point to the axis the  series is plotted on. If\n                \"across\", the line is drawn across the entire\n                plot area, and supercedes \"toaxis\". If\n                \"marker\", then a marker dot is drawn on the\n                axis the series is plotted on\n            spikesnap\n                Determines whether spikelines are stuck to the\n                cursor or to the closest datapoints.\n            spikethickness\n                Sets the width (in px) of the zero line.\n            tick0\n                Sets the placement of the first tick on this\n                axis. Use with `dtick`. If the axis `type` is\n                \"log\", then you must take the log of your\n                starting tick (e.g. to set the starting tick to\n                100, set the `tick0` to 2) except when\n                `dtick`=*L<f>* (see `dtick` for more info). If\n                the axis `type` is \"date\", it should be a date\n                string, like date data. If the axis `type` is\n                \"category\", it should be a number, using the\n                scale where each category is assigned a serial\n                number from zero in the order it appears.\n            tickangle\n                Sets the angle of the tick labels with respect\n                to the horizontal. For example, a `tickangle`\n                of -90 draws the tick labels vertically.\n            tickcolor\n                Sets the tick color.\n            tickfont\n                Sets the tick font.\n            tickformat\n                Sets the tick label formatting rule using d3\n                formatting mini-languages which are very\n                similar to those in Python. For numbers, see: h\n                ttps://github.com/d3/d3-format/tree/v1.4.5#d3-\n                format. And for dates see:\n                https://github.com/d3/d3-time-\n                format/tree/v2.2.3#locale_format. We add two\n                items to d3's date formatter: \"%h\" for half of\n                the year as a decimal number as well as \"%{n}f\"\n                for fractional seconds with n digits. For\n                example, *2016-10-13 09:15:23.456* with\n                tickformat \"%H~%M~%S.%2f\" would display\n                \"09~15~23.46\"\n            tickformatstops\n                A tuple of :class:`plotly.graph_objects.layout.\n                xaxis.Tickformatstop` instances or dicts with\n                compatible properties\n            tickformatstopdefaults\n                When used in a template (as layout.template.lay\n                out.xaxis.tickformatstopdefaults), sets the\n                default property values to use for elements of\n                layout.xaxis.tickformatstops\n            ticklabelmode\n                Determines where tick labels are drawn with\n                respect to their corresponding ticks and grid\n                lines. Only has an effect for axes of `type`\n                \"date\" When set to \"period\", tick labels are\n                drawn in the middle of the period between\n                ticks.\n            ticklabeloverflow\n                Determines how we handle tick labels that would\n                overflow either the graph div or the domain of\n                the axis. The default value for inside tick\n                labels is *hide past domain*. Otherwise on\n                \"category\" and \"multicategory\" axes the default\n                is \"allow\". In other cases the default is *hide\n                past div*.\n            ticklabelposition\n                Determines where tick labels are drawn with\n                respect to the axis Please note that top or\n                bottom has no effect on x axes or when\n                `ticklabelmode` is set to \"period\". Similarly\n                left or right has no effect on y axes or when\n                `ticklabelmode` is set to \"period\". Has no\n                effect on \"multicategory\" axes or when\n                `tickson` is set to \"boundaries\". When used on\n                axes linked by `matches` or `scaleanchor`, no\n                extra padding for inside labels would be added\n                by autorange, so that the scales could match.\n            ticklabelstep\n                Sets the spacing between tick labels as\n                compared to the spacing between ticks. A value\n                of 1 (default) means each tick gets a label. A\n                value of 2 means shows every 2nd label. A\n                larger value n means only every nth tick is\n                labeled. `tick0` determines which labels are\n                shown. Not implemented for axes with `type`\n                \"log\" or \"multicategory\", or when `tickmode` is\n                \"array\".\n            ticklen\n                Sets the tick length (in px).\n            tickmode\n                Sets the tick mode for this axis. If \"auto\",\n                the number of ticks is set via `nticks`. If\n                \"linear\", the placement of the ticks is\n                determined by a starting position `tick0` and a\n                tick step `dtick` (\"linear\" is the default\n                value if `tick0` and `dtick` are provided). If\n                \"array\", the placement of the ticks is set via\n                `tickvals` and the tick text is `ticktext`.\n                (\"array\" is the default value if `tickvals` is\n                provided). If \"sync\", the number of ticks will\n                sync with the overlayed axis set by\n                `overlaying` property.\n            tickprefix\n                Sets a tick label prefix.\n            ticks\n                Determines whether ticks are drawn or not. If\n                \"\", this axis' ticks are not drawn. If\n                \"outside\" (\"inside\"), this axis' are drawn\n                outside (inside) the axis lines.\n            tickson\n                Determines where ticks and grid lines are drawn\n                with respect to their corresponding tick\n                labels. Only has an effect for axes of `type`\n                \"category\" or \"multicategory\". When set to\n                \"boundaries\", ticks and grid lines are drawn\n                half a category to the left/bottom of labels.\n            ticksuffix\n                Sets a tick label suffix.\n            ticktext\n                Sets the text displayed at the ticks position\n                via `tickvals`. Only has an effect if\n                `tickmode` is set to \"array\". Used with\n                `tickvals`.\n            ticktextsrc\n                Sets the source reference on Chart Studio Cloud\n                for `ticktext`.\n            tickvals\n                Sets the values at which ticks on this axis\n                appear. Only has an effect if `tickmode` is set\n                to \"array\". Used with `ticktext`.\n            tickvalssrc\n                Sets the source reference on Chart Studio Cloud\n                for `tickvals`.\n            tickwidth\n                Sets the tick width (in px).\n            title\n                :class:`plotly.graph_objects.layout.xaxis.Title\n                ` instance or dict with compatible properties\n            titlefont\n                Deprecated: Please use layout.xaxis.title.font\n                instead. Sets this axis' title font. Note that\n                the title's font used to be customized by the\n                now deprecated `titlefont` attribute.\n            type\n                Sets the axis type. By default, plotly attempts\n                to determined the axis type by looking into the\n                data of the traces that referenced the axis in\n                question.\n            uirevision\n                Controls persistence of user-driven changes in\n                axis `range`, `autorange`, and `title` if in\n                `editable: true` configuration. Defaults to\n                `layout.uirevision`.\n            visible\n                A single toggle to hide the axis while\n                preserving interaction like dragging. Default\n                is true when a cheater plot is present on the\n                axis, otherwise false\n            zeroline\n                Determines whether or not a line is drawn at\n                along the 0 value of this axis. If True, the\n                zero line is drawn on top of the grid lines.\n            zerolinecolor\n                Sets the line color of the zero line.\n            zerolinewidth\n                Sets the width (in px) of the zero line.\n"
     ]
    }
   ],
   "source": [
    "df_revenue_subsegment_2018 = df_clustering_2018.groupby([\"sub_segment\"]).agg({\"payment_value_sum\": \"sum\"}).reset_index()\n",
    "df_revenue_subsegment_2018 = df_revenue_subsegment_2018.sort_values(by ='payment_value_sum', ascending= False)\n",
    "print(df_revenue_subsegment_2018)\n",
    "# configure_plotly_browser_state()\n",
    "trace0 = go.Bar(\n",
    "    x=df_revenue_subsegment_2018[\"sub_segment\"].values,\n",
    "    y=df_revenue_subsegment_2018[\"payment_value_sum\"].values,\n",
    "    marker=dict(\n",
    "        color=['rgba(36,123,160,1)', \n",
    "               'rgba(75,147,177,1)',\n",
    "               'rgba(112,193,179,1)', \n",
    "               'rgba(138,204,192,1)',\n",
    "               'rgba(243,255,189,1)',\n",
    "               'rgba(247,255,213,1)',\n",
    "               'rgba(255,22,84,1)']),\n",
    ")\n",
    "\n",
    "data = [trace0]\n",
    "\n",
    "layout = go.Layout(\n",
    "    title='Revenue 2018 by Customer Group',\n",
    "    \n",
    ")\n",
    "\n",
    "fig = go.Figure(data=data, layout=layout)\n",
    "py.iplot(fig)"
   ]
  },
  {
   "cell_type": "code",
   "execution_count": 13,
   "metadata": {},
   "outputs": [
    {
     "name": "stdout",
     "output_type": "stream",
     "text": [
      "                 sub_segment  customer_unique_id\n",
      "0  active_high_payment_value               13693\n",
      "1   active_low_payment_value               12811\n",
      "2    cold_high_payment_value                1501\n",
      "3     cold_low_payment_value                1928\n",
      "4     hot_high_payment_value                5493\n",
      "5      hot_low_payment_value                5886\n",
      "6                   inactive                 418\n"
     ]
    }
   ],
   "source": [
    "df_customer_number = df_clustering_2018.groupby(['sub_segment'])['customer_unique_id'].count().reset_index()\n",
    "print(df_customer_number)"
   ]
  },
  {
   "cell_type": "code",
   "execution_count": 14,
   "metadata": {},
   "outputs": [
    {
     "data": {
      "application/vnd.plotly.v1+json": {
       "config": {
        "linkText": "Export to plot.ly",
        "plotlyServerURL": "https://plot.ly",
        "showLink": false
       },
       "data": [
        {
         "marker": {
          "color": [
           "rgba(36,123,160,1)",
           "rgba(75,147,177,1)",
           "rgba(112,193,179,1)",
           "rgba(138,204,192,1)",
           "rgba(243,255,189,1)",
           "rgba(247,255,213,1)",
           "rgba(255,22,84,1)"
          ]
         },
         "type": "bar",
         "x": [
          "active_high_payment_value",
          "active_low_payment_value",
          "cold_high_payment_value",
          "cold_low_payment_value",
          "hot_high_payment_value",
          "hot_low_payment_value",
          "inactive"
         ],
         "y": [
          13693,
          12811,
          1501,
          1928,
          5493,
          5886,
          418
         ]
        }
       ],
       "layout": {
        "template": {
         "data": {
          "bar": [
           {
            "error_x": {
             "color": "#2a3f5f"
            },
            "error_y": {
             "color": "#2a3f5f"
            },
            "marker": {
             "line": {
              "color": "#E5ECF6",
              "width": 0.5
             },
             "pattern": {
              "fillmode": "overlay",
              "size": 10,
              "solidity": 0.2
             }
            },
            "type": "bar"
           }
          ],
          "barpolar": [
           {
            "marker": {
             "line": {
              "color": "#E5ECF6",
              "width": 0.5
             },
             "pattern": {
              "fillmode": "overlay",
              "size": 10,
              "solidity": 0.2
             }
            },
            "type": "barpolar"
           }
          ],
          "carpet": [
           {
            "aaxis": {
             "endlinecolor": "#2a3f5f",
             "gridcolor": "white",
             "linecolor": "white",
             "minorgridcolor": "white",
             "startlinecolor": "#2a3f5f"
            },
            "baxis": {
             "endlinecolor": "#2a3f5f",
             "gridcolor": "white",
             "linecolor": "white",
             "minorgridcolor": "white",
             "startlinecolor": "#2a3f5f"
            },
            "type": "carpet"
           }
          ],
          "choropleth": [
           {
            "colorbar": {
             "outlinewidth": 0,
             "ticks": ""
            },
            "type": "choropleth"
           }
          ],
          "contour": [
           {
            "colorbar": {
             "outlinewidth": 0,
             "ticks": ""
            },
            "colorscale": [
             [
              0,
              "#0d0887"
             ],
             [
              0.1111111111111111,
              "#46039f"
             ],
             [
              0.2222222222222222,
              "#7201a8"
             ],
             [
              0.3333333333333333,
              "#9c179e"
             ],
             [
              0.4444444444444444,
              "#bd3786"
             ],
             [
              0.5555555555555556,
              "#d8576b"
             ],
             [
              0.6666666666666666,
              "#ed7953"
             ],
             [
              0.7777777777777778,
              "#fb9f3a"
             ],
             [
              0.8888888888888888,
              "#fdca26"
             ],
             [
              1,
              "#f0f921"
             ]
            ],
            "type": "contour"
           }
          ],
          "contourcarpet": [
           {
            "colorbar": {
             "outlinewidth": 0,
             "ticks": ""
            },
            "type": "contourcarpet"
           }
          ],
          "heatmap": [
           {
            "colorbar": {
             "outlinewidth": 0,
             "ticks": ""
            },
            "colorscale": [
             [
              0,
              "#0d0887"
             ],
             [
              0.1111111111111111,
              "#46039f"
             ],
             [
              0.2222222222222222,
              "#7201a8"
             ],
             [
              0.3333333333333333,
              "#9c179e"
             ],
             [
              0.4444444444444444,
              "#bd3786"
             ],
             [
              0.5555555555555556,
              "#d8576b"
             ],
             [
              0.6666666666666666,
              "#ed7953"
             ],
             [
              0.7777777777777778,
              "#fb9f3a"
             ],
             [
              0.8888888888888888,
              "#fdca26"
             ],
             [
              1,
              "#f0f921"
             ]
            ],
            "type": "heatmap"
           }
          ],
          "heatmapgl": [
           {
            "colorbar": {
             "outlinewidth": 0,
             "ticks": ""
            },
            "colorscale": [
             [
              0,
              "#0d0887"
             ],
             [
              0.1111111111111111,
              "#46039f"
             ],
             [
              0.2222222222222222,
              "#7201a8"
             ],
             [
              0.3333333333333333,
              "#9c179e"
             ],
             [
              0.4444444444444444,
              "#bd3786"
             ],
             [
              0.5555555555555556,
              "#d8576b"
             ],
             [
              0.6666666666666666,
              "#ed7953"
             ],
             [
              0.7777777777777778,
              "#fb9f3a"
             ],
             [
              0.8888888888888888,
              "#fdca26"
             ],
             [
              1,
              "#f0f921"
             ]
            ],
            "type": "heatmapgl"
           }
          ],
          "histogram": [
           {
            "marker": {
             "pattern": {
              "fillmode": "overlay",
              "size": 10,
              "solidity": 0.2
             }
            },
            "type": "histogram"
           }
          ],
          "histogram2d": [
           {
            "colorbar": {
             "outlinewidth": 0,
             "ticks": ""
            },
            "colorscale": [
             [
              0,
              "#0d0887"
             ],
             [
              0.1111111111111111,
              "#46039f"
             ],
             [
              0.2222222222222222,
              "#7201a8"
             ],
             [
              0.3333333333333333,
              "#9c179e"
             ],
             [
              0.4444444444444444,
              "#bd3786"
             ],
             [
              0.5555555555555556,
              "#d8576b"
             ],
             [
              0.6666666666666666,
              "#ed7953"
             ],
             [
              0.7777777777777778,
              "#fb9f3a"
             ],
             [
              0.8888888888888888,
              "#fdca26"
             ],
             [
              1,
              "#f0f921"
             ]
            ],
            "type": "histogram2d"
           }
          ],
          "histogram2dcontour": [
           {
            "colorbar": {
             "outlinewidth": 0,
             "ticks": ""
            },
            "colorscale": [
             [
              0,
              "#0d0887"
             ],
             [
              0.1111111111111111,
              "#46039f"
             ],
             [
              0.2222222222222222,
              "#7201a8"
             ],
             [
              0.3333333333333333,
              "#9c179e"
             ],
             [
              0.4444444444444444,
              "#bd3786"
             ],
             [
              0.5555555555555556,
              "#d8576b"
             ],
             [
              0.6666666666666666,
              "#ed7953"
             ],
             [
              0.7777777777777778,
              "#fb9f3a"
             ],
             [
              0.8888888888888888,
              "#fdca26"
             ],
             [
              1,
              "#f0f921"
             ]
            ],
            "type": "histogram2dcontour"
           }
          ],
          "mesh3d": [
           {
            "colorbar": {
             "outlinewidth": 0,
             "ticks": ""
            },
            "type": "mesh3d"
           }
          ],
          "parcoords": [
           {
            "line": {
             "colorbar": {
              "outlinewidth": 0,
              "ticks": ""
             }
            },
            "type": "parcoords"
           }
          ],
          "pie": [
           {
            "automargin": true,
            "type": "pie"
           }
          ],
          "scatter": [
           {
            "fillpattern": {
             "fillmode": "overlay",
             "size": 10,
             "solidity": 0.2
            },
            "type": "scatter"
           }
          ],
          "scatter3d": [
           {
            "line": {
             "colorbar": {
              "outlinewidth": 0,
              "ticks": ""
             }
            },
            "marker": {
             "colorbar": {
              "outlinewidth": 0,
              "ticks": ""
             }
            },
            "type": "scatter3d"
           }
          ],
          "scattercarpet": [
           {
            "marker": {
             "colorbar": {
              "outlinewidth": 0,
              "ticks": ""
             }
            },
            "type": "scattercarpet"
           }
          ],
          "scattergeo": [
           {
            "marker": {
             "colorbar": {
              "outlinewidth": 0,
              "ticks": ""
             }
            },
            "type": "scattergeo"
           }
          ],
          "scattergl": [
           {
            "marker": {
             "colorbar": {
              "outlinewidth": 0,
              "ticks": ""
             }
            },
            "type": "scattergl"
           }
          ],
          "scattermapbox": [
           {
            "marker": {
             "colorbar": {
              "outlinewidth": 0,
              "ticks": ""
             }
            },
            "type": "scattermapbox"
           }
          ],
          "scatterpolar": [
           {
            "marker": {
             "colorbar": {
              "outlinewidth": 0,
              "ticks": ""
             }
            },
            "type": "scatterpolar"
           }
          ],
          "scatterpolargl": [
           {
            "marker": {
             "colorbar": {
              "outlinewidth": 0,
              "ticks": ""
             }
            },
            "type": "scatterpolargl"
           }
          ],
          "scatterternary": [
           {
            "marker": {
             "colorbar": {
              "outlinewidth": 0,
              "ticks": ""
             }
            },
            "type": "scatterternary"
           }
          ],
          "surface": [
           {
            "colorbar": {
             "outlinewidth": 0,
             "ticks": ""
            },
            "colorscale": [
             [
              0,
              "#0d0887"
             ],
             [
              0.1111111111111111,
              "#46039f"
             ],
             [
              0.2222222222222222,
              "#7201a8"
             ],
             [
              0.3333333333333333,
              "#9c179e"
             ],
             [
              0.4444444444444444,
              "#bd3786"
             ],
             [
              0.5555555555555556,
              "#d8576b"
             ],
             [
              0.6666666666666666,
              "#ed7953"
             ],
             [
              0.7777777777777778,
              "#fb9f3a"
             ],
             [
              0.8888888888888888,
              "#fdca26"
             ],
             [
              1,
              "#f0f921"
             ]
            ],
            "type": "surface"
           }
          ],
          "table": [
           {
            "cells": {
             "fill": {
              "color": "#EBF0F8"
             },
             "line": {
              "color": "white"
             }
            },
            "header": {
             "fill": {
              "color": "#C8D4E3"
             },
             "line": {
              "color": "white"
             }
            },
            "type": "table"
           }
          ]
         },
         "layout": {
          "annotationdefaults": {
           "arrowcolor": "#2a3f5f",
           "arrowhead": 0,
           "arrowwidth": 1
          },
          "autotypenumbers": "strict",
          "coloraxis": {
           "colorbar": {
            "outlinewidth": 0,
            "ticks": ""
           }
          },
          "colorscale": {
           "diverging": [
            [
             0,
             "#8e0152"
            ],
            [
             0.1,
             "#c51b7d"
            ],
            [
             0.2,
             "#de77ae"
            ],
            [
             0.3,
             "#f1b6da"
            ],
            [
             0.4,
             "#fde0ef"
            ],
            [
             0.5,
             "#f7f7f7"
            ],
            [
             0.6,
             "#e6f5d0"
            ],
            [
             0.7,
             "#b8e186"
            ],
            [
             0.8,
             "#7fbc41"
            ],
            [
             0.9,
             "#4d9221"
            ],
            [
             1,
             "#276419"
            ]
           ],
           "sequential": [
            [
             0,
             "#0d0887"
            ],
            [
             0.1111111111111111,
             "#46039f"
            ],
            [
             0.2222222222222222,
             "#7201a8"
            ],
            [
             0.3333333333333333,
             "#9c179e"
            ],
            [
             0.4444444444444444,
             "#bd3786"
            ],
            [
             0.5555555555555556,
             "#d8576b"
            ],
            [
             0.6666666666666666,
             "#ed7953"
            ],
            [
             0.7777777777777778,
             "#fb9f3a"
            ],
            [
             0.8888888888888888,
             "#fdca26"
            ],
            [
             1,
             "#f0f921"
            ]
           ],
           "sequentialminus": [
            [
             0,
             "#0d0887"
            ],
            [
             0.1111111111111111,
             "#46039f"
            ],
            [
             0.2222222222222222,
             "#7201a8"
            ],
            [
             0.3333333333333333,
             "#9c179e"
            ],
            [
             0.4444444444444444,
             "#bd3786"
            ],
            [
             0.5555555555555556,
             "#d8576b"
            ],
            [
             0.6666666666666666,
             "#ed7953"
            ],
            [
             0.7777777777777778,
             "#fb9f3a"
            ],
            [
             0.8888888888888888,
             "#fdca26"
            ],
            [
             1,
             "#f0f921"
            ]
           ]
          },
          "colorway": [
           "#636efa",
           "#EF553B",
           "#00cc96",
           "#ab63fa",
           "#FFA15A",
           "#19d3f3",
           "#FF6692",
           "#B6E880",
           "#FF97FF",
           "#FECB52"
          ],
          "font": {
           "color": "#2a3f5f"
          },
          "geo": {
           "bgcolor": "white",
           "lakecolor": "white",
           "landcolor": "#E5ECF6",
           "showlakes": true,
           "showland": true,
           "subunitcolor": "white"
          },
          "hoverlabel": {
           "align": "left"
          },
          "hovermode": "closest",
          "mapbox": {
           "style": "light"
          },
          "paper_bgcolor": "white",
          "plot_bgcolor": "#E5ECF6",
          "polar": {
           "angularaxis": {
            "gridcolor": "white",
            "linecolor": "white",
            "ticks": ""
           },
           "bgcolor": "#E5ECF6",
           "radialaxis": {
            "gridcolor": "white",
            "linecolor": "white",
            "ticks": ""
           }
          },
          "scene": {
           "xaxis": {
            "backgroundcolor": "#E5ECF6",
            "gridcolor": "white",
            "gridwidth": 2,
            "linecolor": "white",
            "showbackground": true,
            "ticks": "",
            "zerolinecolor": "white"
           },
           "yaxis": {
            "backgroundcolor": "#E5ECF6",
            "gridcolor": "white",
            "gridwidth": 2,
            "linecolor": "white",
            "showbackground": true,
            "ticks": "",
            "zerolinecolor": "white"
           },
           "zaxis": {
            "backgroundcolor": "#E5ECF6",
            "gridcolor": "white",
            "gridwidth": 2,
            "linecolor": "white",
            "showbackground": true,
            "ticks": "",
            "zerolinecolor": "white"
           }
          },
          "shapedefaults": {
           "line": {
            "color": "#2a3f5f"
           }
          },
          "ternary": {
           "aaxis": {
            "gridcolor": "white",
            "linecolor": "white",
            "ticks": ""
           },
           "baxis": {
            "gridcolor": "white",
            "linecolor": "white",
            "ticks": ""
           },
           "bgcolor": "#E5ECF6",
           "caxis": {
            "gridcolor": "white",
            "linecolor": "white",
            "ticks": ""
           }
          },
          "title": {
           "x": 0.05
          },
          "xaxis": {
           "automargin": true,
           "gridcolor": "white",
           "linecolor": "white",
           "ticks": "",
           "title": {
            "standoff": 15
           },
           "zerolinecolor": "white",
           "zerolinewidth": 2
          },
          "yaxis": {
           "automargin": true,
           "gridcolor": "white",
           "linecolor": "white",
           "ticks": "",
           "title": {
            "standoff": 15
           },
           "zerolinecolor": "white",
           "zerolinewidth": 2
          }
         }
        },
        "title": {
         "text": "Customer Amount 2018"
        }
       }
      }
     },
     "metadata": {},
     "output_type": "display_data"
    }
   ],
   "source": [
    "trace0 = go.Bar(\n",
    "    x=df_customer_number[\"sub_segment\"].values,\n",
    "    y=df_customer_number[\"customer_unique_id\"],\n",
    "    marker=dict(\n",
    "        color=['rgba(36,123,160,1)', \n",
    "               'rgba(75,147,177,1)',\n",
    "               'rgba(112,193,179,1)', \n",
    "               'rgba(138,204,192,1)',\n",
    "               'rgba(243,255,189,1)',\n",
    "               'rgba(247,255,213,1)',\n",
    "               'rgba(255,22,84,1)']),\n",
    ")\n",
    "\n",
    "data = [trace0]\n",
    "\n",
    "layout = go.Layout(\n",
    "    title='Customer Amount 2018',\n",
    "    # xaxis= 'Segment',\n",
    "    # yaxis= 'Quantity'\n",
    ")\n",
    "\n",
    "fig = go.Figure(data=data, layout=layout)\n",
    "py.iplot(fig)"
   ]
  },
  {
   "cell_type": "code",
   "execution_count": 15,
   "metadata": {},
   "outputs": [
    {
     "data": {
      "text/html": [
       "<div>\n",
       "<style scoped>\n",
       "    .dataframe tbody tr th:only-of-type {\n",
       "        vertical-align: middle;\n",
       "    }\n",
       "\n",
       "    .dataframe tbody tr th {\n",
       "        vertical-align: top;\n",
       "    }\n",
       "\n",
       "    .dataframe thead th {\n",
       "        text-align: right;\n",
       "    }\n",
       "</style>\n",
       "<table border=\"1\" class=\"dataframe\">\n",
       "  <thead>\n",
       "    <tr style=\"text-align: right;\">\n",
       "      <th></th>\n",
       "      <th>sub_segment</th>\n",
       "      <th>order_purchase_qty</th>\n",
       "    </tr>\n",
       "  </thead>\n",
       "  <tbody>\n",
       "    <tr>\n",
       "      <th>0</th>\n",
       "      <td>active_high_payment_value</td>\n",
       "      <td>38847</td>\n",
       "    </tr>\n",
       "    <tr>\n",
       "      <th>1</th>\n",
       "      <td>active_low_payment_value</td>\n",
       "      <td>34616</td>\n",
       "    </tr>\n",
       "    <tr>\n",
       "      <th>5</th>\n",
       "      <td>hot_low_payment_value</td>\n",
       "      <td>11251</td>\n",
       "    </tr>\n",
       "    <tr>\n",
       "      <th>4</th>\n",
       "      <td>hot_high_payment_value</td>\n",
       "      <td>11149</td>\n",
       "    </tr>\n",
       "    <tr>\n",
       "      <th>3</th>\n",
       "      <td>cold_low_payment_value</td>\n",
       "      <td>2628</td>\n",
       "    </tr>\n",
       "    <tr>\n",
       "      <th>2</th>\n",
       "      <td>cold_high_payment_value</td>\n",
       "      <td>2044</td>\n",
       "    </tr>\n",
       "    <tr>\n",
       "      <th>6</th>\n",
       "      <td>inactive</td>\n",
       "      <td>458</td>\n",
       "    </tr>\n",
       "  </tbody>\n",
       "</table>\n",
       "</div>"
      ],
      "text/plain": [
       "                 sub_segment  order_purchase_qty\n",
       "0  active_high_payment_value               38847\n",
       "1   active_low_payment_value               34616\n",
       "5      hot_low_payment_value               11251\n",
       "4     hot_high_payment_value               11149\n",
       "3     cold_low_payment_value                2628\n",
       "2    cold_high_payment_value                2044\n",
       "6                   inactive                 458"
      ]
     },
     "execution_count": 15,
     "metadata": {},
     "output_type": "execute_result"
    }
   ],
   "source": [
    "#tổng số lượng đơn của từng lượng khách hàng\n",
    "\n",
    "df_clustering_sum_2018_qty = df_clustering_2018.groupby([\"sub_segment\"]).agg({\"order_purchase_qty\": \"sum\"}).reset_index()\n",
    "df_clustering_sum_2018_qty = df_clustering_sum_2018_qty.sort_values(by ='order_purchase_qty', ascending= False)\n",
    "\n",
    "df_clustering_sum_2018_qty\n"
   ]
  },
  {
   "cell_type": "code",
   "execution_count": 16,
   "metadata": {},
   "outputs": [
    {
     "data": {
      "application/vnd.plotly.v1+json": {
       "config": {
        "linkText": "Export to plot.ly",
        "plotlyServerURL": "https://plot.ly",
        "showLink": false
       },
       "data": [
        {
         "marker": {
          "color": [
           "rgba(36,123,160,1)",
           "rgba(75,147,177,1)",
           "rgba(112,193,179,1)",
           "rgba(138,204,192,1)",
           "rgba(243,255,189,1)",
           "rgba(247,255,213,1)",
           "rgba(255,22,84,1)"
          ]
         },
         "type": "bar",
         "x": [
          "active_high_payment_value",
          "active_low_payment_value",
          "hot_low_payment_value",
          "hot_high_payment_value",
          "cold_low_payment_value",
          "cold_high_payment_value",
          "inactive"
         ],
         "y": [
          38847,
          34616,
          11251,
          11149,
          2628,
          2044,
          458
         ]
        }
       ],
       "layout": {
        "template": {
         "data": {
          "bar": [
           {
            "error_x": {
             "color": "#2a3f5f"
            },
            "error_y": {
             "color": "#2a3f5f"
            },
            "marker": {
             "line": {
              "color": "#E5ECF6",
              "width": 0.5
             },
             "pattern": {
              "fillmode": "overlay",
              "size": 10,
              "solidity": 0.2
             }
            },
            "type": "bar"
           }
          ],
          "barpolar": [
           {
            "marker": {
             "line": {
              "color": "#E5ECF6",
              "width": 0.5
             },
             "pattern": {
              "fillmode": "overlay",
              "size": 10,
              "solidity": 0.2
             }
            },
            "type": "barpolar"
           }
          ],
          "carpet": [
           {
            "aaxis": {
             "endlinecolor": "#2a3f5f",
             "gridcolor": "white",
             "linecolor": "white",
             "minorgridcolor": "white",
             "startlinecolor": "#2a3f5f"
            },
            "baxis": {
             "endlinecolor": "#2a3f5f",
             "gridcolor": "white",
             "linecolor": "white",
             "minorgridcolor": "white",
             "startlinecolor": "#2a3f5f"
            },
            "type": "carpet"
           }
          ],
          "choropleth": [
           {
            "colorbar": {
             "outlinewidth": 0,
             "ticks": ""
            },
            "type": "choropleth"
           }
          ],
          "contour": [
           {
            "colorbar": {
             "outlinewidth": 0,
             "ticks": ""
            },
            "colorscale": [
             [
              0,
              "#0d0887"
             ],
             [
              0.1111111111111111,
              "#46039f"
             ],
             [
              0.2222222222222222,
              "#7201a8"
             ],
             [
              0.3333333333333333,
              "#9c179e"
             ],
             [
              0.4444444444444444,
              "#bd3786"
             ],
             [
              0.5555555555555556,
              "#d8576b"
             ],
             [
              0.6666666666666666,
              "#ed7953"
             ],
             [
              0.7777777777777778,
              "#fb9f3a"
             ],
             [
              0.8888888888888888,
              "#fdca26"
             ],
             [
              1,
              "#f0f921"
             ]
            ],
            "type": "contour"
           }
          ],
          "contourcarpet": [
           {
            "colorbar": {
             "outlinewidth": 0,
             "ticks": ""
            },
            "type": "contourcarpet"
           }
          ],
          "heatmap": [
           {
            "colorbar": {
             "outlinewidth": 0,
             "ticks": ""
            },
            "colorscale": [
             [
              0,
              "#0d0887"
             ],
             [
              0.1111111111111111,
              "#46039f"
             ],
             [
              0.2222222222222222,
              "#7201a8"
             ],
             [
              0.3333333333333333,
              "#9c179e"
             ],
             [
              0.4444444444444444,
              "#bd3786"
             ],
             [
              0.5555555555555556,
              "#d8576b"
             ],
             [
              0.6666666666666666,
              "#ed7953"
             ],
             [
              0.7777777777777778,
              "#fb9f3a"
             ],
             [
              0.8888888888888888,
              "#fdca26"
             ],
             [
              1,
              "#f0f921"
             ]
            ],
            "type": "heatmap"
           }
          ],
          "heatmapgl": [
           {
            "colorbar": {
             "outlinewidth": 0,
             "ticks": ""
            },
            "colorscale": [
             [
              0,
              "#0d0887"
             ],
             [
              0.1111111111111111,
              "#46039f"
             ],
             [
              0.2222222222222222,
              "#7201a8"
             ],
             [
              0.3333333333333333,
              "#9c179e"
             ],
             [
              0.4444444444444444,
              "#bd3786"
             ],
             [
              0.5555555555555556,
              "#d8576b"
             ],
             [
              0.6666666666666666,
              "#ed7953"
             ],
             [
              0.7777777777777778,
              "#fb9f3a"
             ],
             [
              0.8888888888888888,
              "#fdca26"
             ],
             [
              1,
              "#f0f921"
             ]
            ],
            "type": "heatmapgl"
           }
          ],
          "histogram": [
           {
            "marker": {
             "pattern": {
              "fillmode": "overlay",
              "size": 10,
              "solidity": 0.2
             }
            },
            "type": "histogram"
           }
          ],
          "histogram2d": [
           {
            "colorbar": {
             "outlinewidth": 0,
             "ticks": ""
            },
            "colorscale": [
             [
              0,
              "#0d0887"
             ],
             [
              0.1111111111111111,
              "#46039f"
             ],
             [
              0.2222222222222222,
              "#7201a8"
             ],
             [
              0.3333333333333333,
              "#9c179e"
             ],
             [
              0.4444444444444444,
              "#bd3786"
             ],
             [
              0.5555555555555556,
              "#d8576b"
             ],
             [
              0.6666666666666666,
              "#ed7953"
             ],
             [
              0.7777777777777778,
              "#fb9f3a"
             ],
             [
              0.8888888888888888,
              "#fdca26"
             ],
             [
              1,
              "#f0f921"
             ]
            ],
            "type": "histogram2d"
           }
          ],
          "histogram2dcontour": [
           {
            "colorbar": {
             "outlinewidth": 0,
             "ticks": ""
            },
            "colorscale": [
             [
              0,
              "#0d0887"
             ],
             [
              0.1111111111111111,
              "#46039f"
             ],
             [
              0.2222222222222222,
              "#7201a8"
             ],
             [
              0.3333333333333333,
              "#9c179e"
             ],
             [
              0.4444444444444444,
              "#bd3786"
             ],
             [
              0.5555555555555556,
              "#d8576b"
             ],
             [
              0.6666666666666666,
              "#ed7953"
             ],
             [
              0.7777777777777778,
              "#fb9f3a"
             ],
             [
              0.8888888888888888,
              "#fdca26"
             ],
             [
              1,
              "#f0f921"
             ]
            ],
            "type": "histogram2dcontour"
           }
          ],
          "mesh3d": [
           {
            "colorbar": {
             "outlinewidth": 0,
             "ticks": ""
            },
            "type": "mesh3d"
           }
          ],
          "parcoords": [
           {
            "line": {
             "colorbar": {
              "outlinewidth": 0,
              "ticks": ""
             }
            },
            "type": "parcoords"
           }
          ],
          "pie": [
           {
            "automargin": true,
            "type": "pie"
           }
          ],
          "scatter": [
           {
            "fillpattern": {
             "fillmode": "overlay",
             "size": 10,
             "solidity": 0.2
            },
            "type": "scatter"
           }
          ],
          "scatter3d": [
           {
            "line": {
             "colorbar": {
              "outlinewidth": 0,
              "ticks": ""
             }
            },
            "marker": {
             "colorbar": {
              "outlinewidth": 0,
              "ticks": ""
             }
            },
            "type": "scatter3d"
           }
          ],
          "scattercarpet": [
           {
            "marker": {
             "colorbar": {
              "outlinewidth": 0,
              "ticks": ""
             }
            },
            "type": "scattercarpet"
           }
          ],
          "scattergeo": [
           {
            "marker": {
             "colorbar": {
              "outlinewidth": 0,
              "ticks": ""
             }
            },
            "type": "scattergeo"
           }
          ],
          "scattergl": [
           {
            "marker": {
             "colorbar": {
              "outlinewidth": 0,
              "ticks": ""
             }
            },
            "type": "scattergl"
           }
          ],
          "scattermapbox": [
           {
            "marker": {
             "colorbar": {
              "outlinewidth": 0,
              "ticks": ""
             }
            },
            "type": "scattermapbox"
           }
          ],
          "scatterpolar": [
           {
            "marker": {
             "colorbar": {
              "outlinewidth": 0,
              "ticks": ""
             }
            },
            "type": "scatterpolar"
           }
          ],
          "scatterpolargl": [
           {
            "marker": {
             "colorbar": {
              "outlinewidth": 0,
              "ticks": ""
             }
            },
            "type": "scatterpolargl"
           }
          ],
          "scatterternary": [
           {
            "marker": {
             "colorbar": {
              "outlinewidth": 0,
              "ticks": ""
             }
            },
            "type": "scatterternary"
           }
          ],
          "surface": [
           {
            "colorbar": {
             "outlinewidth": 0,
             "ticks": ""
            },
            "colorscale": [
             [
              0,
              "#0d0887"
             ],
             [
              0.1111111111111111,
              "#46039f"
             ],
             [
              0.2222222222222222,
              "#7201a8"
             ],
             [
              0.3333333333333333,
              "#9c179e"
             ],
             [
              0.4444444444444444,
              "#bd3786"
             ],
             [
              0.5555555555555556,
              "#d8576b"
             ],
             [
              0.6666666666666666,
              "#ed7953"
             ],
             [
              0.7777777777777778,
              "#fb9f3a"
             ],
             [
              0.8888888888888888,
              "#fdca26"
             ],
             [
              1,
              "#f0f921"
             ]
            ],
            "type": "surface"
           }
          ],
          "table": [
           {
            "cells": {
             "fill": {
              "color": "#EBF0F8"
             },
             "line": {
              "color": "white"
             }
            },
            "header": {
             "fill": {
              "color": "#C8D4E3"
             },
             "line": {
              "color": "white"
             }
            },
            "type": "table"
           }
          ]
         },
         "layout": {
          "annotationdefaults": {
           "arrowcolor": "#2a3f5f",
           "arrowhead": 0,
           "arrowwidth": 1
          },
          "autotypenumbers": "strict",
          "coloraxis": {
           "colorbar": {
            "outlinewidth": 0,
            "ticks": ""
           }
          },
          "colorscale": {
           "diverging": [
            [
             0,
             "#8e0152"
            ],
            [
             0.1,
             "#c51b7d"
            ],
            [
             0.2,
             "#de77ae"
            ],
            [
             0.3,
             "#f1b6da"
            ],
            [
             0.4,
             "#fde0ef"
            ],
            [
             0.5,
             "#f7f7f7"
            ],
            [
             0.6,
             "#e6f5d0"
            ],
            [
             0.7,
             "#b8e186"
            ],
            [
             0.8,
             "#7fbc41"
            ],
            [
             0.9,
             "#4d9221"
            ],
            [
             1,
             "#276419"
            ]
           ],
           "sequential": [
            [
             0,
             "#0d0887"
            ],
            [
             0.1111111111111111,
             "#46039f"
            ],
            [
             0.2222222222222222,
             "#7201a8"
            ],
            [
             0.3333333333333333,
             "#9c179e"
            ],
            [
             0.4444444444444444,
             "#bd3786"
            ],
            [
             0.5555555555555556,
             "#d8576b"
            ],
            [
             0.6666666666666666,
             "#ed7953"
            ],
            [
             0.7777777777777778,
             "#fb9f3a"
            ],
            [
             0.8888888888888888,
             "#fdca26"
            ],
            [
             1,
             "#f0f921"
            ]
           ],
           "sequentialminus": [
            [
             0,
             "#0d0887"
            ],
            [
             0.1111111111111111,
             "#46039f"
            ],
            [
             0.2222222222222222,
             "#7201a8"
            ],
            [
             0.3333333333333333,
             "#9c179e"
            ],
            [
             0.4444444444444444,
             "#bd3786"
            ],
            [
             0.5555555555555556,
             "#d8576b"
            ],
            [
             0.6666666666666666,
             "#ed7953"
            ],
            [
             0.7777777777777778,
             "#fb9f3a"
            ],
            [
             0.8888888888888888,
             "#fdca26"
            ],
            [
             1,
             "#f0f921"
            ]
           ]
          },
          "colorway": [
           "#636efa",
           "#EF553B",
           "#00cc96",
           "#ab63fa",
           "#FFA15A",
           "#19d3f3",
           "#FF6692",
           "#B6E880",
           "#FF97FF",
           "#FECB52"
          ],
          "font": {
           "color": "#2a3f5f"
          },
          "geo": {
           "bgcolor": "white",
           "lakecolor": "white",
           "landcolor": "#E5ECF6",
           "showlakes": true,
           "showland": true,
           "subunitcolor": "white"
          },
          "hoverlabel": {
           "align": "left"
          },
          "hovermode": "closest",
          "mapbox": {
           "style": "light"
          },
          "paper_bgcolor": "white",
          "plot_bgcolor": "#E5ECF6",
          "polar": {
           "angularaxis": {
            "gridcolor": "white",
            "linecolor": "white",
            "ticks": ""
           },
           "bgcolor": "#E5ECF6",
           "radialaxis": {
            "gridcolor": "white",
            "linecolor": "white",
            "ticks": ""
           }
          },
          "scene": {
           "xaxis": {
            "backgroundcolor": "#E5ECF6",
            "gridcolor": "white",
            "gridwidth": 2,
            "linecolor": "white",
            "showbackground": true,
            "ticks": "",
            "zerolinecolor": "white"
           },
           "yaxis": {
            "backgroundcolor": "#E5ECF6",
            "gridcolor": "white",
            "gridwidth": 2,
            "linecolor": "white",
            "showbackground": true,
            "ticks": "",
            "zerolinecolor": "white"
           },
           "zaxis": {
            "backgroundcolor": "#E5ECF6",
            "gridcolor": "white",
            "gridwidth": 2,
            "linecolor": "white",
            "showbackground": true,
            "ticks": "",
            "zerolinecolor": "white"
           }
          },
          "shapedefaults": {
           "line": {
            "color": "#2a3f5f"
           }
          },
          "ternary": {
           "aaxis": {
            "gridcolor": "white",
            "linecolor": "white",
            "ticks": ""
           },
           "baxis": {
            "gridcolor": "white",
            "linecolor": "white",
            "ticks": ""
           },
           "bgcolor": "#E5ECF6",
           "caxis": {
            "gridcolor": "white",
            "linecolor": "white",
            "ticks": ""
           }
          },
          "title": {
           "x": 0.05
          },
          "xaxis": {
           "automargin": true,
           "gridcolor": "white",
           "linecolor": "white",
           "ticks": "",
           "title": {
            "standoff": 15
           },
           "zerolinecolor": "white",
           "zerolinewidth": 2
          },
          "yaxis": {
           "automargin": true,
           "gridcolor": "white",
           "linecolor": "white",
           "ticks": "",
           "title": {
            "standoff": 15
           },
           "zerolinecolor": "white",
           "zerolinewidth": 2
          }
         }
        },
        "title": {
         "text": "Total Purchase Amount 2018"
        }
       }
      }
     },
     "metadata": {},
     "output_type": "display_data"
    }
   ],
   "source": [
    "# configure_plotly_browser_state()\n",
    "trace0 = go.Bar(\n",
    "    x=df_clustering_sum_2018_qty[\"sub_segment\"].values,\n",
    "    y=df_clustering_sum_2018_qty[\"order_purchase_qty\"].values,\n",
    "    marker=dict(\n",
    "        color=['rgba(36,123,160,1)', \n",
    "               'rgba(75,147,177,1)',\n",
    "               'rgba(112,193,179,1)', \n",
    "               'rgba(138,204,192,1)',\n",
    "               'rgba(243,255,189,1)',\n",
    "               'rgba(247,255,213,1)',\n",
    "               'rgba(255,22,84,1)']),\n",
    ")\n",
    "\n",
    "data = [trace0]\n",
    "\n",
    "layout = go.Layout(\n",
    "    title='Total Purchase Amount 2018',\n",
    "    # xaxis= 'Segment',\n",
    "    # yaxis= 'Quantity'\n",
    ")\n",
    "\n",
    "fig = go.Figure(data=data, layout=layout)\n",
    "py.iplot(fig)"
   ]
  },
  {
   "cell_type": "code",
   "execution_count": 17,
   "metadata": {},
   "outputs": [
    {
     "data": {
      "text/html": [
       "<div>\n",
       "<style scoped>\n",
       "    .dataframe tbody tr th:only-of-type {\n",
       "        vertical-align: middle;\n",
       "    }\n",
       "\n",
       "    .dataframe tbody tr th {\n",
       "        vertical-align: top;\n",
       "    }\n",
       "\n",
       "    .dataframe thead th {\n",
       "        text-align: right;\n",
       "    }\n",
       "</style>\n",
       "<table border=\"1\" class=\"dataframe\">\n",
       "  <thead>\n",
       "    <tr style=\"text-align: right;\">\n",
       "      <th></th>\n",
       "      <th>sub_segment</th>\n",
       "      <th>order_purchase_qty</th>\n",
       "    </tr>\n",
       "  </thead>\n",
       "  <tbody>\n",
       "    <tr>\n",
       "      <th>0</th>\n",
       "      <td>active_high_payment_value</td>\n",
       "      <td>11361</td>\n",
       "    </tr>\n",
       "    <tr>\n",
       "      <th>1</th>\n",
       "      <td>active_low_payment_value</td>\n",
       "      <td>10154</td>\n",
       "    </tr>\n",
       "    <tr>\n",
       "      <th>4</th>\n",
       "      <td>hot_high_payment_value</td>\n",
       "      <td>3502</td>\n",
       "    </tr>\n",
       "    <tr>\n",
       "      <th>5</th>\n",
       "      <td>hot_low_payment_value</td>\n",
       "      <td>3281</td>\n",
       "    </tr>\n",
       "    <tr>\n",
       "      <th>3</th>\n",
       "      <td>cold_low_payment_value</td>\n",
       "      <td>516</td>\n",
       "    </tr>\n",
       "    <tr>\n",
       "      <th>2</th>\n",
       "      <td>cold_high_payment_value</td>\n",
       "      <td>427</td>\n",
       "    </tr>\n",
       "    <tr>\n",
       "      <th>6</th>\n",
       "      <td>inactive</td>\n",
       "      <td>26</td>\n",
       "    </tr>\n",
       "  </tbody>\n",
       "</table>\n",
       "</div>"
      ],
      "text/plain": [
       "                 sub_segment  order_purchase_qty\n",
       "0  active_high_payment_value               11361\n",
       "1   active_low_payment_value               10154\n",
       "4     hot_high_payment_value                3502\n",
       "5      hot_low_payment_value                3281\n",
       "3     cold_low_payment_value                 516\n",
       "2    cold_high_payment_value                 427\n",
       "6                   inactive                  26"
      ]
     },
     "execution_count": 17,
     "metadata": {},
     "output_type": "execute_result"
    }
   ],
   "source": [
    "# số lượng khách hàng mua lại lần 2\n",
    "df_clustering_2018_qty = df_clustering_2018.loc[df_clustering_2018[\"order_purchase_qty\"] > 1]\n",
    "df_qty_subsegment_2018 = df_clustering_2018_qty.groupby([\"sub_segment\"]).agg({\"order_purchase_qty\": \"count\"}).reset_index()\n",
    "df_qty_subsegment_2018 = df_qty_subsegment_2018.sort_values(by='order_purchase_qty', ascending= False)\n",
    "df_qty_subsegment_2018"
   ]
  },
  {
   "cell_type": "code",
   "execution_count": 18,
   "metadata": {},
   "outputs": [
    {
     "data": {
      "application/vnd.plotly.v1+json": {
       "config": {
        "linkText": "Export to plot.ly",
        "plotlyServerURL": "https://plot.ly",
        "showLink": false
       },
       "data": [
        {
         "marker": {
          "color": [
           "rgba(36,123,160,1)",
           "rgba(75,147,177,1)",
           "rgba(112,193,179,1)",
           "rgba(138,204,192,1)",
           "rgba(243,255,189,1)",
           "rgba(247,255,213,1)",
           "rgba(255,22,84,1)"
          ]
         },
         "type": "bar",
         "x": [
          "active_high_payment_value",
          "active_low_payment_value",
          "hot_high_payment_value",
          "hot_low_payment_value",
          "cold_low_payment_value",
          "cold_high_payment_value",
          "inactive"
         ],
         "y": [
          11361,
          10154,
          3502,
          3281,
          516,
          427,
          26
         ]
        }
       ],
       "layout": {
        "template": {
         "data": {
          "bar": [
           {
            "error_x": {
             "color": "#2a3f5f"
            },
            "error_y": {
             "color": "#2a3f5f"
            },
            "marker": {
             "line": {
              "color": "#E5ECF6",
              "width": 0.5
             },
             "pattern": {
              "fillmode": "overlay",
              "size": 10,
              "solidity": 0.2
             }
            },
            "type": "bar"
           }
          ],
          "barpolar": [
           {
            "marker": {
             "line": {
              "color": "#E5ECF6",
              "width": 0.5
             },
             "pattern": {
              "fillmode": "overlay",
              "size": 10,
              "solidity": 0.2
             }
            },
            "type": "barpolar"
           }
          ],
          "carpet": [
           {
            "aaxis": {
             "endlinecolor": "#2a3f5f",
             "gridcolor": "white",
             "linecolor": "white",
             "minorgridcolor": "white",
             "startlinecolor": "#2a3f5f"
            },
            "baxis": {
             "endlinecolor": "#2a3f5f",
             "gridcolor": "white",
             "linecolor": "white",
             "minorgridcolor": "white",
             "startlinecolor": "#2a3f5f"
            },
            "type": "carpet"
           }
          ],
          "choropleth": [
           {
            "colorbar": {
             "outlinewidth": 0,
             "ticks": ""
            },
            "type": "choropleth"
           }
          ],
          "contour": [
           {
            "colorbar": {
             "outlinewidth": 0,
             "ticks": ""
            },
            "colorscale": [
             [
              0,
              "#0d0887"
             ],
             [
              0.1111111111111111,
              "#46039f"
             ],
             [
              0.2222222222222222,
              "#7201a8"
             ],
             [
              0.3333333333333333,
              "#9c179e"
             ],
             [
              0.4444444444444444,
              "#bd3786"
             ],
             [
              0.5555555555555556,
              "#d8576b"
             ],
             [
              0.6666666666666666,
              "#ed7953"
             ],
             [
              0.7777777777777778,
              "#fb9f3a"
             ],
             [
              0.8888888888888888,
              "#fdca26"
             ],
             [
              1,
              "#f0f921"
             ]
            ],
            "type": "contour"
           }
          ],
          "contourcarpet": [
           {
            "colorbar": {
             "outlinewidth": 0,
             "ticks": ""
            },
            "type": "contourcarpet"
           }
          ],
          "heatmap": [
           {
            "colorbar": {
             "outlinewidth": 0,
             "ticks": ""
            },
            "colorscale": [
             [
              0,
              "#0d0887"
             ],
             [
              0.1111111111111111,
              "#46039f"
             ],
             [
              0.2222222222222222,
              "#7201a8"
             ],
             [
              0.3333333333333333,
              "#9c179e"
             ],
             [
              0.4444444444444444,
              "#bd3786"
             ],
             [
              0.5555555555555556,
              "#d8576b"
             ],
             [
              0.6666666666666666,
              "#ed7953"
             ],
             [
              0.7777777777777778,
              "#fb9f3a"
             ],
             [
              0.8888888888888888,
              "#fdca26"
             ],
             [
              1,
              "#f0f921"
             ]
            ],
            "type": "heatmap"
           }
          ],
          "heatmapgl": [
           {
            "colorbar": {
             "outlinewidth": 0,
             "ticks": ""
            },
            "colorscale": [
             [
              0,
              "#0d0887"
             ],
             [
              0.1111111111111111,
              "#46039f"
             ],
             [
              0.2222222222222222,
              "#7201a8"
             ],
             [
              0.3333333333333333,
              "#9c179e"
             ],
             [
              0.4444444444444444,
              "#bd3786"
             ],
             [
              0.5555555555555556,
              "#d8576b"
             ],
             [
              0.6666666666666666,
              "#ed7953"
             ],
             [
              0.7777777777777778,
              "#fb9f3a"
             ],
             [
              0.8888888888888888,
              "#fdca26"
             ],
             [
              1,
              "#f0f921"
             ]
            ],
            "type": "heatmapgl"
           }
          ],
          "histogram": [
           {
            "marker": {
             "pattern": {
              "fillmode": "overlay",
              "size": 10,
              "solidity": 0.2
             }
            },
            "type": "histogram"
           }
          ],
          "histogram2d": [
           {
            "colorbar": {
             "outlinewidth": 0,
             "ticks": ""
            },
            "colorscale": [
             [
              0,
              "#0d0887"
             ],
             [
              0.1111111111111111,
              "#46039f"
             ],
             [
              0.2222222222222222,
              "#7201a8"
             ],
             [
              0.3333333333333333,
              "#9c179e"
             ],
             [
              0.4444444444444444,
              "#bd3786"
             ],
             [
              0.5555555555555556,
              "#d8576b"
             ],
             [
              0.6666666666666666,
              "#ed7953"
             ],
             [
              0.7777777777777778,
              "#fb9f3a"
             ],
             [
              0.8888888888888888,
              "#fdca26"
             ],
             [
              1,
              "#f0f921"
             ]
            ],
            "type": "histogram2d"
           }
          ],
          "histogram2dcontour": [
           {
            "colorbar": {
             "outlinewidth": 0,
             "ticks": ""
            },
            "colorscale": [
             [
              0,
              "#0d0887"
             ],
             [
              0.1111111111111111,
              "#46039f"
             ],
             [
              0.2222222222222222,
              "#7201a8"
             ],
             [
              0.3333333333333333,
              "#9c179e"
             ],
             [
              0.4444444444444444,
              "#bd3786"
             ],
             [
              0.5555555555555556,
              "#d8576b"
             ],
             [
              0.6666666666666666,
              "#ed7953"
             ],
             [
              0.7777777777777778,
              "#fb9f3a"
             ],
             [
              0.8888888888888888,
              "#fdca26"
             ],
             [
              1,
              "#f0f921"
             ]
            ],
            "type": "histogram2dcontour"
           }
          ],
          "mesh3d": [
           {
            "colorbar": {
             "outlinewidth": 0,
             "ticks": ""
            },
            "type": "mesh3d"
           }
          ],
          "parcoords": [
           {
            "line": {
             "colorbar": {
              "outlinewidth": 0,
              "ticks": ""
             }
            },
            "type": "parcoords"
           }
          ],
          "pie": [
           {
            "automargin": true,
            "type": "pie"
           }
          ],
          "scatter": [
           {
            "fillpattern": {
             "fillmode": "overlay",
             "size": 10,
             "solidity": 0.2
            },
            "type": "scatter"
           }
          ],
          "scatter3d": [
           {
            "line": {
             "colorbar": {
              "outlinewidth": 0,
              "ticks": ""
             }
            },
            "marker": {
             "colorbar": {
              "outlinewidth": 0,
              "ticks": ""
             }
            },
            "type": "scatter3d"
           }
          ],
          "scattercarpet": [
           {
            "marker": {
             "colorbar": {
              "outlinewidth": 0,
              "ticks": ""
             }
            },
            "type": "scattercarpet"
           }
          ],
          "scattergeo": [
           {
            "marker": {
             "colorbar": {
              "outlinewidth": 0,
              "ticks": ""
             }
            },
            "type": "scattergeo"
           }
          ],
          "scattergl": [
           {
            "marker": {
             "colorbar": {
              "outlinewidth": 0,
              "ticks": ""
             }
            },
            "type": "scattergl"
           }
          ],
          "scattermapbox": [
           {
            "marker": {
             "colorbar": {
              "outlinewidth": 0,
              "ticks": ""
             }
            },
            "type": "scattermapbox"
           }
          ],
          "scatterpolar": [
           {
            "marker": {
             "colorbar": {
              "outlinewidth": 0,
              "ticks": ""
             }
            },
            "type": "scatterpolar"
           }
          ],
          "scatterpolargl": [
           {
            "marker": {
             "colorbar": {
              "outlinewidth": 0,
              "ticks": ""
             }
            },
            "type": "scatterpolargl"
           }
          ],
          "scatterternary": [
           {
            "marker": {
             "colorbar": {
              "outlinewidth": 0,
              "ticks": ""
             }
            },
            "type": "scatterternary"
           }
          ],
          "surface": [
           {
            "colorbar": {
             "outlinewidth": 0,
             "ticks": ""
            },
            "colorscale": [
             [
              0,
              "#0d0887"
             ],
             [
              0.1111111111111111,
              "#46039f"
             ],
             [
              0.2222222222222222,
              "#7201a8"
             ],
             [
              0.3333333333333333,
              "#9c179e"
             ],
             [
              0.4444444444444444,
              "#bd3786"
             ],
             [
              0.5555555555555556,
              "#d8576b"
             ],
             [
              0.6666666666666666,
              "#ed7953"
             ],
             [
              0.7777777777777778,
              "#fb9f3a"
             ],
             [
              0.8888888888888888,
              "#fdca26"
             ],
             [
              1,
              "#f0f921"
             ]
            ],
            "type": "surface"
           }
          ],
          "table": [
           {
            "cells": {
             "fill": {
              "color": "#EBF0F8"
             },
             "line": {
              "color": "white"
             }
            },
            "header": {
             "fill": {
              "color": "#C8D4E3"
             },
             "line": {
              "color": "white"
             }
            },
            "type": "table"
           }
          ]
         },
         "layout": {
          "annotationdefaults": {
           "arrowcolor": "#2a3f5f",
           "arrowhead": 0,
           "arrowwidth": 1
          },
          "autotypenumbers": "strict",
          "coloraxis": {
           "colorbar": {
            "outlinewidth": 0,
            "ticks": ""
           }
          },
          "colorscale": {
           "diverging": [
            [
             0,
             "#8e0152"
            ],
            [
             0.1,
             "#c51b7d"
            ],
            [
             0.2,
             "#de77ae"
            ],
            [
             0.3,
             "#f1b6da"
            ],
            [
             0.4,
             "#fde0ef"
            ],
            [
             0.5,
             "#f7f7f7"
            ],
            [
             0.6,
             "#e6f5d0"
            ],
            [
             0.7,
             "#b8e186"
            ],
            [
             0.8,
             "#7fbc41"
            ],
            [
             0.9,
             "#4d9221"
            ],
            [
             1,
             "#276419"
            ]
           ],
           "sequential": [
            [
             0,
             "#0d0887"
            ],
            [
             0.1111111111111111,
             "#46039f"
            ],
            [
             0.2222222222222222,
             "#7201a8"
            ],
            [
             0.3333333333333333,
             "#9c179e"
            ],
            [
             0.4444444444444444,
             "#bd3786"
            ],
            [
             0.5555555555555556,
             "#d8576b"
            ],
            [
             0.6666666666666666,
             "#ed7953"
            ],
            [
             0.7777777777777778,
             "#fb9f3a"
            ],
            [
             0.8888888888888888,
             "#fdca26"
            ],
            [
             1,
             "#f0f921"
            ]
           ],
           "sequentialminus": [
            [
             0,
             "#0d0887"
            ],
            [
             0.1111111111111111,
             "#46039f"
            ],
            [
             0.2222222222222222,
             "#7201a8"
            ],
            [
             0.3333333333333333,
             "#9c179e"
            ],
            [
             0.4444444444444444,
             "#bd3786"
            ],
            [
             0.5555555555555556,
             "#d8576b"
            ],
            [
             0.6666666666666666,
             "#ed7953"
            ],
            [
             0.7777777777777778,
             "#fb9f3a"
            ],
            [
             0.8888888888888888,
             "#fdca26"
            ],
            [
             1,
             "#f0f921"
            ]
           ]
          },
          "colorway": [
           "#636efa",
           "#EF553B",
           "#00cc96",
           "#ab63fa",
           "#FFA15A",
           "#19d3f3",
           "#FF6692",
           "#B6E880",
           "#FF97FF",
           "#FECB52"
          ],
          "font": {
           "color": "#2a3f5f"
          },
          "geo": {
           "bgcolor": "white",
           "lakecolor": "white",
           "landcolor": "#E5ECF6",
           "showlakes": true,
           "showland": true,
           "subunitcolor": "white"
          },
          "hoverlabel": {
           "align": "left"
          },
          "hovermode": "closest",
          "mapbox": {
           "style": "light"
          },
          "paper_bgcolor": "white",
          "plot_bgcolor": "#E5ECF6",
          "polar": {
           "angularaxis": {
            "gridcolor": "white",
            "linecolor": "white",
            "ticks": ""
           },
           "bgcolor": "#E5ECF6",
           "radialaxis": {
            "gridcolor": "white",
            "linecolor": "white",
            "ticks": ""
           }
          },
          "scene": {
           "xaxis": {
            "backgroundcolor": "#E5ECF6",
            "gridcolor": "white",
            "gridwidth": 2,
            "linecolor": "white",
            "showbackground": true,
            "ticks": "",
            "zerolinecolor": "white"
           },
           "yaxis": {
            "backgroundcolor": "#E5ECF6",
            "gridcolor": "white",
            "gridwidth": 2,
            "linecolor": "white",
            "showbackground": true,
            "ticks": "",
            "zerolinecolor": "white"
           },
           "zaxis": {
            "backgroundcolor": "#E5ECF6",
            "gridcolor": "white",
            "gridwidth": 2,
            "linecolor": "white",
            "showbackground": true,
            "ticks": "",
            "zerolinecolor": "white"
           }
          },
          "shapedefaults": {
           "line": {
            "color": "#2a3f5f"
           }
          },
          "ternary": {
           "aaxis": {
            "gridcolor": "white",
            "linecolor": "white",
            "ticks": ""
           },
           "baxis": {
            "gridcolor": "white",
            "linecolor": "white",
            "ticks": ""
           },
           "bgcolor": "#E5ECF6",
           "caxis": {
            "gridcolor": "white",
            "linecolor": "white",
            "ticks": ""
           }
          },
          "title": {
           "x": 0.05
          },
          "xaxis": {
           "automargin": true,
           "gridcolor": "white",
           "linecolor": "white",
           "ticks": "",
           "title": {
            "standoff": 15
           },
           "zerolinecolor": "white",
           "zerolinewidth": 2
          },
          "yaxis": {
           "automargin": true,
           "gridcolor": "white",
           "linecolor": "white",
           "ticks": "",
           "title": {
            "standoff": 15
           },
           "zerolinecolor": "white",
           "zerolinewidth": 2
          }
         }
        },
        "title": {
         "text": "Repurchase Amount 2018"
        }
       }
      }
     },
     "metadata": {},
     "output_type": "display_data"
    }
   ],
   "source": [
    "# configure_plotly_browser_state()\n",
    "trace0 = go.Bar(\n",
    "    x=df_qty_subsegment_2018[\"sub_segment\"].values,\n",
    "    y=df_qty_subsegment_2018[\"order_purchase_qty\"].values,\n",
    "    marker=dict(\n",
    "        color=['rgba(36,123,160,1)', \n",
    "               'rgba(75,147,177,1)',\n",
    "               'rgba(112,193,179,1)', \n",
    "               'rgba(138,204,192,1)',\n",
    "               'rgba(243,255,189,1)',\n",
    "               'rgba(247,255,213,1)',\n",
    "               'rgba(255,22,84,1)']),\n",
    ")\n",
    "\n",
    "data = [trace0]\n",
    "\n",
    "layout = go.Layout(\n",
    "    title='Repurchase Amount 2018',\n",
    "    # xaxis= 'Segment',\n",
    "    # yaxis= 'Quantity'\n",
    ")\n",
    "\n",
    "fig = go.Figure(data=data, layout=layout)\n",
    "py.iplot(fig)"
   ]
  },
  {
   "cell_type": "code",
   "execution_count": 19,
   "metadata": {},
   "outputs": [
    {
     "name": "stdout",
     "output_type": "stream",
     "text": [
      "                 sub_segment  first_order_purchase  last_order_purchase   \n",
      "0  active_high_payment_value            353.065839            81.030807  \\\n",
      "1   active_low_payment_value            342.059582            81.688891   \n",
      "4     hot_high_payment_value            414.880354           247.433181   \n",
      "5      hot_low_payment_value            404.243219           247.646449   \n",
      "2    cold_high_payment_value            511.714286           421.592506   \n",
      "3     cold_low_payment_value            495.267442           427.277132   \n",
      "6                   inactive            590.692308           575.230769   \n",
      "\n",
      "   diff_order_purchase  \n",
      "0                272.0  \n",
      "1                260.0  \n",
      "4                167.0  \n",
      "5                157.0  \n",
      "2                 90.0  \n",
      "3                 68.0  \n",
      "6                 15.0  \n"
     ]
    }
   ],
   "source": [
    "df_days_repurchase_subsegment_2018 = df_clustering_2018_qty.groupby([\"sub_segment\"]).agg({\"first_order_purchase\": \"mean\", \"last_order_purchase\": \"mean\"}).reset_index()\n",
    "df_days_repurchase_subsegment_2018[\"diff_order_purchase\"] = df_days_repurchase_subsegment_2018[\"first_order_purchase\"].values - df_days_repurchase_subsegment_2018[\"last_order_purchase\"].values\n",
    "df_days_repurchase_subsegment_2018[\"diff_order_purchase\"] = df_days_repurchase_subsegment_2018[\"diff_order_purchase\"].round(0)\n",
    "df_days_repurchase_subsegment_2018 = df_days_repurchase_subsegment_2018.sort_values(by='diff_order_purchase', ascending =False)\n",
    "print(df_days_repurchase_subsegment_2018)\n"
   ]
  },
  {
   "cell_type": "code",
   "execution_count": 20,
   "metadata": {},
   "outputs": [
    {
     "data": {
      "application/vnd.plotly.v1+json": {
       "config": {
        "linkText": "Export to plot.ly",
        "plotlyServerURL": "https://plot.ly",
        "showLink": false
       },
       "data": [
        {
         "marker": {
          "color": [
           "rgba(36,123,160,1)",
           "rgba(75,147,177,1)",
           "rgba(112,193,179,1)",
           "rgba(138,204,192,1)",
           "rgba(243,255,189,1)",
           "rgba(247,255,213,1)",
           "rgba(255,22,84,1)"
          ]
         },
         "type": "bar",
         "x": [
          "active_high_payment_value",
          "active_low_payment_value",
          "hot_high_payment_value",
          "hot_low_payment_value",
          "cold_high_payment_value",
          "cold_low_payment_value",
          "inactive"
         ],
         "y": [
          272,
          260,
          167,
          157,
          90,
          68,
          15
         ]
        }
       ],
       "layout": {
        "template": {
         "data": {
          "bar": [
           {
            "error_x": {
             "color": "#2a3f5f"
            },
            "error_y": {
             "color": "#2a3f5f"
            },
            "marker": {
             "line": {
              "color": "#E5ECF6",
              "width": 0.5
             },
             "pattern": {
              "fillmode": "overlay",
              "size": 10,
              "solidity": 0.2
             }
            },
            "type": "bar"
           }
          ],
          "barpolar": [
           {
            "marker": {
             "line": {
              "color": "#E5ECF6",
              "width": 0.5
             },
             "pattern": {
              "fillmode": "overlay",
              "size": 10,
              "solidity": 0.2
             }
            },
            "type": "barpolar"
           }
          ],
          "carpet": [
           {
            "aaxis": {
             "endlinecolor": "#2a3f5f",
             "gridcolor": "white",
             "linecolor": "white",
             "minorgridcolor": "white",
             "startlinecolor": "#2a3f5f"
            },
            "baxis": {
             "endlinecolor": "#2a3f5f",
             "gridcolor": "white",
             "linecolor": "white",
             "minorgridcolor": "white",
             "startlinecolor": "#2a3f5f"
            },
            "type": "carpet"
           }
          ],
          "choropleth": [
           {
            "colorbar": {
             "outlinewidth": 0,
             "ticks": ""
            },
            "type": "choropleth"
           }
          ],
          "contour": [
           {
            "colorbar": {
             "outlinewidth": 0,
             "ticks": ""
            },
            "colorscale": [
             [
              0,
              "#0d0887"
             ],
             [
              0.1111111111111111,
              "#46039f"
             ],
             [
              0.2222222222222222,
              "#7201a8"
             ],
             [
              0.3333333333333333,
              "#9c179e"
             ],
             [
              0.4444444444444444,
              "#bd3786"
             ],
             [
              0.5555555555555556,
              "#d8576b"
             ],
             [
              0.6666666666666666,
              "#ed7953"
             ],
             [
              0.7777777777777778,
              "#fb9f3a"
             ],
             [
              0.8888888888888888,
              "#fdca26"
             ],
             [
              1,
              "#f0f921"
             ]
            ],
            "type": "contour"
           }
          ],
          "contourcarpet": [
           {
            "colorbar": {
             "outlinewidth": 0,
             "ticks": ""
            },
            "type": "contourcarpet"
           }
          ],
          "heatmap": [
           {
            "colorbar": {
             "outlinewidth": 0,
             "ticks": ""
            },
            "colorscale": [
             [
              0,
              "#0d0887"
             ],
             [
              0.1111111111111111,
              "#46039f"
             ],
             [
              0.2222222222222222,
              "#7201a8"
             ],
             [
              0.3333333333333333,
              "#9c179e"
             ],
             [
              0.4444444444444444,
              "#bd3786"
             ],
             [
              0.5555555555555556,
              "#d8576b"
             ],
             [
              0.6666666666666666,
              "#ed7953"
             ],
             [
              0.7777777777777778,
              "#fb9f3a"
             ],
             [
              0.8888888888888888,
              "#fdca26"
             ],
             [
              1,
              "#f0f921"
             ]
            ],
            "type": "heatmap"
           }
          ],
          "heatmapgl": [
           {
            "colorbar": {
             "outlinewidth": 0,
             "ticks": ""
            },
            "colorscale": [
             [
              0,
              "#0d0887"
             ],
             [
              0.1111111111111111,
              "#46039f"
             ],
             [
              0.2222222222222222,
              "#7201a8"
             ],
             [
              0.3333333333333333,
              "#9c179e"
             ],
             [
              0.4444444444444444,
              "#bd3786"
             ],
             [
              0.5555555555555556,
              "#d8576b"
             ],
             [
              0.6666666666666666,
              "#ed7953"
             ],
             [
              0.7777777777777778,
              "#fb9f3a"
             ],
             [
              0.8888888888888888,
              "#fdca26"
             ],
             [
              1,
              "#f0f921"
             ]
            ],
            "type": "heatmapgl"
           }
          ],
          "histogram": [
           {
            "marker": {
             "pattern": {
              "fillmode": "overlay",
              "size": 10,
              "solidity": 0.2
             }
            },
            "type": "histogram"
           }
          ],
          "histogram2d": [
           {
            "colorbar": {
             "outlinewidth": 0,
             "ticks": ""
            },
            "colorscale": [
             [
              0,
              "#0d0887"
             ],
             [
              0.1111111111111111,
              "#46039f"
             ],
             [
              0.2222222222222222,
              "#7201a8"
             ],
             [
              0.3333333333333333,
              "#9c179e"
             ],
             [
              0.4444444444444444,
              "#bd3786"
             ],
             [
              0.5555555555555556,
              "#d8576b"
             ],
             [
              0.6666666666666666,
              "#ed7953"
             ],
             [
              0.7777777777777778,
              "#fb9f3a"
             ],
             [
              0.8888888888888888,
              "#fdca26"
             ],
             [
              1,
              "#f0f921"
             ]
            ],
            "type": "histogram2d"
           }
          ],
          "histogram2dcontour": [
           {
            "colorbar": {
             "outlinewidth": 0,
             "ticks": ""
            },
            "colorscale": [
             [
              0,
              "#0d0887"
             ],
             [
              0.1111111111111111,
              "#46039f"
             ],
             [
              0.2222222222222222,
              "#7201a8"
             ],
             [
              0.3333333333333333,
              "#9c179e"
             ],
             [
              0.4444444444444444,
              "#bd3786"
             ],
             [
              0.5555555555555556,
              "#d8576b"
             ],
             [
              0.6666666666666666,
              "#ed7953"
             ],
             [
              0.7777777777777778,
              "#fb9f3a"
             ],
             [
              0.8888888888888888,
              "#fdca26"
             ],
             [
              1,
              "#f0f921"
             ]
            ],
            "type": "histogram2dcontour"
           }
          ],
          "mesh3d": [
           {
            "colorbar": {
             "outlinewidth": 0,
             "ticks": ""
            },
            "type": "mesh3d"
           }
          ],
          "parcoords": [
           {
            "line": {
             "colorbar": {
              "outlinewidth": 0,
              "ticks": ""
             }
            },
            "type": "parcoords"
           }
          ],
          "pie": [
           {
            "automargin": true,
            "type": "pie"
           }
          ],
          "scatter": [
           {
            "fillpattern": {
             "fillmode": "overlay",
             "size": 10,
             "solidity": 0.2
            },
            "type": "scatter"
           }
          ],
          "scatter3d": [
           {
            "line": {
             "colorbar": {
              "outlinewidth": 0,
              "ticks": ""
             }
            },
            "marker": {
             "colorbar": {
              "outlinewidth": 0,
              "ticks": ""
             }
            },
            "type": "scatter3d"
           }
          ],
          "scattercarpet": [
           {
            "marker": {
             "colorbar": {
              "outlinewidth": 0,
              "ticks": ""
             }
            },
            "type": "scattercarpet"
           }
          ],
          "scattergeo": [
           {
            "marker": {
             "colorbar": {
              "outlinewidth": 0,
              "ticks": ""
             }
            },
            "type": "scattergeo"
           }
          ],
          "scattergl": [
           {
            "marker": {
             "colorbar": {
              "outlinewidth": 0,
              "ticks": ""
             }
            },
            "type": "scattergl"
           }
          ],
          "scattermapbox": [
           {
            "marker": {
             "colorbar": {
              "outlinewidth": 0,
              "ticks": ""
             }
            },
            "type": "scattermapbox"
           }
          ],
          "scatterpolar": [
           {
            "marker": {
             "colorbar": {
              "outlinewidth": 0,
              "ticks": ""
             }
            },
            "type": "scatterpolar"
           }
          ],
          "scatterpolargl": [
           {
            "marker": {
             "colorbar": {
              "outlinewidth": 0,
              "ticks": ""
             }
            },
            "type": "scatterpolargl"
           }
          ],
          "scatterternary": [
           {
            "marker": {
             "colorbar": {
              "outlinewidth": 0,
              "ticks": ""
             }
            },
            "type": "scatterternary"
           }
          ],
          "surface": [
           {
            "colorbar": {
             "outlinewidth": 0,
             "ticks": ""
            },
            "colorscale": [
             [
              0,
              "#0d0887"
             ],
             [
              0.1111111111111111,
              "#46039f"
             ],
             [
              0.2222222222222222,
              "#7201a8"
             ],
             [
              0.3333333333333333,
              "#9c179e"
             ],
             [
              0.4444444444444444,
              "#bd3786"
             ],
             [
              0.5555555555555556,
              "#d8576b"
             ],
             [
              0.6666666666666666,
              "#ed7953"
             ],
             [
              0.7777777777777778,
              "#fb9f3a"
             ],
             [
              0.8888888888888888,
              "#fdca26"
             ],
             [
              1,
              "#f0f921"
             ]
            ],
            "type": "surface"
           }
          ],
          "table": [
           {
            "cells": {
             "fill": {
              "color": "#EBF0F8"
             },
             "line": {
              "color": "white"
             }
            },
            "header": {
             "fill": {
              "color": "#C8D4E3"
             },
             "line": {
              "color": "white"
             }
            },
            "type": "table"
           }
          ]
         },
         "layout": {
          "annotationdefaults": {
           "arrowcolor": "#2a3f5f",
           "arrowhead": 0,
           "arrowwidth": 1
          },
          "autotypenumbers": "strict",
          "coloraxis": {
           "colorbar": {
            "outlinewidth": 0,
            "ticks": ""
           }
          },
          "colorscale": {
           "diverging": [
            [
             0,
             "#8e0152"
            ],
            [
             0.1,
             "#c51b7d"
            ],
            [
             0.2,
             "#de77ae"
            ],
            [
             0.3,
             "#f1b6da"
            ],
            [
             0.4,
             "#fde0ef"
            ],
            [
             0.5,
             "#f7f7f7"
            ],
            [
             0.6,
             "#e6f5d0"
            ],
            [
             0.7,
             "#b8e186"
            ],
            [
             0.8,
             "#7fbc41"
            ],
            [
             0.9,
             "#4d9221"
            ],
            [
             1,
             "#276419"
            ]
           ],
           "sequential": [
            [
             0,
             "#0d0887"
            ],
            [
             0.1111111111111111,
             "#46039f"
            ],
            [
             0.2222222222222222,
             "#7201a8"
            ],
            [
             0.3333333333333333,
             "#9c179e"
            ],
            [
             0.4444444444444444,
             "#bd3786"
            ],
            [
             0.5555555555555556,
             "#d8576b"
            ],
            [
             0.6666666666666666,
             "#ed7953"
            ],
            [
             0.7777777777777778,
             "#fb9f3a"
            ],
            [
             0.8888888888888888,
             "#fdca26"
            ],
            [
             1,
             "#f0f921"
            ]
           ],
           "sequentialminus": [
            [
             0,
             "#0d0887"
            ],
            [
             0.1111111111111111,
             "#46039f"
            ],
            [
             0.2222222222222222,
             "#7201a8"
            ],
            [
             0.3333333333333333,
             "#9c179e"
            ],
            [
             0.4444444444444444,
             "#bd3786"
            ],
            [
             0.5555555555555556,
             "#d8576b"
            ],
            [
             0.6666666666666666,
             "#ed7953"
            ],
            [
             0.7777777777777778,
             "#fb9f3a"
            ],
            [
             0.8888888888888888,
             "#fdca26"
            ],
            [
             1,
             "#f0f921"
            ]
           ]
          },
          "colorway": [
           "#636efa",
           "#EF553B",
           "#00cc96",
           "#ab63fa",
           "#FFA15A",
           "#19d3f3",
           "#FF6692",
           "#B6E880",
           "#FF97FF",
           "#FECB52"
          ],
          "font": {
           "color": "#2a3f5f"
          },
          "geo": {
           "bgcolor": "white",
           "lakecolor": "white",
           "landcolor": "#E5ECF6",
           "showlakes": true,
           "showland": true,
           "subunitcolor": "white"
          },
          "hoverlabel": {
           "align": "left"
          },
          "hovermode": "closest",
          "mapbox": {
           "style": "light"
          },
          "paper_bgcolor": "white",
          "plot_bgcolor": "#E5ECF6",
          "polar": {
           "angularaxis": {
            "gridcolor": "white",
            "linecolor": "white",
            "ticks": ""
           },
           "bgcolor": "#E5ECF6",
           "radialaxis": {
            "gridcolor": "white",
            "linecolor": "white",
            "ticks": ""
           }
          },
          "scene": {
           "xaxis": {
            "backgroundcolor": "#E5ECF6",
            "gridcolor": "white",
            "gridwidth": 2,
            "linecolor": "white",
            "showbackground": true,
            "ticks": "",
            "zerolinecolor": "white"
           },
           "yaxis": {
            "backgroundcolor": "#E5ECF6",
            "gridcolor": "white",
            "gridwidth": 2,
            "linecolor": "white",
            "showbackground": true,
            "ticks": "",
            "zerolinecolor": "white"
           },
           "zaxis": {
            "backgroundcolor": "#E5ECF6",
            "gridcolor": "white",
            "gridwidth": 2,
            "linecolor": "white",
            "showbackground": true,
            "ticks": "",
            "zerolinecolor": "white"
           }
          },
          "shapedefaults": {
           "line": {
            "color": "#2a3f5f"
           }
          },
          "ternary": {
           "aaxis": {
            "gridcolor": "white",
            "linecolor": "white",
            "ticks": ""
           },
           "baxis": {
            "gridcolor": "white",
            "linecolor": "white",
            "ticks": ""
           },
           "bgcolor": "#E5ECF6",
           "caxis": {
            "gridcolor": "white",
            "linecolor": "white",
            "ticks": ""
           }
          },
          "title": {
           "x": 0.05
          },
          "xaxis": {
           "automargin": true,
           "gridcolor": "white",
           "linecolor": "white",
           "ticks": "",
           "title": {
            "standoff": 15
           },
           "zerolinecolor": "white",
           "zerolinewidth": 2
          },
          "yaxis": {
           "automargin": true,
           "gridcolor": "white",
           "linecolor": "white",
           "ticks": "",
           "title": {
            "standoff": 15
           },
           "zerolinecolor": "white",
           "zerolinewidth": 2
          }
         }
        },
        "title": {
         "text": "Avg days between first and last purchase"
        }
       }
      }
     },
     "metadata": {},
     "output_type": "display_data"
    }
   ],
   "source": [
    "# configure_plotly_browser_state()\n",
    "trace0 = go.Bar(\n",
    "    x=df_days_repurchase_subsegment_2018[\"sub_segment\"].values,\n",
    "    y=df_days_repurchase_subsegment_2018[\"diff_order_purchase\"].values,\n",
    "    marker=dict(\n",
    "        color=['rgba(36,123,160,1)', \n",
    "               'rgba(75,147,177,1)',\n",
    "               'rgba(112,193,179,1)', \n",
    "               'rgba(138,204,192,1)',\n",
    "               'rgba(243,255,189,1)',\n",
    "               'rgba(247,255,213,1)',\n",
    "               'rgba(255,22,84,1)']),\n",
    ")\n",
    "\n",
    "data = [trace0]\n",
    "\n",
    "layout = go.Layout(\n",
    "    title='Avg days between first and last purchase',\n",
    ")\n",
    "\n",
    "fig = go.Figure(data=data, layout=layout)\n",
    "py.iplot(fig)"
   ]
  },
  {
   "cell_type": "code",
   "execution_count": 22,
   "metadata": {},
   "outputs": [
    {
     "data": {
      "text/html": [
       "<div>\n",
       "<style scoped>\n",
       "    .dataframe tbody tr th:only-of-type {\n",
       "        vertical-align: middle;\n",
       "    }\n",
       "\n",
       "    .dataframe tbody tr th {\n",
       "        vertical-align: top;\n",
       "    }\n",
       "\n",
       "    .dataframe thead th {\n",
       "        text-align: right;\n",
       "    }\n",
       "</style>\n",
       "<table border=\"1\" class=\"dataframe\">\n",
       "  <thead>\n",
       "    <tr style=\"text-align: right;\">\n",
       "      <th></th>\n",
       "      <th>customer_unique_id</th>\n",
       "      <th>last_order_purchase</th>\n",
       "      <th>first_order_purchase</th>\n",
       "      <th>order_purchase_qty</th>\n",
       "      <th>payment_value_sum</th>\n",
       "      <th>payment_value_mean</th>\n",
       "      <th>segment</th>\n",
       "      <th>sub_segment</th>\n",
       "      <th>new_customer</th>\n",
       "    </tr>\n",
       "  </thead>\n",
       "  <tbody>\n",
       "    <tr>\n",
       "      <th>0</th>\n",
       "      <td>0000b849f77a49e4a4ce2b2a4ca5be3f</td>\n",
       "      <td>39</td>\n",
       "      <td>39</td>\n",
       "      <td>1</td>\n",
       "      <td>98.88</td>\n",
       "      <td>98.880</td>\n",
       "      <td>active</td>\n",
       "      <td>active_low_payment_value</td>\n",
       "      <td>1</td>\n",
       "    </tr>\n",
       "    <tr>\n",
       "      <th>1</th>\n",
       "      <td>0000f46a3911fa3c0805444483337064</td>\n",
       "      <td>109</td>\n",
       "      <td>152</td>\n",
       "      <td>2</td>\n",
       "      <td>255.25</td>\n",
       "      <td>127.625</td>\n",
       "      <td>active</td>\n",
       "      <td>active_high_payment_value</td>\n",
       "      <td>1</td>\n",
       "    </tr>\n",
       "    <tr>\n",
       "      <th>2</th>\n",
       "      <td>0004bd2a26a76fe21f786e4fbd80607f</td>\n",
       "      <td>203</td>\n",
       "      <td>209</td>\n",
       "      <td>2</td>\n",
       "      <td>190.20</td>\n",
       "      <td>95.100</td>\n",
       "      <td>hot</td>\n",
       "      <td>hot_low_payment_value</td>\n",
       "      <td>1</td>\n",
       "    </tr>\n",
       "    <tr>\n",
       "      <th>3</th>\n",
       "      <td>0005ef4cd20d2893f0d9fbd94d3c0d97</td>\n",
       "      <td>240</td>\n",
       "      <td>240</td>\n",
       "      <td>1</td>\n",
       "      <td>187.91</td>\n",
       "      <td>187.910</td>\n",
       "      <td>hot</td>\n",
       "      <td>hot_high_payment_value</td>\n",
       "      <td>1</td>\n",
       "    </tr>\n",
       "    <tr>\n",
       "      <th>4</th>\n",
       "      <td>000c8bdb58a29e7115cfc257230fb21b</td>\n",
       "      <td>327</td>\n",
       "      <td>327</td>\n",
       "      <td>1</td>\n",
       "      <td>441.33</td>\n",
       "      <td>441.330</td>\n",
       "      <td>cold</td>\n",
       "      <td>cold_high_payment_value</td>\n",
       "      <td>0</td>\n",
       "    </tr>\n",
       "  </tbody>\n",
       "</table>\n",
       "</div>"
      ],
      "text/plain": [
       "                 customer_unique_id  last_order_purchase   \n",
       "0  0000b849f77a49e4a4ce2b2a4ca5be3f                   39  \\\n",
       "1  0000f46a3911fa3c0805444483337064                  109   \n",
       "2  0004bd2a26a76fe21f786e4fbd80607f                  203   \n",
       "3  0005ef4cd20d2893f0d9fbd94d3c0d97                  240   \n",
       "4  000c8bdb58a29e7115cfc257230fb21b                  327   \n",
       "\n",
       "   first_order_purchase  order_purchase_qty  payment_value_sum   \n",
       "0                    39                   1              98.88  \\\n",
       "1                   152                   2             255.25   \n",
       "2                   209                   2             190.20   \n",
       "3                   240                   1             187.91   \n",
       "4                   327                   1             441.33   \n",
       "\n",
       "   payment_value_mean segment                sub_segment  new_customer  \n",
       "0              98.880  active   active_low_payment_value             1  \n",
       "1             127.625  active  active_high_payment_value             1  \n",
       "2              95.100     hot      hot_low_payment_value             1  \n",
       "3             187.910     hot     hot_high_payment_value             1  \n",
       "4             441.330    cold    cold_high_payment_value             0  "
      ]
     },
     "execution_count": 22,
     "metadata": {},
     "output_type": "execute_result"
    }
   ],
   "source": [
    "period_2017, df_clustering_2017 = clustering_customers(myData_db, \"2017-12-31\")\n",
    "\n",
    "df_clustering_2017.head()"
   ]
  },
  {
   "cell_type": "markdown",
   "metadata": {},
   "source": [
    "## RFM Modeling\n",
    "\n",
    "## Behavioral segmentation by 3 important features:\n",
    "- Recency — number of days since the last purchase  // thời gian\n",
    "- Frequency — number of transactions made over a given period // số lượng\n",
    "- Monetary — amount spent over a given period of time  // chất lượng\n"
   ]
  },
  {
   "cell_type": "code",
   "execution_count": 23,
   "metadata": {},
   "outputs": [],
   "source": [
    "from datetime import timedelta, datetime\n",
    "import squarify"
   ]
  },
  {
   "cell_type": "code",
   "execution_count": 25,
   "metadata": {},
   "outputs": [
    {
     "data": {
      "text/plain": [
       "Timestamp('2016-09-04 00:00:00')"
      ]
     },
     "execution_count": 25,
     "metadata": {},
     "output_type": "execute_result"
    }
   ],
   "source": [
    "myData_db['order_purchase_date'].min()"
   ]
  },
  {
   "cell_type": "code",
   "execution_count": 26,
   "metadata": {},
   "outputs": [
    {
     "name": "stdout",
     "output_type": "stream",
     "text": [
      "100,993 rows; 9 columns\n",
      "0 transactions don't have a customer id\n",
      "Transactions timeframe from 2016-09-04 00:00:00 to 2018-09-03 00:00:00\n"
     ]
    }
   ],
   "source": [
    "print('{:,} rows; {:,} columns'\n",
    "      .format(myData_db.shape[0], myData_db.shape[1]))\n",
    "print('{:,} transactions don\\'t have a customer id'\n",
    "      .format(myData_db[myData_db.customer_unique_id.isnull()].shape[0]))\n",
    "print('Transactions timeframe from {} to {}'.format(myData_db['order_purchase_date'].min(),\n",
    "                                    myData_db['order_purchase_date'].max()))"
   ]
  },
  {
   "cell_type": "code",
   "execution_count": 28,
   "metadata": {},
   "outputs": [
    {
     "data": {
      "text/plain": [
       "Timestamp('2018-09-04 00:00:00')"
      ]
     },
     "execution_count": 28,
     "metadata": {},
     "output_type": "execute_result"
    }
   ],
   "source": [
    "# Create snapshot date\n",
    "snapshot_date = myData_db['order_purchase_date'].max() + timedelta(days=1)\n",
    "snapshot_date"
   ]
  },
  {
   "cell_type": "code",
   "execution_count": 30,
   "metadata": {},
   "outputs": [],
   "source": [
    "# Grouping by CustomerID\n",
    "data_process = myData_db.groupby(['customer_unique_id']).agg({\n",
    "    # tương tự  last_order_purchase ở phần trên\n",
    "        'order_purchase_date': lambda x: (snapshot_date - x.max()).days,\n",
    "        'order_id': 'count',\n",
    "        'payment_value': 'sum'})"
   ]
  },
  {
   "cell_type": "code",
   "execution_count": 37,
   "metadata": {},
   "outputs": [
    {
     "data": {
      "text/html": [
       "<div>\n",
       "<style scoped>\n",
       "    .dataframe tbody tr th:only-of-type {\n",
       "        vertical-align: middle;\n",
       "    }\n",
       "\n",
       "    .dataframe tbody tr th {\n",
       "        vertical-align: top;\n",
       "    }\n",
       "\n",
       "    .dataframe thead th {\n",
       "        text-align: right;\n",
       "    }\n",
       "</style>\n",
       "<table border=\"1\" class=\"dataframe\">\n",
       "  <thead>\n",
       "    <tr style=\"text-align: right;\">\n",
       "      <th></th>\n",
       "      <th>Recency</th>\n",
       "      <th>Frequency</th>\n",
       "      <th>Monetary</th>\n",
       "    </tr>\n",
       "    <tr>\n",
       "      <th>customer_unique_id</th>\n",
       "      <th></th>\n",
       "      <th></th>\n",
       "      <th></th>\n",
       "    </tr>\n",
       "  </thead>\n",
       "  <tbody>\n",
       "    <tr>\n",
       "      <th>0000b849f77a49e4a4ce2b2a4ca5be3f</th>\n",
       "      <td>175</td>\n",
       "      <td>2</td>\n",
       "      <td>136.26</td>\n",
       "    </tr>\n",
       "    <tr>\n",
       "      <th>0000f46a3911fa3c0805444483337064</th>\n",
       "      <td>131</td>\n",
       "      <td>3</td>\n",
       "      <td>583.87</td>\n",
       "    </tr>\n",
       "    <tr>\n",
       "      <th>0004bd2a26a76fe21f786e4fbd80607f</th>\n",
       "      <td>13</td>\n",
       "      <td>4</td>\n",
       "      <td>480.54</td>\n",
       "    </tr>\n",
       "    <tr>\n",
       "      <th>00050ab1314c0e55a6ca13cf7181fecf</th>\n",
       "      <td>225</td>\n",
       "      <td>1</td>\n",
       "      <td>80.18</td>\n",
       "    </tr>\n",
       "    <tr>\n",
       "      <th>0005ef4cd20d2893f0d9fbd94d3c0d97</th>\n",
       "      <td>487</td>\n",
       "      <td>1</td>\n",
       "      <td>187.91</td>\n",
       "    </tr>\n",
       "    <tr>\n",
       "      <th>000949456b182f53c18b68d6babc79c1</th>\n",
       "      <td>111</td>\n",
       "      <td>1</td>\n",
       "      <td>116.90</td>\n",
       "    </tr>\n",
       "    <tr>\n",
       "      <th>000a5ad9c4601d2bbdd9ed765d5213b3</th>\n",
       "      <td>173</td>\n",
       "      <td>1</td>\n",
       "      <td>462.72</td>\n",
       "    </tr>\n",
       "    <tr>\n",
       "      <th>000c8bdb58a29e7115cfc257230fb21b</th>\n",
       "      <td>232</td>\n",
       "      <td>2</td>\n",
       "      <td>852.54</td>\n",
       "    </tr>\n",
       "    <tr>\n",
       "      <th>000de6019bb59f34c099a907c151d855</th>\n",
       "      <td>29</td>\n",
       "      <td>1</td>\n",
       "      <td>96.66</td>\n",
       "    </tr>\n",
       "    <tr>\n",
       "      <th>000ec5bff359e1c0ad76a81a45cb598f</th>\n",
       "      <td>58</td>\n",
       "      <td>3</td>\n",
       "      <td>262.05</td>\n",
       "    </tr>\n",
       "  </tbody>\n",
       "</table>\n",
       "</div>"
      ],
      "text/plain": [
       "                                  Recency  Frequency  Monetary\n",
       "customer_unique_id                                            \n",
       "0000b849f77a49e4a4ce2b2a4ca5be3f      175          2    136.26\n",
       "0000f46a3911fa3c0805444483337064      131          3    583.87\n",
       "0004bd2a26a76fe21f786e4fbd80607f       13          4    480.54\n",
       "00050ab1314c0e55a6ca13cf7181fecf      225          1     80.18\n",
       "0005ef4cd20d2893f0d9fbd94d3c0d97      487          1    187.91\n",
       "000949456b182f53c18b68d6babc79c1      111          1    116.90\n",
       "000a5ad9c4601d2bbdd9ed765d5213b3      173          1    462.72\n",
       "000c8bdb58a29e7115cfc257230fb21b      232          2    852.54\n",
       "000de6019bb59f34c099a907c151d855       29          1     96.66\n",
       "000ec5bff359e1c0ad76a81a45cb598f       58          3    262.05"
      ]
     },
     "execution_count": 37,
     "metadata": {},
     "output_type": "execute_result"
    }
   ],
   "source": [
    "data_process.rename(columns={'order_purchase_date': 'Recency',\n",
    "                         'order_id': 'Frequency',\n",
    "                         'payment_value': 'Monetary'}, inplace=True)\n",
    "data_process.head(10)"
   ]
  },
  {
   "cell_type": "markdown",
   "metadata": {},
   "source": [
    "Great, we have 41,730 customer records grouped by recency of their purchase, the frequency by their quantity, and the monetary value of the purchases. Now we can get into the meat of things and use the .qcut() method to assign the relative percentile to their RFM features. But before that, let’s examine the distribution of our Recency, Frequency, and Monetary."
   ]
  },
  {
   "cell_type": "code",
   "execution_count": 38,
   "metadata": {},
   "outputs": [
    {
     "name": "stderr",
     "output_type": "stream",
     "text": [
      "C:\\Users\\ADMIN\\AppData\\Local\\Temp\\ipykernel_10800\\4055263697.py:4: UserWarning:\n",
      "\n",
      "\n",
      "\n",
      "`distplot` is a deprecated function and will be removed in seaborn v0.14.0.\n",
      "\n",
      "Please adapt your code to use either `displot` (a figure-level function with\n",
      "similar flexibility) or `histplot` (an axes-level function for histograms).\n",
      "\n",
      "For a guide to updating your code to use the new functions, please see\n",
      "https://gist.github.com/mwaskom/de44147ed2974457ad6372750bbe5751\n",
      "\n",
      "\n",
      "C:\\Users\\ADMIN\\AppData\\Local\\Temp\\ipykernel_10800\\4055263697.py:7: UserWarning:\n",
      "\n",
      "\n",
      "\n",
      "`distplot` is a deprecated function and will be removed in seaborn v0.14.0.\n",
      "\n",
      "Please adapt your code to use either `displot` (a figure-level function with\n",
      "similar flexibility) or `histplot` (an axes-level function for histograms).\n",
      "\n",
      "For a guide to updating your code to use the new functions, please see\n",
      "https://gist.github.com/mwaskom/de44147ed2974457ad6372750bbe5751\n",
      "\n",
      "\n",
      "C:\\Users\\ADMIN\\AppData\\Local\\Temp\\ipykernel_10800\\4055263697.py:11: UserWarning:\n",
      "\n",
      "\n",
      "\n",
      "`distplot` is a deprecated function and will be removed in seaborn v0.14.0.\n",
      "\n",
      "Please adapt your code to use either `displot` (a figure-level function with\n",
      "similar flexibility) or `histplot` (an axes-level function for histograms).\n",
      "\n",
      "For a guide to updating your code to use the new functions, please see\n",
      "https://gist.github.com/mwaskom/de44147ed2974457ad6372750bbe5751\n",
      "\n",
      "\n"
     ]
    },
    {
     "data": {
      "image/png": "[encoded data removed]",
      "text/plain": [
       "<Figure size 1200x1000 with 3 Axes>"
      ]
     },
     "metadata": {},
     "output_type": "display_data"
    }
   ],
   "source": [
    "plt.figure(figsize=(12,10))\n",
    "# Plot distribution of Recency\n",
    "plt.subplot(3,1,1)\n",
    "sns.distplot(data_process['Recency'])\n",
    "# Plot distribution of Frequency\n",
    "plt.subplot(3, 1, 2)\n",
    "sns.distplot(data_process['Frequency'] )\n",
    "plt.xlim(0,10)\n",
    "# Plot distribution of Monetary\n",
    "plt.subplot(3, 1, 3)\n",
    "sns.distplot(data_process['Monetary'])\n",
    "plt.xlim(0,2000)\n",
    "# Show the plot\n",
    "plt.show()"
   ]
  },
  {
   "cell_type": "code",
   "execution_count": 39,
   "metadata": {},
   "outputs": [
    {
     "data": {
      "text/html": [
       "<div>\n",
       "<style scoped>\n",
       "    .dataframe tbody tr th:only-of-type {\n",
       "        vertical-align: middle;\n",
       "    }\n",
       "\n",
       "    .dataframe tbody tr th {\n",
       "        vertical-align: top;\n",
       "    }\n",
       "\n",
       "    .dataframe thead th {\n",
       "        text-align: right;\n",
       "    }\n",
       "</style>\n",
       "<table border=\"1\" class=\"dataframe\">\n",
       "  <thead>\n",
       "    <tr style=\"text-align: right;\">\n",
       "      <th></th>\n",
       "      <th>Recency</th>\n",
       "      <th>Frequency</th>\n",
       "      <th>Monetary</th>\n",
       "      <th>R</th>\n",
       "      <th>F</th>\n",
       "    </tr>\n",
       "    <tr>\n",
       "      <th>customer_unique_id</th>\n",
       "      <th></th>\n",
       "      <th></th>\n",
       "      <th></th>\n",
       "      <th></th>\n",
       "      <th></th>\n",
       "    </tr>\n",
       "  </thead>\n",
       "  <tbody>\n",
       "    <tr>\n",
       "      <th>0000b849f77a49e4a4ce2b2a4ca5be3f</th>\n",
       "      <td>175</td>\n",
       "      <td>2</td>\n",
       "      <td>136.26</td>\n",
       "      <td>2</td>\n",
       "      <td>1</td>\n",
       "    </tr>\n",
       "    <tr>\n",
       "      <th>0000f46a3911fa3c0805444483337064</th>\n",
       "      <td>131</td>\n",
       "      <td>3</td>\n",
       "      <td>583.87</td>\n",
       "      <td>3</td>\n",
       "      <td>2</td>\n",
       "    </tr>\n",
       "    <tr>\n",
       "      <th>0004bd2a26a76fe21f786e4fbd80607f</th>\n",
       "      <td>13</td>\n",
       "      <td>4</td>\n",
       "      <td>480.54</td>\n",
       "      <td>4</td>\n",
       "      <td>3</td>\n",
       "    </tr>\n",
       "    <tr>\n",
       "      <th>00050ab1314c0e55a6ca13cf7181fecf</th>\n",
       "      <td>225</td>\n",
       "      <td>1</td>\n",
       "      <td>80.18</td>\n",
       "      <td>2</td>\n",
       "      <td>1</td>\n",
       "    </tr>\n",
       "    <tr>\n",
       "      <th>0005ef4cd20d2893f0d9fbd94d3c0d97</th>\n",
       "      <td>487</td>\n",
       "      <td>1</td>\n",
       "      <td>187.91</td>\n",
       "      <td>1</td>\n",
       "      <td>1</td>\n",
       "    </tr>\n",
       "  </tbody>\n",
       "</table>\n",
       "</div>"
      ],
      "text/plain": [
       "                                  Recency  Frequency  Monetary  R  F\n",
       "customer_unique_id                                                  \n",
       "0000b849f77a49e4a4ce2b2a4ca5be3f      175          2    136.26  2  1\n",
       "0000f46a3911fa3c0805444483337064      131          3    583.87  3  2\n",
       "0004bd2a26a76fe21f786e4fbd80607f       13          4    480.54  4  3\n",
       "00050ab1314c0e55a6ca13cf7181fecf      225          1     80.18  2  1\n",
       "0005ef4cd20d2893f0d9fbd94d3c0d97      487          1    187.91  1  1"
      ]
     },
     "execution_count": 39,
     "metadata": {},
     "output_type": "execute_result"
    }
   ],
   "source": [
    "# Create labels for Recency and Frequency\n",
    "r_labels = range(4, 0, -1); f_labels = range(1, 4)\n",
    "# Assign these labels to 4 equal percentile groups \n",
    "# recency label càng lớn -> giá trị data_process['Recency'] càng nhỏ -> thời gian mua cuối cùng càng gần với hiện tại\n",
    "r_groups = pd.qcut(data_process['Recency'], q=4, labels=r_labels)\n",
    "# Assign these labels to 4 equal percentile groups \n",
    "f_groups = pd.qcut(data_process['Frequency'], q=4, labels=f_labels, duplicates='drop')\n",
    "# # Create new columns R and F \n",
    "data_process = data_process.assign(R = r_groups.values, F = f_groups.values)\n",
    "data_process.head()"
   ]
  },
  {
   "cell_type": "code",
   "execution_count": 41,
   "metadata": {},
   "outputs": [
    {
     "data": {
      "text/html": [
       "<div>\n",
       "<style scoped>\n",
       "    .dataframe tbody tr th:only-of-type {\n",
       "        vertical-align: middle;\n",
       "    }\n",
       "\n",
       "    .dataframe tbody tr th {\n",
       "        vertical-align: top;\n",
       "    }\n",
       "\n",
       "    .dataframe thead th {\n",
       "        text-align: right;\n",
       "    }\n",
       "</style>\n",
       "<table border=\"1\" class=\"dataframe\">\n",
       "  <thead>\n",
       "    <tr style=\"text-align: right;\">\n",
       "      <th></th>\n",
       "      <th>Recency</th>\n",
       "      <th>Frequency</th>\n",
       "      <th>Monetary</th>\n",
       "      <th>R</th>\n",
       "      <th>F</th>\n",
       "      <th>M</th>\n",
       "    </tr>\n",
       "    <tr>\n",
       "      <th>customer_unique_id</th>\n",
       "      <th></th>\n",
       "      <th></th>\n",
       "      <th></th>\n",
       "      <th></th>\n",
       "      <th></th>\n",
       "      <th></th>\n",
       "    </tr>\n",
       "  </thead>\n",
       "  <tbody>\n",
       "    <tr>\n",
       "      <th>0000b849f77a49e4a4ce2b2a4ca5be3f</th>\n",
       "      <td>175</td>\n",
       "      <td>2</td>\n",
       "      <td>136.26</td>\n",
       "      <td>2</td>\n",
       "      <td>1</td>\n",
       "      <td>1</td>\n",
       "    </tr>\n",
       "    <tr>\n",
       "      <th>0000f46a3911fa3c0805444483337064</th>\n",
       "      <td>131</td>\n",
       "      <td>3</td>\n",
       "      <td>583.87</td>\n",
       "      <td>3</td>\n",
       "      <td>2</td>\n",
       "      <td>4</td>\n",
       "    </tr>\n",
       "    <tr>\n",
       "      <th>0004bd2a26a76fe21f786e4fbd80607f</th>\n",
       "      <td>13</td>\n",
       "      <td>4</td>\n",
       "      <td>480.54</td>\n",
       "      <td>4</td>\n",
       "      <td>3</td>\n",
       "      <td>4</td>\n",
       "    </tr>\n",
       "    <tr>\n",
       "      <th>00050ab1314c0e55a6ca13cf7181fecf</th>\n",
       "      <td>225</td>\n",
       "      <td>1</td>\n",
       "      <td>80.18</td>\n",
       "      <td>2</td>\n",
       "      <td>1</td>\n",
       "      <td>1</td>\n",
       "    </tr>\n",
       "    <tr>\n",
       "      <th>0005ef4cd20d2893f0d9fbd94d3c0d97</th>\n",
       "      <td>487</td>\n",
       "      <td>1</td>\n",
       "      <td>187.91</td>\n",
       "      <td>1</td>\n",
       "      <td>1</td>\n",
       "      <td>2</td>\n",
       "    </tr>\n",
       "    <tr>\n",
       "      <th>...</th>\n",
       "      <td>...</td>\n",
       "      <td>...</td>\n",
       "      <td>...</td>\n",
       "      <td>...</td>\n",
       "      <td>...</td>\n",
       "      <td>...</td>\n",
       "    </tr>\n",
       "    <tr>\n",
       "      <th>fffa431dd3fcdefea4b1777d114144f2</th>\n",
       "      <td>168</td>\n",
       "      <td>3</td>\n",
       "      <td>1643.43</td>\n",
       "      <td>2</td>\n",
       "      <td>2</td>\n",
       "      <td>4</td>\n",
       "    </tr>\n",
       "    <tr>\n",
       "      <th>fffb09418989a0dbff854a28163e47c6</th>\n",
       "      <td>299</td>\n",
       "      <td>1</td>\n",
       "      <td>329.38</td>\n",
       "      <td>1</td>\n",
       "      <td>1</td>\n",
       "      <td>3</td>\n",
       "    </tr>\n",
       "    <tr>\n",
       "      <th>fffbf87b7a1a6fa8b03f081c5f51a201</th>\n",
       "      <td>57</td>\n",
       "      <td>2</td>\n",
       "      <td>199.50</td>\n",
       "      <td>4</td>\n",
       "      <td>1</td>\n",
       "      <td>2</td>\n",
       "    </tr>\n",
       "    <tr>\n",
       "      <th>fffcc512b7dfecaffd80f13614af1d16</th>\n",
       "      <td>361</td>\n",
       "      <td>1</td>\n",
       "      <td>45.10</td>\n",
       "      <td>1</td>\n",
       "      <td>1</td>\n",
       "      <td>1</td>\n",
       "    </tr>\n",
       "    <tr>\n",
       "      <th>fffea47cd6d3cc0a88bd621562a9d061</th>\n",
       "      <td>412</td>\n",
       "      <td>2</td>\n",
       "      <td>366.08</td>\n",
       "      <td>1</td>\n",
       "      <td>1</td>\n",
       "      <td>3</td>\n",
       "    </tr>\n",
       "  </tbody>\n",
       "</table>\n",
       "<p>41730 rows × 6 columns</p>\n",
       "</div>"
      ],
      "text/plain": [
       "                                  Recency  Frequency  Monetary  R  F  M\n",
       "customer_unique_id                                                     \n",
       "0000b849f77a49e4a4ce2b2a4ca5be3f      175          2    136.26  2  1  1\n",
       "0000f46a3911fa3c0805444483337064      131          3    583.87  3  2  4\n",
       "0004bd2a26a76fe21f786e4fbd80607f       13          4    480.54  4  3  4\n",
       "00050ab1314c0e55a6ca13cf7181fecf      225          1     80.18  2  1  1\n",
       "0005ef4cd20d2893f0d9fbd94d3c0d97      487          1    187.91  1  1  2\n",
       "...                                   ...        ...       ... .. .. ..\n",
       "fffa431dd3fcdefea4b1777d114144f2      168          3   1643.43  2  2  4\n",
       "fffb09418989a0dbff854a28163e47c6      299          1    329.38  1  1  3\n",
       "fffbf87b7a1a6fa8b03f081c5f51a201       57          2    199.50  4  1  2\n",
       "fffcc512b7dfecaffd80f13614af1d16      361          1     45.10  1  1  1\n",
       "fffea47cd6d3cc0a88bd621562a9d061      412          2    366.08  1  1  3\n",
       "\n",
       "[41730 rows x 6 columns]"
      ]
     },
     "execution_count": 41,
     "metadata": {},
     "output_type": "execute_result"
    }
   ],
   "source": [
    "# Create labels for MonetaryValue\n",
    "m_labels = range(1, 5)\n",
    "# Assign these labels to three equal percentile groups \n",
    "m_groups = pd.qcut(data_process['Monetary'], q=4, labels=m_labels)\n",
    "# Create new column M\n",
    "data_process = data_process.assign(M = m_groups.values)\n",
    "data_process.reset_index()\n",
    "data_process"
   ]
  },
  {
   "cell_type": "markdown",
   "metadata": {},
   "source": [
    "with these 3 scores in place, R, F, and M, we can create our first RFM segment by concatenating the values together below"
   ]
  },
  {
   "cell_type": "code",
   "execution_count": 49,
   "metadata": {},
   "outputs": [
    {
     "data": {
      "text/html": [
       "<div>\n",
       "<style scoped>\n",
       "    .dataframe tbody tr th:only-of-type {\n",
       "        vertical-align: middle;\n",
       "    }\n",
       "\n",
       "    .dataframe tbody tr th {\n",
       "        vertical-align: top;\n",
       "    }\n",
       "\n",
       "    .dataframe thead th {\n",
       "        text-align: right;\n",
       "    }\n",
       "</style>\n",
       "<table border=\"1\" class=\"dataframe\">\n",
       "  <thead>\n",
       "    <tr style=\"text-align: right;\">\n",
       "      <th></th>\n",
       "      <th>Recency</th>\n",
       "      <th>Frequency</th>\n",
       "      <th>Monetary</th>\n",
       "      <th>R</th>\n",
       "      <th>F</th>\n",
       "      <th>M</th>\n",
       "      <th>RFM_Segment</th>\n",
       "      <th>RFM_Score</th>\n",
       "    </tr>\n",
       "    <tr>\n",
       "      <th>customer_unique_id</th>\n",
       "      <th></th>\n",
       "      <th></th>\n",
       "      <th></th>\n",
       "      <th></th>\n",
       "      <th></th>\n",
       "      <th></th>\n",
       "      <th></th>\n",
       "      <th></th>\n",
       "    </tr>\n",
       "  </thead>\n",
       "  <tbody>\n",
       "    <tr>\n",
       "      <th>0000b849f77a49e4a4ce2b2a4ca5be3f</th>\n",
       "      <td>175</td>\n",
       "      <td>2</td>\n",
       "      <td>136.26</td>\n",
       "      <td>2</td>\n",
       "      <td>1</td>\n",
       "      <td>1</td>\n",
       "      <td>211</td>\n",
       "      <td>4</td>\n",
       "    </tr>\n",
       "    <tr>\n",
       "      <th>0000f46a3911fa3c0805444483337064</th>\n",
       "      <td>131</td>\n",
       "      <td>3</td>\n",
       "      <td>583.87</td>\n",
       "      <td>3</td>\n",
       "      <td>2</td>\n",
       "      <td>4</td>\n",
       "      <td>324</td>\n",
       "      <td>9</td>\n",
       "    </tr>\n",
       "    <tr>\n",
       "      <th>0004bd2a26a76fe21f786e4fbd80607f</th>\n",
       "      <td>13</td>\n",
       "      <td>4</td>\n",
       "      <td>480.54</td>\n",
       "      <td>4</td>\n",
       "      <td>3</td>\n",
       "      <td>4</td>\n",
       "      <td>434</td>\n",
       "      <td>11</td>\n",
       "    </tr>\n",
       "    <tr>\n",
       "      <th>00050ab1314c0e55a6ca13cf7181fecf</th>\n",
       "      <td>225</td>\n",
       "      <td>1</td>\n",
       "      <td>80.18</td>\n",
       "      <td>2</td>\n",
       "      <td>1</td>\n",
       "      <td>1</td>\n",
       "      <td>211</td>\n",
       "      <td>4</td>\n",
       "    </tr>\n",
       "    <tr>\n",
       "      <th>0005ef4cd20d2893f0d9fbd94d3c0d97</th>\n",
       "      <td>487</td>\n",
       "      <td>1</td>\n",
       "      <td>187.91</td>\n",
       "      <td>1</td>\n",
       "      <td>1</td>\n",
       "      <td>2</td>\n",
       "      <td>112</td>\n",
       "      <td>4</td>\n",
       "    </tr>\n",
       "  </tbody>\n",
       "</table>\n",
       "</div>"
      ],
      "text/plain": [
       "                                  Recency  Frequency  Monetary  R  F  M   \n",
       "customer_unique_id                                                        \n",
       "0000b849f77a49e4a4ce2b2a4ca5be3f      175          2    136.26  2  1  1  \\\n",
       "0000f46a3911fa3c0805444483337064      131          3    583.87  3  2  4   \n",
       "0004bd2a26a76fe21f786e4fbd80607f       13          4    480.54  4  3  4   \n",
       "00050ab1314c0e55a6ca13cf7181fecf      225          1     80.18  2  1  1   \n",
       "0005ef4cd20d2893f0d9fbd94d3c0d97      487          1    187.91  1  1  2   \n",
       "\n",
       "                                 RFM_Segment  RFM_Score  \n",
       "customer_unique_id                                       \n",
       "0000b849f77a49e4a4ce2b2a4ca5be3f         211          4  \n",
       "0000f46a3911fa3c0805444483337064         324          9  \n",
       "0004bd2a26a76fe21f786e4fbd80607f         434         11  \n",
       "00050ab1314c0e55a6ca13cf7181fecf         211          4  \n",
       "0005ef4cd20d2893f0d9fbd94d3c0d97         112          4  "
      ]
     },
     "execution_count": 49,
     "metadata": {},
     "output_type": "execute_result"
    }
   ],
   "source": [
    "# Concat RFM quartile values to create RFM Segments\n",
    "def join_rfm(x): \n",
    "    return str(x['R']) + str(x['F']) + str(x['M'])\n",
    "data_process['RFM_Segment'] = data_process.apply(join_rfm, axis=1)\n",
    "rfm = data_process\n",
    "rfm.head()"
   ]
  },
  {
   "cell_type": "code",
   "execution_count": 43,
   "metadata": {},
   "outputs": [
    {
     "name": "stdout",
     "output_type": "stream",
     "text": [
      "48\n"
     ]
    }
   ],
   "source": [
    "# Count num of unique segments\n",
    "rfm_count_unique = rfm.groupby('RFM_Segment')['RFM_Segment'].nunique()\n",
    "print(rfm_count_unique.sum())"
   ]
  },
  {
   "cell_type": "code",
   "execution_count": 44,
   "metadata": {},
   "outputs": [
    {
     "name": "stdout",
     "output_type": "stream",
     "text": [
      "customer_unique_id\n",
      "0000b849f77a49e4a4ce2b2a4ca5be3f     4\n",
      "0000f46a3911fa3c0805444483337064     9\n",
      "0004bd2a26a76fe21f786e4fbd80607f    11\n",
      "00050ab1314c0e55a6ca13cf7181fecf     4\n",
      "0005ef4cd20d2893f0d9fbd94d3c0d97     4\n",
      "Name: RFM_Score, dtype: int64\n"
     ]
    }
   ],
   "source": [
    "rfm['RFM_Score'] = rfm[['R','F','M']].sum(axis =1 )\n",
    "print(rfm['RFM_Score'].head())"
   ]
  },
  {
   "cell_type": "markdown",
   "metadata": {},
   "source": [
    "### Segmentation using RFM Analysis | Identify Upselling and Cross selling opportunities"
   ]
  },
  {
   "cell_type": "markdown",
   "metadata": {},
   "source": [
    "+ Upselling là bổ sung vào giao dịch mua bằng cách bán cho khách hàng tiềm năng một phiên bản nâng cấp hoặc cải tiến của sản phẩm gốc.\n",
    "+ Cross selling là bán kèm thêm vào giao dịch thông qua việc bổ sung cho các sản phẩm mua ban đầu"
   ]
  },
  {
   "cell_type": "code",
   "execution_count": 45,
   "metadata": {},
   "outputs": [],
   "source": [
    "# Define rfm_level function\n",
    "def rfm_level(df):\n",
    "    if (df['RFM_Segment'] >= 434 or (df['RFM_Score'] >= 9)) :\n",
    "        return 'VVIP - Can\\'t Loose Them'\n",
    "    elif ((df['RFM_Score'] >= 8) and (df['M'] == 4)):\n",
    "        return 'Champions Big Spenders'\n",
    "    elif ((df['RFM_Score'] >= 6) and (df['F'] >= 2)):\n",
    "        return 'Loyal Customers'\n",
    "    elif ((df['RFM_Segment'] >= 221) or (df['RFM_Score'] >= 6)):\n",
    "        return 'Potential Loyalists'\n",
    "    elif (((df['RFM_Segment'] >= 121) and (df['R'] == 1)) or df['RFM_Score'] == 5):\n",
    "        return 'Needs Attention'\n",
    "    elif ((df['RFM_Score'] >= 4) and (df['R'] == 1)):\n",
    "        return 'Hibernating - Almost Lost'\n",
    "    else:\n",
    "        return 'Lost Customers'"
   ]
  },
  {
   "cell_type": "code",
   "execution_count": 46,
   "metadata": {},
   "outputs": [],
   "source": [
    "# Define rfm_level function\n",
    "def rfm_action(df):\n",
    "    if (df['RFM_Segment'] >= 434 or (df['RFM_Score'] >= 9)) :\n",
    "        #không có ưu đãi về giá, cung cấp các phiên bản giới hạn và chương trình khách hanggf thân thiết\n",
    "        return 'No Price Incentives; Offer Limited edition and Loyality programs'\n",
    "    elif ((df['RFM_Score'] >= 8) and (df['M'] == 4)):\n",
    "        # hội richkid , upsell  các mặt hàng đắt tiền nhất\n",
    "        return 'Upsell most expensive items'\n",
    "    elif ((df['RFM_Score'] >= 6) and (df['F'] >= 2)):\n",
    "        #chương trình khách hàng thân thiết\n",
    "        return 'Loyality programs;Cross Sell'\n",
    "    elif ((df['RFM_Segment'] >= 221) or (df['RFM_Score'] >= 6)):\n",
    "        return 'Cross Sell Recommendations and Discount coupons'\n",
    "    elif (((df['RFM_Segment'] >= 121) and (df['R'] == 1)) or df['RFM_Score'] == 5):\n",
    "        return 'Price incentives and Limited time offer'\n",
    "    elif ((df['RFM_Score'] >= 4) and (df['R'] == 1)):\n",
    "        # tích cực ưu đãi giá\n",
    "        return 'Aggressive price incentives'\n",
    "    else:\n",
    "        # :)))\n",
    "        return 'Don\\'t spend too much trying to re-acquire'"
   ]
  },
  {
   "cell_type": "code",
   "execution_count": 51,
   "metadata": {},
   "outputs": [
    {
     "data": {
      "text/html": [
       "<div>\n",
       "<style scoped>\n",
       "    .dataframe tbody tr th:only-of-type {\n",
       "        vertical-align: middle;\n",
       "    }\n",
       "\n",
       "    .dataframe tbody tr th {\n",
       "        vertical-align: top;\n",
       "    }\n",
       "\n",
       "    .dataframe thead th {\n",
       "        text-align: right;\n",
       "    }\n",
       "</style>\n",
       "<table border=\"1\" class=\"dataframe\">\n",
       "  <thead>\n",
       "    <tr style=\"text-align: right;\">\n",
       "      <th></th>\n",
       "      <th>Recency</th>\n",
       "      <th>Frequency</th>\n",
       "      <th>Monetary</th>\n",
       "      <th>R</th>\n",
       "      <th>F</th>\n",
       "      <th>M</th>\n",
       "      <th>RFM_Segment</th>\n",
       "      <th>RFM_Score</th>\n",
       "      <th>Customer Segment</th>\n",
       "      <th>Marketing Action</th>\n",
       "    </tr>\n",
       "    <tr>\n",
       "      <th>customer_unique_id</th>\n",
       "      <th></th>\n",
       "      <th></th>\n",
       "      <th></th>\n",
       "      <th></th>\n",
       "      <th></th>\n",
       "      <th></th>\n",
       "      <th></th>\n",
       "      <th></th>\n",
       "      <th></th>\n",
       "      <th></th>\n",
       "    </tr>\n",
       "  </thead>\n",
       "  <tbody>\n",
       "    <tr>\n",
       "      <th>0000b849f77a49e4a4ce2b2a4ca5be3f</th>\n",
       "      <td>175</td>\n",
       "      <td>2</td>\n",
       "      <td>136.26</td>\n",
       "      <td>2</td>\n",
       "      <td>1</td>\n",
       "      <td>1</td>\n",
       "      <td>211</td>\n",
       "      <td>4</td>\n",
       "      <td>Lost Customers</td>\n",
       "      <td>Don't spend too much trying to re-acquire</td>\n",
       "    </tr>\n",
       "    <tr>\n",
       "      <th>0000f46a3911fa3c0805444483337064</th>\n",
       "      <td>131</td>\n",
       "      <td>3</td>\n",
       "      <td>583.87</td>\n",
       "      <td>3</td>\n",
       "      <td>2</td>\n",
       "      <td>4</td>\n",
       "      <td>324</td>\n",
       "      <td>9</td>\n",
       "      <td>VVIP - Can't Loose Them</td>\n",
       "      <td>No Price Incentives; Offer Limited edition and...</td>\n",
       "    </tr>\n",
       "    <tr>\n",
       "      <th>0004bd2a26a76fe21f786e4fbd80607f</th>\n",
       "      <td>13</td>\n",
       "      <td>4</td>\n",
       "      <td>480.54</td>\n",
       "      <td>4</td>\n",
       "      <td>3</td>\n",
       "      <td>4</td>\n",
       "      <td>434</td>\n",
       "      <td>11</td>\n",
       "      <td>VVIP - Can't Loose Them</td>\n",
       "      <td>No Price Incentives; Offer Limited edition and...</td>\n",
       "    </tr>\n",
       "    <tr>\n",
       "      <th>00050ab1314c0e55a6ca13cf7181fecf</th>\n",
       "      <td>225</td>\n",
       "      <td>1</td>\n",
       "      <td>80.18</td>\n",
       "      <td>2</td>\n",
       "      <td>1</td>\n",
       "      <td>1</td>\n",
       "      <td>211</td>\n",
       "      <td>4</td>\n",
       "      <td>Lost Customers</td>\n",
       "      <td>Don't spend too much trying to re-acquire</td>\n",
       "    </tr>\n",
       "    <tr>\n",
       "      <th>0005ef4cd20d2893f0d9fbd94d3c0d97</th>\n",
       "      <td>487</td>\n",
       "      <td>1</td>\n",
       "      <td>187.91</td>\n",
       "      <td>1</td>\n",
       "      <td>1</td>\n",
       "      <td>2</td>\n",
       "      <td>112</td>\n",
       "      <td>4</td>\n",
       "      <td>Hibernating - Almost Lost</td>\n",
       "      <td>Aggressive price incentives</td>\n",
       "    </tr>\n",
       "  </tbody>\n",
       "</table>\n",
       "</div>"
      ],
      "text/plain": [
       "                                  Recency  Frequency  Monetary  R  F  M   \n",
       "customer_unique_id                                                        \n",
       "0000b849f77a49e4a4ce2b2a4ca5be3f      175          2    136.26  2  1  1  \\\n",
       "0000f46a3911fa3c0805444483337064      131          3    583.87  3  2  4   \n",
       "0004bd2a26a76fe21f786e4fbd80607f       13          4    480.54  4  3  4   \n",
       "00050ab1314c0e55a6ca13cf7181fecf      225          1     80.18  2  1  1   \n",
       "0005ef4cd20d2893f0d9fbd94d3c0d97      487          1    187.91  1  1  2   \n",
       "\n",
       "                                  RFM_Segment  RFM_Score   \n",
       "customer_unique_id                                         \n",
       "0000b849f77a49e4a4ce2b2a4ca5be3f          211          4  \\\n",
       "0000f46a3911fa3c0805444483337064          324          9   \n",
       "0004bd2a26a76fe21f786e4fbd80607f          434         11   \n",
       "00050ab1314c0e55a6ca13cf7181fecf          211          4   \n",
       "0005ef4cd20d2893f0d9fbd94d3c0d97          112          4   \n",
       "\n",
       "                                           Customer Segment   \n",
       "customer_unique_id                                            \n",
       "0000b849f77a49e4a4ce2b2a4ca5be3f             Lost Customers  \\\n",
       "0000f46a3911fa3c0805444483337064    VVIP - Can't Loose Them   \n",
       "0004bd2a26a76fe21f786e4fbd80607f    VVIP - Can't Loose Them   \n",
       "00050ab1314c0e55a6ca13cf7181fecf             Lost Customers   \n",
       "0005ef4cd20d2893f0d9fbd94d3c0d97  Hibernating - Almost Lost   \n",
       "\n",
       "                                                                   Marketing Action  \n",
       "customer_unique_id                                                                   \n",
       "0000b849f77a49e4a4ce2b2a4ca5be3f          Don't spend too much trying to re-acquire  \n",
       "0000f46a3911fa3c0805444483337064  No Price Incentives; Offer Limited edition and...  \n",
       "0004bd2a26a76fe21f786e4fbd80607f  No Price Incentives; Offer Limited edition and...  \n",
       "00050ab1314c0e55a6ca13cf7181fecf          Don't spend too much trying to re-acquire  \n",
       "0005ef4cd20d2893f0d9fbd94d3c0d97                        Aggressive price incentives  "
      ]
     },
     "execution_count": 51,
     "metadata": {},
     "output_type": "execute_result"
    }
   ],
   "source": [
    "# Create a new variable RFM_Level\n",
    "rfm['RFM_Segment'] = rfm.RFM_Segment.apply(lambda x: int(x))\n",
    "rfm['Customer Segment'] = rfm.apply(rfm_level, axis=1)\n",
    "# Create a new variable RFM_Level\n",
    "rfm['Marketing Action'] = rfm.apply(rfm_action, axis=1)\n",
    "rfm.head(5)"
   ]
  },
  {
   "cell_type": "markdown",
   "metadata": {},
   "source": [
    "### Group Customer by their Customer Segment"
   ]
  },
  {
   "cell_type": "code",
   "execution_count": 52,
   "metadata": {},
   "outputs": [
    {
     "name": "stdout",
     "output_type": "stream",
     "text": [
      "                          Recency Frequency Monetary          \n",
      "                             mean      mean     mean  count   \n",
      "Customer Segment                                              \n",
      "Champions Big Spenders      166.4       2.8    831.7   1528  \\\n",
      "Hibernating - Almost Lost   352.5       1.4    192.0   2509   \n",
      "Lost Customers              303.8       1.2     79.4   6896   \n",
      "Loyal Customers             153.8       3.2    325.5   5614   \n",
      "Needs Attention             248.8       1.8    244.7   3750   \n",
      "Potential Loyalists         107.2       1.7    281.9  11264   \n",
      "VVIP - Can't Loose Them      66.7       4.1    727.8  10169   \n",
      "\n",
      "                                                            Marketing Action  \n",
      "                                                                      unique  \n",
      "Customer Segment                                                              \n",
      "Champions Big Spenders                         [Upsell most expensive items]  \n",
      "Hibernating - Almost Lost                      [Aggressive price incentives]  \n",
      "Lost Customers                   [Don't spend too much trying to re-acquire]  \n",
      "Loyal Customers                               [Loyality programs;Cross Sell]  \n",
      "Needs Attention                    [Price incentives and Limited time offer]  \n",
      "Potential Loyalists        [Cross Sell Recommendations and Discount coupons]  \n",
      "VVIP - Can't Loose Them    [No Price Incentives; Offer Limited edition an...  \n"
     ]
    }
   ],
   "source": [
    "# Calculate average values for each Customer Segment, and return a size of each segment \n",
    "rfm_level_agg = rfm.groupby('Customer Segment').agg({\n",
    "    'Recency': 'mean',\n",
    "    'Frequency': 'mean',\n",
    "    'Monetary': ['mean', 'count'],\n",
    "    'Marketing Action': 'unique'\n",
    "}).round(1)\n",
    "# Print the aggregated dataset\n",
    "print(rfm_level_agg)"
   ]
  },
  {
   "cell_type": "code",
   "execution_count": 53,
   "metadata": {},
   "outputs": [
    {
     "data": {
      "text/html": [
       "<div>\n",
       "<style scoped>\n",
       "    .dataframe tbody tr th:only-of-type {\n",
       "        vertical-align: middle;\n",
       "    }\n",
       "\n",
       "    .dataframe tbody tr th {\n",
       "        vertical-align: top;\n",
       "    }\n",
       "\n",
       "    .dataframe thead tr th {\n",
       "        text-align: left;\n",
       "    }\n",
       "</style>\n",
       "<table border=\"1\" class=\"dataframe\">\n",
       "  <thead>\n",
       "    <tr>\n",
       "      <th></th>\n",
       "      <th>Customer Segment</th>\n",
       "      <th>Recency</th>\n",
       "      <th>Frequency</th>\n",
       "      <th colspan=\"2\" halign=\"left\">Monetary</th>\n",
       "      <th>Marketing Action</th>\n",
       "    </tr>\n",
       "    <tr>\n",
       "      <th></th>\n",
       "      <th></th>\n",
       "      <th>mean</th>\n",
       "      <th>mean</th>\n",
       "      <th>mean</th>\n",
       "      <th>count</th>\n",
       "      <th>unique</th>\n",
       "    </tr>\n",
       "  </thead>\n",
       "  <tbody>\n",
       "    <tr>\n",
       "      <th>0</th>\n",
       "      <td>Champions Big Spenders</td>\n",
       "      <td>166.4</td>\n",
       "      <td>2.8</td>\n",
       "      <td>831.7</td>\n",
       "      <td>1528</td>\n",
       "      <td>[Upsell most expensive items]</td>\n",
       "    </tr>\n",
       "    <tr>\n",
       "      <th>1</th>\n",
       "      <td>Hibernating - Almost Lost</td>\n",
       "      <td>352.5</td>\n",
       "      <td>1.4</td>\n",
       "      <td>192.0</td>\n",
       "      <td>2509</td>\n",
       "      <td>[Aggressive price incentives]</td>\n",
       "    </tr>\n",
       "    <tr>\n",
       "      <th>2</th>\n",
       "      <td>Lost Customers</td>\n",
       "      <td>303.8</td>\n",
       "      <td>1.2</td>\n",
       "      <td>79.4</td>\n",
       "      <td>6896</td>\n",
       "      <td>[Don't spend too much trying to re-acquire]</td>\n",
       "    </tr>\n",
       "    <tr>\n",
       "      <th>3</th>\n",
       "      <td>Loyal Customers</td>\n",
       "      <td>153.8</td>\n",
       "      <td>3.2</td>\n",
       "      <td>325.5</td>\n",
       "      <td>5614</td>\n",
       "      <td>[Loyality programs;Cross Sell]</td>\n",
       "    </tr>\n",
       "    <tr>\n",
       "      <th>4</th>\n",
       "      <td>Needs Attention</td>\n",
       "      <td>248.8</td>\n",
       "      <td>1.8</td>\n",
       "      <td>244.7</td>\n",
       "      <td>3750</td>\n",
       "      <td>[Price incentives and Limited time offer]</td>\n",
       "    </tr>\n",
       "    <tr>\n",
       "      <th>5</th>\n",
       "      <td>Potential Loyalists</td>\n",
       "      <td>107.2</td>\n",
       "      <td>1.7</td>\n",
       "      <td>281.9</td>\n",
       "      <td>11264</td>\n",
       "      <td>[Cross Sell Recommendations and Discount coupons]</td>\n",
       "    </tr>\n",
       "    <tr>\n",
       "      <th>6</th>\n",
       "      <td>VVIP - Can't Loose Them</td>\n",
       "      <td>66.7</td>\n",
       "      <td>4.1</td>\n",
       "      <td>727.8</td>\n",
       "      <td>10169</td>\n",
       "      <td>[No Price Incentives; Offer Limited edition an...</td>\n",
       "    </tr>\n",
       "  </tbody>\n",
       "</table>\n",
       "</div>"
      ],
      "text/plain": [
       "            Customer Segment Recency Frequency Monetary          \n",
       "                                mean      mean     mean  count   \n",
       "0     Champions Big Spenders   166.4       2.8    831.7   1528  \\\n",
       "1  Hibernating - Almost Lost   352.5       1.4    192.0   2509   \n",
       "2             Lost Customers   303.8       1.2     79.4   6896   \n",
       "3            Loyal Customers   153.8       3.2    325.5   5614   \n",
       "4            Needs Attention   248.8       1.8    244.7   3750   \n",
       "5        Potential Loyalists   107.2       1.7    281.9  11264   \n",
       "6    VVIP - Can't Loose Them    66.7       4.1    727.8  10169   \n",
       "\n",
       "                                    Marketing Action  \n",
       "                                              unique  \n",
       "0                      [Upsell most expensive items]  \n",
       "1                      [Aggressive price incentives]  \n",
       "2        [Don't spend too much trying to re-acquire]  \n",
       "3                     [Loyality programs;Cross Sell]  \n",
       "4          [Price incentives and Limited time offer]  \n",
       "5  [Cross Sell Recommendations and Discount coupons]  \n",
       "6  [No Price Incentives; Offer Limited edition an...  "
      ]
     },
     "execution_count": 53,
     "metadata": {},
     "output_type": "execute_result"
    }
   ],
   "source": [
    "rfm_level_ag = pd.DataFrame(rfm_level_agg)\n",
    "rfm_level_ag = rfm_level_ag.reset_index()\n",
    "rfm_level_ag"
   ]
  },
  {
   "cell_type": "markdown",
   "metadata": {},
   "source": [
    "From here, we can see that a sufficient percentage (~45%) of our customers are in the top tier RFM levels. Olist must be doing something right to be maintaining their loyalty!\n",
    "The other 55% will need some work.\n",
    "\n",
    "\n",
    "#### 1. Potential Loyalists — \n",
    "High potential to enter our loyal customer segments, why not throw in some freebies on their next purchase to show that you value them!\n",
    "#### 2. Needs Attention — \n",
    "Showing promising signs with quantity and value of their purchase but it has been a while since they last bought sometime from you. Let’s target them with their wishlist items and a limited time offer discount.\n",
    "#### 3. Hibernating Almost Lost —\n",
    "Made some initial purchase but have not seen them since. Was it a bad customer experience? Or product-market fit? Let’s spend some resource build our brand awareness with them.\n",
    "#### 4. Lost Customers\t—\n",
    "Poorest performers of our RFM model. They might have went with our competitors for now and will require a different activation strategy to win them back."
   ]
  },
  {
   "cell_type": "code",
   "execution_count": 54,
   "metadata": {},
   "outputs": [
    {
     "data": {
      "text/html": [
       "<div>\n",
       "<style scoped>\n",
       "    .dataframe tbody tr th:only-of-type {\n",
       "        vertical-align: middle;\n",
       "    }\n",
       "\n",
       "    .dataframe tbody tr th {\n",
       "        vertical-align: top;\n",
       "    }\n",
       "\n",
       "    .dataframe thead th {\n",
       "        text-align: right;\n",
       "    }\n",
       "</style>\n",
       "<table border=\"1\" class=\"dataframe\">\n",
       "  <thead>\n",
       "    <tr style=\"text-align: right;\">\n",
       "      <th></th>\n",
       "      <th>RecencyMean</th>\n",
       "      <th>FrequencyMean</th>\n",
       "      <th>MonetaryMean</th>\n",
       "      <th>Count</th>\n",
       "      <th>MarketingAction</th>\n",
       "    </tr>\n",
       "    <tr>\n",
       "      <th>Customer Segment</th>\n",
       "      <th></th>\n",
       "      <th></th>\n",
       "      <th></th>\n",
       "      <th></th>\n",
       "      <th></th>\n",
       "    </tr>\n",
       "  </thead>\n",
       "  <tbody>\n",
       "    <tr>\n",
       "      <th>Champions Big Spenders</th>\n",
       "      <td>166.4</td>\n",
       "      <td>2.8</td>\n",
       "      <td>831.7</td>\n",
       "      <td>1528</td>\n",
       "      <td>[Upsell most expensive items]</td>\n",
       "    </tr>\n",
       "    <tr>\n",
       "      <th>Hibernating - Almost Lost</th>\n",
       "      <td>352.5</td>\n",
       "      <td>1.4</td>\n",
       "      <td>192.0</td>\n",
       "      <td>2509</td>\n",
       "      <td>[Aggressive price incentives]</td>\n",
       "    </tr>\n",
       "    <tr>\n",
       "      <th>Lost Customers</th>\n",
       "      <td>303.8</td>\n",
       "      <td>1.2</td>\n",
       "      <td>79.4</td>\n",
       "      <td>6896</td>\n",
       "      <td>[Don't spend too much trying to re-acquire]</td>\n",
       "    </tr>\n",
       "    <tr>\n",
       "      <th>Loyal Customers</th>\n",
       "      <td>153.8</td>\n",
       "      <td>3.2</td>\n",
       "      <td>325.5</td>\n",
       "      <td>5614</td>\n",
       "      <td>[Loyality programs;Cross Sell]</td>\n",
       "    </tr>\n",
       "    <tr>\n",
       "      <th>Needs Attention</th>\n",
       "      <td>248.8</td>\n",
       "      <td>1.8</td>\n",
       "      <td>244.7</td>\n",
       "      <td>3750</td>\n",
       "      <td>[Price incentives and Limited time offer]</td>\n",
       "    </tr>\n",
       "    <tr>\n",
       "      <th>Potential Loyalists</th>\n",
       "      <td>107.2</td>\n",
       "      <td>1.7</td>\n",
       "      <td>281.9</td>\n",
       "      <td>11264</td>\n",
       "      <td>[Cross Sell Recommendations and Discount coupons]</td>\n",
       "    </tr>\n",
       "    <tr>\n",
       "      <th>VVIP - Can't Loose Them</th>\n",
       "      <td>66.7</td>\n",
       "      <td>4.1</td>\n",
       "      <td>727.8</td>\n",
       "      <td>10169</td>\n",
       "      <td>[No Price Incentives; Offer Limited edition an...</td>\n",
       "    </tr>\n",
       "  </tbody>\n",
       "</table>\n",
       "</div>"
      ],
      "text/plain": [
       "                           RecencyMean  FrequencyMean  MonetaryMean  Count   \n",
       "Customer Segment                                                             \n",
       "Champions Big Spenders           166.4            2.8         831.7   1528  \\\n",
       "Hibernating - Almost Lost        352.5            1.4         192.0   2509   \n",
       "Lost Customers                   303.8            1.2          79.4   6896   \n",
       "Loyal Customers                  153.8            3.2         325.5   5614   \n",
       "Needs Attention                  248.8            1.8         244.7   3750   \n",
       "Potential Loyalists              107.2            1.7         281.9  11264   \n",
       "VVIP - Can't Loose Them           66.7            4.1         727.8  10169   \n",
       "\n",
       "                                                             MarketingAction  \n",
       "Customer Segment                                                              \n",
       "Champions Big Spenders                         [Upsell most expensive items]  \n",
       "Hibernating - Almost Lost                      [Aggressive price incentives]  \n",
       "Lost Customers                   [Don't spend too much trying to re-acquire]  \n",
       "Loyal Customers                               [Loyality programs;Cross Sell]  \n",
       "Needs Attention                    [Price incentives and Limited time offer]  \n",
       "Potential Loyalists        [Cross Sell Recommendations and Discount coupons]  \n",
       "VVIP - Can't Loose Them    [No Price Incentives; Offer Limited edition an...  "
      ]
     },
     "execution_count": 54,
     "metadata": {},
     "output_type": "execute_result"
    }
   ],
   "source": [
    "rfm_level_agg.columns = rfm_level_agg.columns.droplevel()\n",
    "rfm_level_agg.columns = ['RecencyMean','FrequencyMean','MonetaryMean', 'Count', 'MarketingAction']\n",
    "rfm_level_agg\n",
    "\n"
   ]
  },
  {
   "cell_type": "code",
   "execution_count": 55,
   "metadata": {},
   "outputs": [
    {
     "name": "stdout",
     "output_type": "stream",
     "text": [
      "[]\n"
     ]
    }
   ],
   "source": [
    "print(plt.get_fignums())"
   ]
  },
  {
   "cell_type": "code",
   "execution_count": 56,
   "metadata": {},
   "outputs": [
    {
     "data": {
      "image/png": "[encoded data removed]",
      "text/plain": [
       "<Figure size 1300x700 with 1 Axes>"
      ]
     },
     "metadata": {},
     "output_type": "display_data"
    }
   ],
   "source": [
    "#Create our plot and resize it.\n",
    "fig = plt.gcf()\n",
    "ax = fig.add_subplot()\n",
    "fig.set_size_inches(13, 7)\n",
    "squarify.plot(sizes=rfm_level_agg['Count'], \n",
    "              label=['Champions Big Spenders',\n",
    "                     'Hibernating - Almost Lost',\n",
    "                     'Lost Customers',\n",
    "                     'Loyal Customers',\n",
    "                     'Needs Attention',\n",
    "                     'Potential Loyalists',\n",
    "                     'VVIP - Can\\'t Loose Them'], alpha=.8 )\n",
    "plt.title(\"RFM Segments\",fontsize=40,fontweight=\"bold\")\n",
    "plt.axis('on')\n",
    "plt.show()"
   ]
  },
  {
   "cell_type": "markdown",
   "metadata": {},
   "source": [
    "### Interactive Chart for Visualising Customer Segments"
   ]
  },
  {
   "cell_type": "code",
   "execution_count": 57,
   "metadata": {},
   "outputs": [
    {
     "data": {
      "application/vnd.plotly.v1+json": {
       "config": {
        "plotlyServerURL": "https://plot.ly"
       },
       "data": [
        {
         "labels": [
          "Champions Big Spenders",
          "Hibernating - Almost Lost",
          "Lost Customers",
          "Loyal Customers",
          "Needs Attention",
          "Potential Loyalists",
          "VVIP - Can't Loose Them"
         ],
         "parents": [
          "Customer Segmentation",
          "Customer Segmentation",
          "Customer Segmentation",
          "Customer Segmentation",
          "Customer Segmentation",
          "Customer Segmentation",
          "Customer Segmentation"
         ],
         "type": "treemap",
         "values": [
          1528,
          2509,
          6896,
          5614,
          3750,
          11264,
          10169
         ]
        }
       ],
       "layout": {
        "template": {
         "data": {
          "bar": [
           {
            "error_x": {
             "color": "#2a3f5f"
            },
            "error_y": {
             "color": "#2a3f5f"
            },
            "marker": {
             "line": {
              "color": "#E5ECF6",
              "width": 0.5
             },
             "pattern": {
              "fillmode": "overlay",
              "size": 10,
              "solidity": 0.2
             }
            },
            "type": "bar"
           }
          ],
          "barpolar": [
           {
            "marker": {
             "line": {
              "color": "#E5ECF6",
              "width": 0.5
             },
             "pattern": {
              "fillmode": "overlay",
              "size": 10,
              "solidity": 0.2
             }
            },
            "type": "barpolar"
           }
          ],
          "carpet": [
           {
            "aaxis": {
             "endlinecolor": "#2a3f5f",
             "gridcolor": "white",
             "linecolor": "white",
             "minorgridcolor": "white",
             "startlinecolor": "#2a3f5f"
            },
            "baxis": {
             "endlinecolor": "#2a3f5f",
             "gridcolor": "white",
             "linecolor": "white",
             "minorgridcolor": "white",
             "startlinecolor": "#2a3f5f"
            },
            "type": "carpet"
           }
          ],
          "choropleth": [
           {
            "colorbar": {
             "outlinewidth": 0,
             "ticks": ""
            },
            "type": "choropleth"
           }
          ],
          "contour": [
           {
            "colorbar": {
             "outlinewidth": 0,
             "ticks": ""
            },
            "colorscale": [
             [
              0,
              "#0d0887"
             ],
             [
              0.1111111111111111,
              "#46039f"
             ],
             [
              0.2222222222222222,
              "#7201a8"
             ],
             [
              0.3333333333333333,
              "#9c179e"
             ],
             [
              0.4444444444444444,
              "#bd3786"
             ],
             [
              0.5555555555555556,
              "#d8576b"
             ],
             [
              0.6666666666666666,
              "#ed7953"
             ],
             [
              0.7777777777777778,
              "#fb9f3a"
             ],
             [
              0.8888888888888888,
              "#fdca26"
             ],
             [
              1,
              "#f0f921"
             ]
            ],
            "type": "contour"
           }
          ],
          "contourcarpet": [
           {
            "colorbar": {
             "outlinewidth": 0,
             "ticks": ""
            },
            "type": "contourcarpet"
           }
          ],
          "heatmap": [
           {
            "colorbar": {
             "outlinewidth": 0,
             "ticks": ""
            },
            "colorscale": [
             [
              0,
              "#0d0887"
             ],
             [
              0.1111111111111111,
              "#46039f"
             ],
             [
              0.2222222222222222,
              "#7201a8"
             ],
             [
              0.3333333333333333,
              "#9c179e"
             ],
             [
              0.4444444444444444,
              "#bd3786"
             ],
             [
              0.5555555555555556,
              "#d8576b"
             ],
             [
              0.6666666666666666,
              "#ed7953"
             ],
             [
              0.7777777777777778,
              "#fb9f3a"
             ],
             [
              0.8888888888888888,
              "#fdca26"
             ],
             [
              1,
              "#f0f921"
             ]
            ],
            "type": "heatmap"
           }
          ],
          "heatmapgl": [
           {
            "colorbar": {
             "outlinewidth": 0,
             "ticks": ""
            },
            "colorscale": [
             [
              0,
              "#0d0887"
             ],
             [
              0.1111111111111111,
              "#46039f"
             ],
             [
              0.2222222222222222,
              "#7201a8"
             ],
             [
              0.3333333333333333,
              "#9c179e"
             ],
             [
              0.4444444444444444,
              "#bd3786"
             ],
             [
              0.5555555555555556,
              "#d8576b"
             ],
             [
              0.6666666666666666,
              "#ed7953"
             ],
             [
              0.7777777777777778,
              "#fb9f3a"
             ],
             [
              0.8888888888888888,
              "#fdca26"
             ],
             [
              1,
              "#f0f921"
             ]
            ],
            "type": "heatmapgl"
           }
          ],
          "histogram": [
           {
            "marker": {
             "pattern": {
              "fillmode": "overlay",
              "size": 10,
              "solidity": 0.2
             }
            },
            "type": "histogram"
           }
          ],
          "histogram2d": [
           {
            "colorbar": {
             "outlinewidth": 0,
             "ticks": ""
            },
            "colorscale": [
             [
              0,
              "#0d0887"
             ],
             [
              0.1111111111111111,
              "#46039f"
             ],
             [
              0.2222222222222222,
              "#7201a8"
             ],
             [
              0.3333333333333333,
              "#9c179e"
             ],
             [
              0.4444444444444444,
              "#bd3786"
             ],
             [
              0.5555555555555556,
              "#d8576b"
             ],
             [
              0.6666666666666666,
              "#ed7953"
             ],
             [
              0.7777777777777778,
              "#fb9f3a"
             ],
             [
              0.8888888888888888,
              "#fdca26"
             ],
             [
              1,
              "#f0f921"
             ]
            ],
            "type": "histogram2d"
           }
          ],
          "histogram2dcontour": [
           {
            "colorbar": {
             "outlinewidth": 0,
             "ticks": ""
            },
            "colorscale": [
             [
              0,
              "#0d0887"
             ],
             [
              0.1111111111111111,
              "#46039f"
             ],
             [
              0.2222222222222222,
              "#7201a8"
             ],
             [
              0.3333333333333333,
              "#9c179e"
             ],
             [
              0.4444444444444444,
              "#bd3786"
             ],
             [
              0.5555555555555556,
              "#d8576b"
             ],
             [
              0.6666666666666666,
              "#ed7953"
             ],
             [
              0.7777777777777778,
              "#fb9f3a"
             ],
             [
              0.8888888888888888,
              "#fdca26"
             ],
             [
              1,
              "#f0f921"
             ]
            ],
            "type": "histogram2dcontour"
           }
          ],
          "mesh3d": [
           {
            "colorbar": {
             "outlinewidth": 0,
             "ticks": ""
            },
            "type": "mesh3d"
           }
          ],
          "parcoords": [
           {
            "line": {
             "colorbar": {
              "outlinewidth": 0,
              "ticks": ""
             }
            },
            "type": "parcoords"
           }
          ],
          "pie": [
           {
            "automargin": true,
            "type": "pie"
           }
          ],
          "scatter": [
           {
            "fillpattern": {
             "fillmode": "overlay",
             "size": 10,
             "solidity": 0.2
            },
            "type": "scatter"
           }
          ],
          "scatter3d": [
           {
            "line": {
             "colorbar": {
              "outlinewidth": 0,
              "ticks": ""
             }
            },
            "marker": {
             "colorbar": {
              "outlinewidth": 0,
              "ticks": ""
             }
            },
            "type": "scatter3d"
           }
          ],
          "scattercarpet": [
           {
            "marker": {
             "colorbar": {
              "outlinewidth": 0,
              "ticks": ""
             }
            },
            "type": "scattercarpet"
           }
          ],
          "scattergeo": [
           {
            "marker": {
             "colorbar": {
              "outlinewidth": 0,
              "ticks": ""
             }
            },
            "type": "scattergeo"
           }
          ],
          "scattergl": [
           {
            "marker": {
             "colorbar": {
              "outlinewidth": 0,
              "ticks": ""
             }
            },
            "type": "scattergl"
           }
          ],
          "scattermapbox": [
           {
            "marker": {
             "colorbar": {
              "outlinewidth": 0,
              "ticks": ""
             }
            },
            "type": "scattermapbox"
           }
          ],
          "scatterpolar": [
           {
            "marker": {
             "colorbar": {
              "outlinewidth": 0,
              "ticks": ""
             }
            },
            "type": "scatterpolar"
           }
          ],
          "scatterpolargl": [
           {
            "marker": {
             "colorbar": {
              "outlinewidth": 0,
              "ticks": ""
             }
            },
            "type": "scatterpolargl"
           }
          ],
          "scatterternary": [
           {
            "marker": {
             "colorbar": {
              "outlinewidth": 0,
              "ticks": ""
             }
            },
            "type": "scatterternary"
           }
          ],
          "surface": [
           {
            "colorbar": {
             "outlinewidth": 0,
             "ticks": ""
            },
            "colorscale": [
             [
              0,
              "#0d0887"
             ],
             [
              0.1111111111111111,
              "#46039f"
             ],
             [
              0.2222222222222222,
              "#7201a8"
             ],
             [
              0.3333333333333333,
              "#9c179e"
             ],
             [
              0.4444444444444444,
              "#bd3786"
             ],
             [
              0.5555555555555556,
              "#d8576b"
             ],
             [
              0.6666666666666666,
              "#ed7953"
             ],
             [
              0.7777777777777778,
              "#fb9f3a"
             ],
             [
              0.8888888888888888,
              "#fdca26"
             ],
             [
              1,
              "#f0f921"
             ]
            ],
            "type": "surface"
           }
          ],
          "table": [
           {
            "cells": {
             "fill": {
              "color": "#EBF0F8"
             },
             "line": {
              "color": "white"
             }
            },
            "header": {
             "fill": {
              "color": "#C8D4E3"
             },
             "line": {
              "color": "white"
             }
            },
            "type": "table"
           }
          ]
         },
         "layout": {
          "annotationdefaults": {
           "arrowcolor": "#2a3f5f",
           "arrowhead": 0,
           "arrowwidth": 1
          },
          "autotypenumbers": "strict",
          "coloraxis": {
           "colorbar": {
            "outlinewidth": 0,
            "ticks": ""
           }
          },
          "colorscale": {
           "diverging": [
            [
             0,
             "#8e0152"
            ],
            [
             0.1,
             "#c51b7d"
            ],
            [
             0.2,
             "#de77ae"
            ],
            [
             0.3,
             "#f1b6da"
            ],
            [
             0.4,
             "#fde0ef"
            ],
            [
             0.5,
             "#f7f7f7"
            ],
            [
             0.6,
             "#e6f5d0"
            ],
            [
             0.7,
             "#b8e186"
            ],
            [
             0.8,
             "#7fbc41"
            ],
            [
             0.9,
             "#4d9221"
            ],
            [
             1,
             "#276419"
            ]
           ],
           "sequential": [
            [
             0,
             "#0d0887"
            ],
            [
             0.1111111111111111,
             "#46039f"
            ],
            [
             0.2222222222222222,
             "#7201a8"
            ],
            [
             0.3333333333333333,
             "#9c179e"
            ],
            [
             0.4444444444444444,
             "#bd3786"
            ],
            [
             0.5555555555555556,
             "#d8576b"
            ],
            [
             0.6666666666666666,
             "#ed7953"
            ],
            [
             0.7777777777777778,
             "#fb9f3a"
            ],
            [
             0.8888888888888888,
             "#fdca26"
            ],
            [
             1,
             "#f0f921"
            ]
           ],
           "sequentialminus": [
            [
             0,
             "#0d0887"
            ],
            [
             0.1111111111111111,
             "#46039f"
            ],
            [
             0.2222222222222222,
             "#7201a8"
            ],
            [
             0.3333333333333333,
             "#9c179e"
            ],
            [
             0.4444444444444444,
             "#bd3786"
            ],
            [
             0.5555555555555556,
             "#d8576b"
            ],
            [
             0.6666666666666666,
             "#ed7953"
            ],
            [
             0.7777777777777778,
             "#fb9f3a"
            ],
            [
             0.8888888888888888,
             "#fdca26"
            ],
            [
             1,
             "#f0f921"
            ]
           ]
          },
          "colorway": [
           "#636efa",
           "#EF553B",
           "#00cc96",
           "#ab63fa",
           "#FFA15A",
           "#19d3f3",
           "#FF6692",
           "#B6E880",
           "#FF97FF",
           "#FECB52"
          ],
          "font": {
           "color": "#2a3f5f"
          },
          "geo": {
           "bgcolor": "white",
           "lakecolor": "white",
           "landcolor": "#E5ECF6",
           "showlakes": true,
           "showland": true,
           "subunitcolor": "white"
          },
          "hoverlabel": {
           "align": "left"
          },
          "hovermode": "closest",
          "mapbox": {
           "style": "light"
          },
          "paper_bgcolor": "white",
          "plot_bgcolor": "#E5ECF6",
          "polar": {
           "angularaxis": {
            "gridcolor": "white",
            "linecolor": "white",
            "ticks": ""
           },
           "bgcolor": "#E5ECF6",
           "radialaxis": {
            "gridcolor": "white",
            "linecolor": "white",
            "ticks": ""
           }
          },
          "scene": {
           "xaxis": {
            "backgroundcolor": "#E5ECF6",
            "gridcolor": "white",
            "gridwidth": 2,
            "linecolor": "white",
            "showbackground": true,
            "ticks": "",
            "zerolinecolor": "white"
           },
           "yaxis": {
            "backgroundcolor": "#E5ECF6",
            "gridcolor": "white",
            "gridwidth": 2,
            "linecolor": "white",
            "showbackground": true,
            "ticks": "",
            "zerolinecolor": "white"
           },
           "zaxis": {
            "backgroundcolor": "#E5ECF6",
            "gridcolor": "white",
            "gridwidth": 2,
            "linecolor": "white",
            "showbackground": true,
            "ticks": "",
            "zerolinecolor": "white"
           }
          },
          "shapedefaults": {
           "line": {
            "color": "#2a3f5f"
           }
          },
          "ternary": {
           "aaxis": {
            "gridcolor": "white",
            "linecolor": "white",
            "ticks": ""
           },
           "baxis": {
            "gridcolor": "white",
            "linecolor": "white",
            "ticks": ""
           },
           "bgcolor": "#E5ECF6",
           "caxis": {
            "gridcolor": "white",
            "linecolor": "white",
            "ticks": ""
           }
          },
          "title": {
           "x": 0.05
          },
          "xaxis": {
           "automargin": true,
           "gridcolor": "white",
           "linecolor": "white",
           "ticks": "",
           "title": {
            "standoff": 15
           },
           "zerolinecolor": "white",
           "zerolinewidth": 2
          },
          "yaxis": {
           "automargin": true,
           "gridcolor": "white",
           "linecolor": "white",
           "ticks": "",
           "title": {
            "standoff": 15
           },
           "zerolinecolor": "white",
           "zerolinewidth": 2
          }
         }
        },
        "title": {
         "text": "Customer Segmentation"
        }
       }
      }
     },
     "metadata": {},
     "output_type": "display_data"
    }
   ],
   "source": [
    "import plotly.graph_objects as go\n",
    "\n",
    "fig =go.Figure(go.Treemap(\n",
    "    labels = rfm_level_ag['Customer Segment'],\n",
    "    parents = ['Customer Segmentation', 'Customer Segmentation', 'Customer Segmentation', 'Customer Segmentation', 'Customer Segmentation', 'Customer Segmentation', 'Customer Segmentation'],   #rfm_level_ag[('Marketing Action', 'unique')].tolist(), \n",
    "    values= rfm_level_ag[('Monetary', 'count')]\n",
    "), layout= go.Layout(title='Customer Segmentation'))\n",
    "\n",
    "fig.show()"
   ]
  },
  {
   "cell_type": "markdown",
   "metadata": {},
   "source": [
    "We can form our Marketing campaigns and targeting Strategies based on the above Customer Segmentation. \n",
    "\n",
    "- We can Upsell high end products to Big Spenders\n",
    "- We can Cross Sell complimentary products to Loyal and Best Customers"
   ]
  },
  {
   "cell_type": "markdown",
   "metadata": {},
   "source": [
    "### K-Means Clustering\n",
    "\n",
    "We have carefully crafted the clusters based on the RFM score and segmented customers. Now lets apply a Machine Learning approach to identify if there are any hidden segments we can find from clusters."
   ]
  },
  {
   "cell_type": "code",
   "execution_count": 59,
   "metadata": {},
   "outputs": [
    {
     "data": {
      "text/html": [
       "<div>\n",
       "<style scoped>\n",
       "    .dataframe tbody tr th:only-of-type {\n",
       "        vertical-align: middle;\n",
       "    }\n",
       "\n",
       "    .dataframe tbody tr th {\n",
       "        vertical-align: top;\n",
       "    }\n",
       "\n",
       "    .dataframe thead th {\n",
       "        text-align: right;\n",
       "    }\n",
       "</style>\n",
       "<table border=\"1\" class=\"dataframe\">\n",
       "  <thead>\n",
       "    <tr style=\"text-align: right;\">\n",
       "      <th></th>\n",
       "      <th>Recency</th>\n",
       "      <th>Frequency</th>\n",
       "      <th>Monetary</th>\n",
       "      <th>R</th>\n",
       "      <th>F</th>\n",
       "      <th>M</th>\n",
       "      <th>RFM_Segment</th>\n",
       "      <th>RFM_Score</th>\n",
       "      <th>Customer Segment</th>\n",
       "      <th>Marketing Action</th>\n",
       "    </tr>\n",
       "    <tr>\n",
       "      <th>customer_unique_id</th>\n",
       "      <th></th>\n",
       "      <th></th>\n",
       "      <th></th>\n",
       "      <th></th>\n",
       "      <th></th>\n",
       "      <th></th>\n",
       "      <th></th>\n",
       "      <th></th>\n",
       "      <th></th>\n",
       "      <th></th>\n",
       "    </tr>\n",
       "  </thead>\n",
       "  <tbody>\n",
       "    <tr>\n",
       "      <th>0000b849f77a49e4a4ce2b2a4ca5be3f</th>\n",
       "      <td>175</td>\n",
       "      <td>2</td>\n",
       "      <td>136.26</td>\n",
       "      <td>2</td>\n",
       "      <td>1</td>\n",
       "      <td>1</td>\n",
       "      <td>211</td>\n",
       "      <td>4</td>\n",
       "      <td>Lost Customers</td>\n",
       "      <td>Don't spend too much trying to re-acquire</td>\n",
       "    </tr>\n",
       "    <tr>\n",
       "      <th>0000f46a3911fa3c0805444483337064</th>\n",
       "      <td>131</td>\n",
       "      <td>3</td>\n",
       "      <td>583.87</td>\n",
       "      <td>3</td>\n",
       "      <td>2</td>\n",
       "      <td>4</td>\n",
       "      <td>324</td>\n",
       "      <td>9</td>\n",
       "      <td>VVIP - Can't Loose Them</td>\n",
       "      <td>No Price Incentives; Offer Limited edition and...</td>\n",
       "    </tr>\n",
       "    <tr>\n",
       "      <th>0004bd2a26a76fe21f786e4fbd80607f</th>\n",
       "      <td>13</td>\n",
       "      <td>4</td>\n",
       "      <td>480.54</td>\n",
       "      <td>4</td>\n",
       "      <td>3</td>\n",
       "      <td>4</td>\n",
       "      <td>434</td>\n",
       "      <td>11</td>\n",
       "      <td>VVIP - Can't Loose Them</td>\n",
       "      <td>No Price Incentives; Offer Limited edition and...</td>\n",
       "    </tr>\n",
       "    <tr>\n",
       "      <th>00050ab1314c0e55a6ca13cf7181fecf</th>\n",
       "      <td>225</td>\n",
       "      <td>1</td>\n",
       "      <td>80.18</td>\n",
       "      <td>2</td>\n",
       "      <td>1</td>\n",
       "      <td>1</td>\n",
       "      <td>211</td>\n",
       "      <td>4</td>\n",
       "      <td>Lost Customers</td>\n",
       "      <td>Don't spend too much trying to re-acquire</td>\n",
       "    </tr>\n",
       "    <tr>\n",
       "      <th>0005ef4cd20d2893f0d9fbd94d3c0d97</th>\n",
       "      <td>487</td>\n",
       "      <td>1</td>\n",
       "      <td>187.91</td>\n",
       "      <td>1</td>\n",
       "      <td>1</td>\n",
       "      <td>2</td>\n",
       "      <td>112</td>\n",
       "      <td>4</td>\n",
       "      <td>Hibernating - Almost Lost</td>\n",
       "      <td>Aggressive price incentives</td>\n",
       "    </tr>\n",
       "  </tbody>\n",
       "</table>\n",
       "</div>"
      ],
      "text/plain": [
       "                                  Recency  Frequency  Monetary  R  F  M   \n",
       "customer_unique_id                                                        \n",
       "0000b849f77a49e4a4ce2b2a4ca5be3f      175          2    136.26  2  1  1  \\\n",
       "0000f46a3911fa3c0805444483337064      131          3    583.87  3  2  4   \n",
       "0004bd2a26a76fe21f786e4fbd80607f       13          4    480.54  4  3  4   \n",
       "00050ab1314c0e55a6ca13cf7181fecf      225          1     80.18  2  1  1   \n",
       "0005ef4cd20d2893f0d9fbd94d3c0d97      487          1    187.91  1  1  2   \n",
       "\n",
       "                                  RFM_Segment  RFM_Score   \n",
       "customer_unique_id                                         \n",
       "0000b849f77a49e4a4ce2b2a4ca5be3f          211          4  \\\n",
       "0000f46a3911fa3c0805444483337064          324          9   \n",
       "0004bd2a26a76fe21f786e4fbd80607f          434         11   \n",
       "00050ab1314c0e55a6ca13cf7181fecf          211          4   \n",
       "0005ef4cd20d2893f0d9fbd94d3c0d97          112          4   \n",
       "\n",
       "                                           Customer Segment   \n",
       "customer_unique_id                                            \n",
       "0000b849f77a49e4a4ce2b2a4ca5be3f             Lost Customers  \\\n",
       "0000f46a3911fa3c0805444483337064    VVIP - Can't Loose Them   \n",
       "0004bd2a26a76fe21f786e4fbd80607f    VVIP - Can't Loose Them   \n",
       "00050ab1314c0e55a6ca13cf7181fecf             Lost Customers   \n",
       "0005ef4cd20d2893f0d9fbd94d3c0d97  Hibernating - Almost Lost   \n",
       "\n",
       "                                                                   Marketing Action  \n",
       "customer_unique_id                                                                   \n",
       "0000b849f77a49e4a4ce2b2a4ca5be3f          Don't spend too much trying to re-acquire  \n",
       "0000f46a3911fa3c0805444483337064  No Price Incentives; Offer Limited edition and...  \n",
       "0004bd2a26a76fe21f786e4fbd80607f  No Price Incentives; Offer Limited edition and...  \n",
       "00050ab1314c0e55a6ca13cf7181fecf          Don't spend too much trying to re-acquire  \n",
       "0005ef4cd20d2893f0d9fbd94d3c0d97                        Aggressive price incentives  "
      ]
     },
     "execution_count": 59,
     "metadata": {},
     "output_type": "execute_result"
    }
   ],
   "source": [
    "rfm.head(5)\n"
   ]
  },
  {
   "cell_type": "code",
   "execution_count": 60,
   "metadata": {},
   "outputs": [
    {
     "data": {
      "text/html": [
       "<div>\n",
       "<style scoped>\n",
       "    .dataframe tbody tr th:only-of-type {\n",
       "        vertical-align: middle;\n",
       "    }\n",
       "\n",
       "    .dataframe tbody tr th {\n",
       "        vertical-align: top;\n",
       "    }\n",
       "\n",
       "    .dataframe thead th {\n",
       "        text-align: right;\n",
       "    }\n",
       "</style>\n",
       "<table border=\"1\" class=\"dataframe\">\n",
       "  <thead>\n",
       "    <tr style=\"text-align: right;\">\n",
       "      <th></th>\n",
       "      <th>Recency</th>\n",
       "      <th>Frequency</th>\n",
       "      <th>Monetary</th>\n",
       "    </tr>\n",
       "    <tr>\n",
       "      <th>customer_unique_id</th>\n",
       "      <th></th>\n",
       "      <th></th>\n",
       "      <th></th>\n",
       "    </tr>\n",
       "  </thead>\n",
       "  <tbody>\n",
       "    <tr>\n",
       "      <th>0000b849f77a49e4a4ce2b2a4ca5be3f</th>\n",
       "      <td>175</td>\n",
       "      <td>2</td>\n",
       "      <td>136.26</td>\n",
       "    </tr>\n",
       "    <tr>\n",
       "      <th>0000f46a3911fa3c0805444483337064</th>\n",
       "      <td>131</td>\n",
       "      <td>3</td>\n",
       "      <td>583.87</td>\n",
       "    </tr>\n",
       "    <tr>\n",
       "      <th>0004bd2a26a76fe21f786e4fbd80607f</th>\n",
       "      <td>13</td>\n",
       "      <td>4</td>\n",
       "      <td>480.54</td>\n",
       "    </tr>\n",
       "    <tr>\n",
       "      <th>00050ab1314c0e55a6ca13cf7181fecf</th>\n",
       "      <td>225</td>\n",
       "      <td>1</td>\n",
       "      <td>80.18</td>\n",
       "    </tr>\n",
       "    <tr>\n",
       "      <th>0005ef4cd20d2893f0d9fbd94d3c0d97</th>\n",
       "      <td>487</td>\n",
       "      <td>1</td>\n",
       "      <td>187.91</td>\n",
       "    </tr>\n",
       "  </tbody>\n",
       "</table>\n",
       "</div>"
      ],
      "text/plain": [
       "                                  Recency  Frequency  Monetary\n",
       "customer_unique_id                                            \n",
       "0000b849f77a49e4a4ce2b2a4ca5be3f      175          2    136.26\n",
       "0000f46a3911fa3c0805444483337064      131          3    583.87\n",
       "0004bd2a26a76fe21f786e4fbd80607f       13          4    480.54\n",
       "00050ab1314c0e55a6ca13cf7181fecf      225          1     80.18\n",
       "0005ef4cd20d2893f0d9fbd94d3c0d97      487          1    187.91"
      ]
     },
     "execution_count": 60,
     "metadata": {},
     "output_type": "execute_result"
    }
   ],
   "source": [
    "data_rfm = rfm[['Recency', 'Frequency', 'Monetary']]\n",
    "data_rfm.head(5)"
   ]
  },
  {
   "cell_type": "code",
   "execution_count": 61,
   "metadata": {},
   "outputs": [
    {
     "name": "stdout",
     "output_type": "stream",
     "text": [
      "Recency     -4.987779\n",
      "Frequency   -1.298726\n",
      "Monetary    -3.543620\n",
      "dtype: float64\n",
      "Recency      1.907644\n",
      "Frequency    4.642523\n",
      "Monetary     4.383032\n",
      "dtype: float64\n"
     ]
    }
   ],
   "source": [
    "import numpy as np\n",
    "from sklearn.preprocessing import StandardScaler\n",
    "data_log = np.log(data_rfm)\n",
    "scaler = StandardScaler()\n",
    "scaler.fit(data_log)\n",
    "data_normalized = scaler.transform(data_log)\n",
    "data_normalized = pd.DataFrame(data=data_normalized, index=data_rfm.index, columns=data_rfm.columns)\n",
    "print(data_normalized.min())\n",
    "print(data_normalized.max())"
   ]
  },
  {
   "cell_type": "code",
   "execution_count": 62,
   "metadata": {},
   "outputs": [
    {
     "name": "stderr",
     "output_type": "stream",
     "text": [
      "c:\\Users\\ADMIN\\AppData\\Local\\Programs\\Python\\Python311\\Lib\\site-packages\\sklearn\\cluster\\_kmeans.py:870: FutureWarning:\n",
      "\n",
      "The default value of `n_init` will change from 10 to 'auto' in 1.4. Set the value of `n_init` explicitly to suppress the warning\n",
      "\n"
     ]
    }
   ],
   "source": [
    "from sklearn.cluster import KMeans\n",
    "#unsupervised Learning\n",
    "# demo nếu phân thành 5 cụm\n",
    "kmeans = KMeans(n_clusters=5, random_state=1) \n",
    "kmeans.fit(data_normalized)\n",
    "cluster_labels = kmeans.labels_\n",
    "data_rfm_k5 = data_rfm.assign(Cluster=cluster_labels) # gán từng hàng với label đã xác định được nhờ KMeans  tương ứng\n"
   ]
  },
  {
   "cell_type": "markdown",
   "metadata": {},
   "source": [
    "To find which ‘k’ value is more suitable for our data we will use elbow method.\n",
    "phương pháp khủy tay\n"
   ]
  },
  {
   "cell_type": "markdown",
   "metadata": {},
   "source": [
    "#### giải thích 1 chút về phương pháp KMeans\n",
    "ý tưởng là sử dụng khoảng cách giữa 1 điểm là điểm trung tâm của cụm với các điểm trong 1 cụm. \n",
    "\n",
    "để biểu thị cho sự chính xác của thuật toán có thể tínht oán giá trị SSE. SSE là tổng của bình phương khoảng cách giữa mỗi điểm dữ liệu và tâm cụm tương ứng của nó. Mục tiêu của thuật toán K-means là tìm cách phân chia dữ liệu sao cho giá trị SSE là nhỏ nhất có thể, tức là các điểm dữ liệu gần nhau trong cùng một cụm và xa nhau giữa các cụm khác nhau."
   ]
  },
  {
   "cell_type": "markdown",
   "metadata": {},
   "source": [
    "#### Tìm cách phân cụm tốt nhất\n"
   ]
  },
  {
   "cell_type": "code",
   "execution_count": 63,
   "metadata": {},
   "outputs": [
    {
     "name": "stderr",
     "output_type": "stream",
     "text": [
      "c:\\Users\\ADMIN\\AppData\\Local\\Programs\\Python\\Python311\\Lib\\site-packages\\sklearn\\cluster\\_kmeans.py:870: FutureWarning:\n",
      "\n",
      "The default value of `n_init` will change from 10 to 'auto' in 1.4. Set the value of `n_init` explicitly to suppress the warning\n",
      "\n",
      "c:\\Users\\ADMIN\\AppData\\Local\\Programs\\Python\\Python311\\Lib\\site-packages\\sklearn\\cluster\\_kmeans.py:870: FutureWarning:\n",
      "\n",
      "The default value of `n_init` will change from 10 to 'auto' in 1.4. Set the value of `n_init` explicitly to suppress the warning\n",
      "\n",
      "c:\\Users\\ADMIN\\AppData\\Local\\Programs\\Python\\Python311\\Lib\\site-packages\\sklearn\\cluster\\_kmeans.py:870: FutureWarning:\n",
      "\n",
      "The default value of `n_init` will change from 10 to 'auto' in 1.4. Set the value of `n_init` explicitly to suppress the warning\n",
      "\n",
      "c:\\Users\\ADMIN\\AppData\\Local\\Programs\\Python\\Python311\\Lib\\site-packages\\sklearn\\cluster\\_kmeans.py:870: FutureWarning:\n",
      "\n",
      "The default value of `n_init` will change from 10 to 'auto' in 1.4. Set the value of `n_init` explicitly to suppress the warning\n",
      "\n",
      "c:\\Users\\ADMIN\\AppData\\Local\\Programs\\Python\\Python311\\Lib\\site-packages\\sklearn\\cluster\\_kmeans.py:870: FutureWarning:\n",
      "\n",
      "The default value of `n_init` will change from 10 to 'auto' in 1.4. Set the value of `n_init` explicitly to suppress the warning\n",
      "\n",
      "c:\\Users\\ADMIN\\AppData\\Local\\Programs\\Python\\Python311\\Lib\\site-packages\\sklearn\\cluster\\_kmeans.py:870: FutureWarning:\n",
      "\n",
      "The default value of `n_init` will change from 10 to 'auto' in 1.4. Set the value of `n_init` explicitly to suppress the warning\n",
      "\n",
      "c:\\Users\\ADMIN\\AppData\\Local\\Programs\\Python\\Python311\\Lib\\site-packages\\sklearn\\cluster\\_kmeans.py:870: FutureWarning:\n",
      "\n",
      "The default value of `n_init` will change from 10 to 'auto' in 1.4. Set the value of `n_init` explicitly to suppress the warning\n",
      "\n"
     ]
    },
    {
     "data": {
      "image/png": "[encoded data removed]",
      "text/plain": [
       "<Figure size 1800x900 with 1 Axes>"
      ]
     },
     "metadata": {},
     "output_type": "display_data"
    }
   ],
   "source": [
    "sse = {}\n",
    "for k in range(1, 8):  \n",
    "    kmeans = KMeans(n_clusters=k, random_state=1)\n",
    "    kmeans.fit(data_normalized)\n",
    "    sse[k] = kmeans.inertia_\n",
    "plt.figure(figsize=(18,9))\n",
    "\n",
    "plt.title('The Elbow Method')\n",
    "plt.xlabel('k')\n",
    "plt.ylabel('SSE')\n",
    "sns.pointplot(x=list(sse.keys()), y=list(sse.values()))\n",
    "plt.show()"
   ]
  },
  {
   "cell_type": "markdown",
   "metadata": {},
   "source": [
    "ta thấy số cụm tốt nhất là số cụm ở đó sự thay đổi bắt đầu không đáng kể (đường thẳng nằm ngang hơn)\n",
    "=> chọn n_clusters=  4"
   ]
  },
  {
   "cell_type": "code",
   "execution_count": 65,
   "metadata": {},
   "outputs": [
    {
     "name": "stderr",
     "output_type": "stream",
     "text": [
      "c:\\Users\\ADMIN\\AppData\\Local\\Programs\\Python\\Python311\\Lib\\site-packages\\sklearn\\cluster\\_kmeans.py:870: FutureWarning:\n",
      "\n",
      "The default value of `n_init` will change from 10 to 'auto' in 1.4. Set the value of `n_init` explicitly to suppress the warning\n",
      "\n"
     ]
    },
    {
     "data": {
      "text/html": [
       "<div>\n",
       "<style scoped>\n",
       "    .dataframe tbody tr th:only-of-type {\n",
       "        vertical-align: middle;\n",
       "    }\n",
       "\n",
       "    .dataframe tbody tr th {\n",
       "        vertical-align: top;\n",
       "    }\n",
       "\n",
       "    .dataframe thead tr th {\n",
       "        text-align: left;\n",
       "    }\n",
       "\n",
       "    .dataframe thead tr:last-of-type th {\n",
       "        text-align: right;\n",
       "    }\n",
       "</style>\n",
       "<table border=\"1\" class=\"dataframe\">\n",
       "  <thead>\n",
       "    <tr>\n",
       "      <th></th>\n",
       "      <th>Recency</th>\n",
       "      <th>Frequency</th>\n",
       "      <th colspan=\"2\" halign=\"left\">Monetary</th>\n",
       "    </tr>\n",
       "    <tr>\n",
       "      <th></th>\n",
       "      <th>mean</th>\n",
       "      <th>mean</th>\n",
       "      <th>mean</th>\n",
       "      <th>count</th>\n",
       "    </tr>\n",
       "    <tr>\n",
       "      <th>Cluster</th>\n",
       "      <th></th>\n",
       "      <th></th>\n",
       "      <th></th>\n",
       "      <th></th>\n",
       "    </tr>\n",
       "  </thead>\n",
       "  <tbody>\n",
       "    <tr>\n",
       "      <th>0</th>\n",
       "      <td>202.2</td>\n",
       "      <td>2.5</td>\n",
       "      <td>381.9</td>\n",
       "      <td>14675</td>\n",
       "    </tr>\n",
       "    <tr>\n",
       "      <th>1</th>\n",
       "      <td>66.6</td>\n",
       "      <td>4.2</td>\n",
       "      <td>759.1</td>\n",
       "      <td>9717</td>\n",
       "    </tr>\n",
       "    <tr>\n",
       "      <th>2</th>\n",
       "      <td>276.3</td>\n",
       "      <td>1.1</td>\n",
       "      <td>116.1</td>\n",
       "      <td>11034</td>\n",
       "    </tr>\n",
       "    <tr>\n",
       "      <th>3</th>\n",
       "      <td>40.0</td>\n",
       "      <td>1.9</td>\n",
       "      <td>215.5</td>\n",
       "      <td>6304</td>\n",
       "    </tr>\n",
       "  </tbody>\n",
       "</table>\n",
       "</div>"
      ],
      "text/plain": [
       "        Recency Frequency Monetary       \n",
       "           mean      mean     mean  count\n",
       "Cluster                                  \n",
       "0         202.2       2.5    381.9  14675\n",
       "1          66.6       4.2    759.1   9717\n",
       "2         276.3       1.1    116.1  11034\n",
       "3          40.0       1.9    215.5   6304"
      ]
     },
     "execution_count": 65,
     "metadata": {},
     "output_type": "execute_result"
    }
   ],
   "source": [
    "kmeans = KMeans(n_clusters=4, random_state=1) \n",
    "kmeans.fit(data_normalized)\n",
    "cluster_labels = kmeans.labels_\n",
    "rfm_k4 = rfm.assign(Cluster=cluster_labels)\n",
    "grouped = rfm_k4.groupby(['Cluster'])\n",
    "grouped.agg({\n",
    "    'Recency': 'mean',\n",
    "    'Frequency': 'mean',\n",
    "    'Monetary': ['mean', 'count']\n",
    "  }).round(1)"
   ]
  },
  {
   "cell_type": "code",
   "execution_count": 68,
   "metadata": {},
   "outputs": [
    {
     "data": {
      "text/html": [
       "<div>\n",
       "<style scoped>\n",
       "    .dataframe tbody tr th:only-of-type {\n",
       "        vertical-align: middle;\n",
       "    }\n",
       "\n",
       "    .dataframe tbody tr th {\n",
       "        vertical-align: top;\n",
       "    }\n",
       "\n",
       "    .dataframe thead th {\n",
       "        text-align: right;\n",
       "    }\n",
       "</style>\n",
       "<table border=\"1\" class=\"dataframe\">\n",
       "  <thead>\n",
       "    <tr style=\"text-align: right;\">\n",
       "      <th></th>\n",
       "      <th>Recency</th>\n",
       "      <th>Frequency</th>\n",
       "      <th>Monetary</th>\n",
       "      <th>R</th>\n",
       "      <th>F</th>\n",
       "      <th>M</th>\n",
       "      <th>RFM_Segment</th>\n",
       "      <th>RFM_Score</th>\n",
       "      <th>Customer Segment</th>\n",
       "      <th>Marketing Action</th>\n",
       "      <th>Cluster</th>\n",
       "    </tr>\n",
       "    <tr>\n",
       "      <th>customer_unique_id</th>\n",
       "      <th></th>\n",
       "      <th></th>\n",
       "      <th></th>\n",
       "      <th></th>\n",
       "      <th></th>\n",
       "      <th></th>\n",
       "      <th></th>\n",
       "      <th></th>\n",
       "      <th></th>\n",
       "      <th></th>\n",
       "      <th></th>\n",
       "    </tr>\n",
       "  </thead>\n",
       "  <tbody>\n",
       "    <tr>\n",
       "      <th>0000b849f77a49e4a4ce2b2a4ca5be3f</th>\n",
       "      <td>175</td>\n",
       "      <td>2</td>\n",
       "      <td>136.26</td>\n",
       "      <td>2</td>\n",
       "      <td>1</td>\n",
       "      <td>1</td>\n",
       "      <td>211</td>\n",
       "      <td>4</td>\n",
       "      <td>Lost Customers</td>\n",
       "      <td>Don't spend too much trying to re-acquire</td>\n",
       "      <td>0</td>\n",
       "    </tr>\n",
       "    <tr>\n",
       "      <th>0000f46a3911fa3c0805444483337064</th>\n",
       "      <td>131</td>\n",
       "      <td>3</td>\n",
       "      <td>583.87</td>\n",
       "      <td>3</td>\n",
       "      <td>2</td>\n",
       "      <td>4</td>\n",
       "      <td>324</td>\n",
       "      <td>9</td>\n",
       "      <td>VVIP - Can't Loose Them</td>\n",
       "      <td>No Price Incentives; Offer Limited edition and...</td>\n",
       "      <td>0</td>\n",
       "    </tr>\n",
       "    <tr>\n",
       "      <th>0004bd2a26a76fe21f786e4fbd80607f</th>\n",
       "      <td>13</td>\n",
       "      <td>4</td>\n",
       "      <td>480.54</td>\n",
       "      <td>4</td>\n",
       "      <td>3</td>\n",
       "      <td>4</td>\n",
       "      <td>434</td>\n",
       "      <td>11</td>\n",
       "      <td>VVIP - Can't Loose Them</td>\n",
       "      <td>No Price Incentives; Offer Limited edition and...</td>\n",
       "      <td>1</td>\n",
       "    </tr>\n",
       "    <tr>\n",
       "      <th>00050ab1314c0e55a6ca13cf7181fecf</th>\n",
       "      <td>225</td>\n",
       "      <td>1</td>\n",
       "      <td>80.18</td>\n",
       "      <td>2</td>\n",
       "      <td>1</td>\n",
       "      <td>1</td>\n",
       "      <td>211</td>\n",
       "      <td>4</td>\n",
       "      <td>Lost Customers</td>\n",
       "      <td>Don't spend too much trying to re-acquire</td>\n",
       "      <td>2</td>\n",
       "    </tr>\n",
       "    <tr>\n",
       "      <th>0005ef4cd20d2893f0d9fbd94d3c0d97</th>\n",
       "      <td>487</td>\n",
       "      <td>1</td>\n",
       "      <td>187.91</td>\n",
       "      <td>1</td>\n",
       "      <td>1</td>\n",
       "      <td>2</td>\n",
       "      <td>112</td>\n",
       "      <td>4</td>\n",
       "      <td>Hibernating - Almost Lost</td>\n",
       "      <td>Aggressive price incentives</td>\n",
       "      <td>2</td>\n",
       "    </tr>\n",
       "  </tbody>\n",
       "</table>\n",
       "</div>"
      ],
      "text/plain": [
       "                                  Recency  Frequency  Monetary  R  F  M   \n",
       "customer_unique_id                                                        \n",
       "0000b849f77a49e4a4ce2b2a4ca5be3f      175          2    136.26  2  1  1  \\\n",
       "0000f46a3911fa3c0805444483337064      131          3    583.87  3  2  4   \n",
       "0004bd2a26a76fe21f786e4fbd80607f       13          4    480.54  4  3  4   \n",
       "00050ab1314c0e55a6ca13cf7181fecf      225          1     80.18  2  1  1   \n",
       "0005ef4cd20d2893f0d9fbd94d3c0d97      487          1    187.91  1  1  2   \n",
       "\n",
       "                                  RFM_Segment  RFM_Score   \n",
       "customer_unique_id                                         \n",
       "0000b849f77a49e4a4ce2b2a4ca5be3f          211          4  \\\n",
       "0000f46a3911fa3c0805444483337064          324          9   \n",
       "0004bd2a26a76fe21f786e4fbd80607f          434         11   \n",
       "00050ab1314c0e55a6ca13cf7181fecf          211          4   \n",
       "0005ef4cd20d2893f0d9fbd94d3c0d97          112          4   \n",
       "\n",
       "                                           Customer Segment   \n",
       "customer_unique_id                                            \n",
       "0000b849f77a49e4a4ce2b2a4ca5be3f             Lost Customers  \\\n",
       "0000f46a3911fa3c0805444483337064    VVIP - Can't Loose Them   \n",
       "0004bd2a26a76fe21f786e4fbd80607f    VVIP - Can't Loose Them   \n",
       "00050ab1314c0e55a6ca13cf7181fecf             Lost Customers   \n",
       "0005ef4cd20d2893f0d9fbd94d3c0d97  Hibernating - Almost Lost   \n",
       "\n",
       "                                                                   Marketing Action   \n",
       "customer_unique_id                                                                    \n",
       "0000b849f77a49e4a4ce2b2a4ca5be3f          Don't spend too much trying to re-acquire  \\\n",
       "0000f46a3911fa3c0805444483337064  No Price Incentives; Offer Limited edition and...   \n",
       "0004bd2a26a76fe21f786e4fbd80607f  No Price Incentives; Offer Limited edition and...   \n",
       "00050ab1314c0e55a6ca13cf7181fecf          Don't spend too much trying to re-acquire   \n",
       "0005ef4cd20d2893f0d9fbd94d3c0d97                        Aggressive price incentives   \n",
       "\n",
       "                                  Cluster  \n",
       "customer_unique_id                         \n",
       "0000b849f77a49e4a4ce2b2a4ca5be3f        0  \n",
       "0000f46a3911fa3c0805444483337064        0  \n",
       "0004bd2a26a76fe21f786e4fbd80607f        1  \n",
       "00050ab1314c0e55a6ca13cf7181fecf        2  \n",
       "0005ef4cd20d2893f0d9fbd94d3c0d97        2  "
      ]
     },
     "execution_count": 68,
     "metadata": {},
     "output_type": "execute_result"
    }
   ],
   "source": [
    "rfm_k4.head(5)\n"
   ]
  },
  {
   "cell_type": "code",
   "execution_count": 69,
   "metadata": {},
   "outputs": [
    {
     "data": {
      "text/html": [
       "<div>\n",
       "<style scoped>\n",
       "    .dataframe tbody tr th:only-of-type {\n",
       "        vertical-align: middle;\n",
       "    }\n",
       "\n",
       "    .dataframe tbody tr th {\n",
       "        vertical-align: top;\n",
       "    }\n",
       "\n",
       "    .dataframe thead th {\n",
       "        text-align: right;\n",
       "    }\n",
       "</style>\n",
       "<table border=\"1\" class=\"dataframe\">\n",
       "  <thead>\n",
       "    <tr style=\"text-align: right;\">\n",
       "      <th></th>\n",
       "      <th>Recency</th>\n",
       "      <th>Frequency</th>\n",
       "      <th>Monetary</th>\n",
       "      <th>Cluster</th>\n",
       "    </tr>\n",
       "    <tr>\n",
       "      <th>customer_unique_id</th>\n",
       "      <th></th>\n",
       "      <th></th>\n",
       "      <th></th>\n",
       "      <th></th>\n",
       "    </tr>\n",
       "  </thead>\n",
       "  <tbody>\n",
       "    <tr>\n",
       "      <th>0000b849f77a49e4a4ce2b2a4ca5be3f</th>\n",
       "      <td>0.447298</td>\n",
       "      <td>-0.062860</td>\n",
       "      <td>-0.660136</td>\n",
       "      <td>0</td>\n",
       "    </tr>\n",
       "    <tr>\n",
       "      <th>0000f46a3911fa3c0805444483337064</th>\n",
       "      <td>0.142554</td>\n",
       "      <td>0.660076</td>\n",
       "      <td>0.920890</td>\n",
       "      <td>0</td>\n",
       "    </tr>\n",
       "    <tr>\n",
       "      <th>0004bd2a26a76fe21f786e4fbd80607f</th>\n",
       "      <td>-2.288597</td>\n",
       "      <td>1.173007</td>\n",
       "      <td>0.709269</td>\n",
       "      <td>1</td>\n",
       "    </tr>\n",
       "    <tr>\n",
       "      <th>00050ab1314c0e55a6ca13cf7181fecf</th>\n",
       "      <td>0.711765</td>\n",
       "      <td>-1.298726</td>\n",
       "      <td>-1.236313</td>\n",
       "      <td>2</td>\n",
       "    </tr>\n",
       "    <tr>\n",
       "      <th>0005ef4cd20d2893f0d9fbd94d3c0d97</th>\n",
       "      <td>1.524338</td>\n",
       "      <td>-1.298726</td>\n",
       "      <td>-0.310927</td>\n",
       "      <td>2</td>\n",
       "    </tr>\n",
       "  </tbody>\n",
       "</table>\n",
       "</div>"
      ],
      "text/plain": [
       "                                   Recency  Frequency  Monetary  Cluster\n",
       "customer_unique_id                                                      \n",
       "0000b849f77a49e4a4ce2b2a4ca5be3f  0.447298  -0.062860 -0.660136        0\n",
       "0000f46a3911fa3c0805444483337064  0.142554   0.660076  0.920890        0\n",
       "0004bd2a26a76fe21f786e4fbd80607f -2.288597   1.173007  0.709269        1\n",
       "00050ab1314c0e55a6ca13cf7181fecf  0.711765  -1.298726 -1.236313        2\n",
       "0005ef4cd20d2893f0d9fbd94d3c0d97  1.524338  -1.298726 -0.310927        2"
      ]
     },
     "execution_count": 69,
     "metadata": {},
     "output_type": "execute_result"
    }
   ],
   "source": [
    "rfm_k4_normalize = data_normalized.assign(Cluster = cluster_labels)\n",
    "\n",
    "rfm_k4_normalize.head(5)"
   ]
  },
  {
   "cell_type": "code",
   "execution_count": 70,
   "metadata": {},
   "outputs": [
    {
     "data": {
      "text/html": [
       "<div>\n",
       "<style scoped>\n",
       "    .dataframe tbody tr th:only-of-type {\n",
       "        vertical-align: middle;\n",
       "    }\n",
       "\n",
       "    .dataframe tbody tr th {\n",
       "        vertical-align: top;\n",
       "    }\n",
       "\n",
       "    .dataframe thead th {\n",
       "        text-align: right;\n",
       "    }\n",
       "</style>\n",
       "<table border=\"1\" class=\"dataframe\">\n",
       "  <thead>\n",
       "    <tr style=\"text-align: right;\">\n",
       "      <th></th>\n",
       "      <th>customer_unique_id</th>\n",
       "      <th>Cluster</th>\n",
       "      <th>Metric</th>\n",
       "      <th>Value</th>\n",
       "    </tr>\n",
       "  </thead>\n",
       "  <tbody>\n",
       "    <tr>\n",
       "      <th>0</th>\n",
       "      <td>0000b849f77a49e4a4ce2b2a4ca5be3f</td>\n",
       "      <td>0</td>\n",
       "      <td>Recency</td>\n",
       "      <td>0.447298</td>\n",
       "    </tr>\n",
       "    <tr>\n",
       "      <th>1</th>\n",
       "      <td>0000f46a3911fa3c0805444483337064</td>\n",
       "      <td>0</td>\n",
       "      <td>Recency</td>\n",
       "      <td>0.142554</td>\n",
       "    </tr>\n",
       "    <tr>\n",
       "      <th>2</th>\n",
       "      <td>0004bd2a26a76fe21f786e4fbd80607f</td>\n",
       "      <td>1</td>\n",
       "      <td>Recency</td>\n",
       "      <td>-2.288597</td>\n",
       "    </tr>\n",
       "    <tr>\n",
       "      <th>3</th>\n",
       "      <td>00050ab1314c0e55a6ca13cf7181fecf</td>\n",
       "      <td>2</td>\n",
       "      <td>Recency</td>\n",
       "      <td>0.711765</td>\n",
       "    </tr>\n",
       "    <tr>\n",
       "      <th>4</th>\n",
       "      <td>0005ef4cd20d2893f0d9fbd94d3c0d97</td>\n",
       "      <td>2</td>\n",
       "      <td>Recency</td>\n",
       "      <td>1.524338</td>\n",
       "    </tr>\n",
       "    <tr>\n",
       "      <th>5</th>\n",
       "      <td>000949456b182f53c18b68d6babc79c1</td>\n",
       "      <td>2</td>\n",
       "      <td>Recency</td>\n",
       "      <td>-0.031783</td>\n",
       "    </tr>\n",
       "    <tr>\n",
       "      <th>6</th>\n",
       "      <td>000a5ad9c4601d2bbdd9ed765d5213b3</td>\n",
       "      <td>0</td>\n",
       "      <td>Recency</td>\n",
       "      <td>0.435202</td>\n",
       "    </tr>\n",
       "    <tr>\n",
       "      <th>7</th>\n",
       "      <td>000c8bdb58a29e7115cfc257230fb21b</td>\n",
       "      <td>0</td>\n",
       "      <td>Recency</td>\n",
       "      <td>0.744005</td>\n",
       "    </tr>\n",
       "    <tr>\n",
       "      <th>8</th>\n",
       "      <td>000de6019bb59f34c099a907c151d855</td>\n",
       "      <td>3</td>\n",
       "      <td>Recency</td>\n",
       "      <td>-1.444261</td>\n",
       "    </tr>\n",
       "    <tr>\n",
       "      <th>9</th>\n",
       "      <td>000ec5bff359e1c0ad76a81a45cb598f</td>\n",
       "      <td>1</td>\n",
       "      <td>Recency</td>\n",
       "      <td>-0.714839</td>\n",
       "    </tr>\n",
       "  </tbody>\n",
       "</table>\n",
       "</div>"
      ],
      "text/plain": [
       "                 customer_unique_id  Cluster   Metric     Value\n",
       "0  0000b849f77a49e4a4ce2b2a4ca5be3f        0  Recency  0.447298\n",
       "1  0000f46a3911fa3c0805444483337064        0  Recency  0.142554\n",
       "2  0004bd2a26a76fe21f786e4fbd80607f        1  Recency -2.288597\n",
       "3  00050ab1314c0e55a6ca13cf7181fecf        2  Recency  0.711765\n",
       "4  0005ef4cd20d2893f0d9fbd94d3c0d97        2  Recency  1.524338\n",
       "5  000949456b182f53c18b68d6babc79c1        2  Recency -0.031783\n",
       "6  000a5ad9c4601d2bbdd9ed765d5213b3        0  Recency  0.435202\n",
       "7  000c8bdb58a29e7115cfc257230fb21b        0  Recency  0.744005\n",
       "8  000de6019bb59f34c099a907c151d855        3  Recency -1.444261\n",
       "9  000ec5bff359e1c0ad76a81a45cb598f        1  Recency -0.714839"
      ]
     },
     "execution_count": 70,
     "metadata": {},
     "output_type": "execute_result"
    }
   ],
   "source": [
    "data_melt = pd.melt(\n",
    "                    rfm_k4_normalize.reset_index(),               \n",
    "                    id_vars=['customer_unique_id', 'Cluster'],\n",
    "                    value_vars=['Recency', 'Frequency', 'Monetary'], \n",
    "                    var_name='Metric', value_name='Value' \n",
    "# giá trị của metric là tên cột và Value là giá trị của tên cột đó \n",
    "                    )\n",
    "data_melt.head(10)"
   ]
  },
  {
   "cell_type": "code",
   "execution_count": 71,
   "metadata": {},
   "outputs": [
    {
     "data": {
      "image/png": "[encoded data removed]",
      "text/plain": [
       "<Figure size 1800x900 with 1 Axes>"
      ]
     },
     "metadata": {},
     "output_type": "display_data"
    }
   ],
   "source": [
    "\n",
    "# Snake Plot\n",
    "plt.figure(figsize = (18,9))\n",
    "plt.title('Snake plot of normalized variables')\n",
    "# plt.xlabel('Metric')\n",
    "plt.ylabel('Value')\n",
    "sns.lineplot(data=data_melt, x='Metric', y='Value', hue='Cluster', )\n",
    "plt.show()"
   ]
  },
  {
   "cell_type": "markdown",
   "metadata": {},
   "source": [
    "### Calculate relative importance of each attribute\n",
    "Now we will calculate the relative importance of the RFM values within each cluster."
   ]
  },
  {
   "cell_type": "code",
   "execution_count": 72,
   "metadata": {},
   "outputs": [
    {
     "data": {
      "text/html": [
       "<div>\n",
       "<style scoped>\n",
       "    .dataframe tbody tr th:only-of-type {\n",
       "        vertical-align: middle;\n",
       "    }\n",
       "\n",
       "    .dataframe tbody tr th {\n",
       "        vertical-align: top;\n",
       "    }\n",
       "\n",
       "    .dataframe thead th {\n",
       "        text-align: right;\n",
       "    }\n",
       "</style>\n",
       "<table border=\"1\" class=\"dataframe\">\n",
       "  <thead>\n",
       "    <tr style=\"text-align: right;\">\n",
       "      <th></th>\n",
       "      <th>Recency</th>\n",
       "      <th>Frequency</th>\n",
       "      <th>Monetary</th>\n",
       "    </tr>\n",
       "    <tr>\n",
       "      <th>Cluster</th>\n",
       "      <th></th>\n",
       "      <th></th>\n",
       "      <th></th>\n",
       "    </tr>\n",
       "  </thead>\n",
       "  <tbody>\n",
       "    <tr>\n",
       "      <th>0</th>\n",
       "      <td>0.22</td>\n",
       "      <td>0.03</td>\n",
       "      <td>0.02</td>\n",
       "    </tr>\n",
       "    <tr>\n",
       "      <th>1</th>\n",
       "      <td>-0.60</td>\n",
       "      <td>0.71</td>\n",
       "      <td>1.03</td>\n",
       "    </tr>\n",
       "    <tr>\n",
       "      <th>2</th>\n",
       "      <td>0.67</td>\n",
       "      <td>-0.55</td>\n",
       "      <td>-0.69</td>\n",
       "    </tr>\n",
       "    <tr>\n",
       "      <th>3</th>\n",
       "      <td>-0.76</td>\n",
       "      <td>-0.21</td>\n",
       "      <td>-0.42</td>\n",
       "    </tr>\n",
       "  </tbody>\n",
       "</table>\n",
       "</div>"
      ],
      "text/plain": [
       "         Recency  Frequency  Monetary\n",
       "Cluster                              \n",
       "0           0.22       0.03      0.02\n",
       "1          -0.60       0.71      1.03\n",
       "2           0.67      -0.55     -0.69\n",
       "3          -0.76      -0.21     -0.42"
      ]
     },
     "execution_count": 72,
     "metadata": {},
     "output_type": "execute_result"
    }
   ],
   "source": [
    "cluster_avg = rfm_k4.groupby(['Cluster']).agg({'Recency': 'mean', 'Frequency': 'mean', 'Monetary':'mean'})\n",
    "population_avg = data_rfm.mean()\n",
    "relative_imp = cluster_avg / population_avg - 1\n",
    "relative_imp.round(2)"
   ]
  },
  {
   "cell_type": "code",
   "execution_count": 73,
   "metadata": {},
   "outputs": [
    {
     "data": {
      "image/png": "[encoded data removed]",
      "text/plain": [
       "<Figure size 1300x500 with 2 Axes>"
      ]
     },
     "metadata": {},
     "output_type": "display_data"
    }
   ],
   "source": [
    "plt.figure(figsize=(13, 5))\n",
    "plt.title('Relative importance of attributes')\n",
    "sns.heatmap(data=relative_imp, annot=True, fmt='.2f', cmap='RdYlGn')\n",
    "plt.show()"
   ]
  },
  {
   "cell_type": "markdown",
   "metadata": {},
   "source": [
    "## Conclusion\n",
    "### Relative Importance of RFM among K-Means Clusters\n",
    "\n",
    "We can see that our grouped summary of the mean of R, F, M that each cluster of customers places a different emphasis on our 4 features:\n",
    "\n",
    "#### Cluster 1\n",
    "It has the highest MontaryValue mean and low Recency mean and the highest frequency mean — This is our ideal customer segment\n",
    "\n",
    "#### Cluster 2\n",
    "It performs poorly across R, F, and M. we will need to design campaigns to activate them again.\n",
    "\n",
    "#### Cluster 3\n",
    "They shopped with us recently but have not spend as much or as frequently as we would like them to — perhaps some personalization of products targeted at them can help to maximize their lifetime-value and come back to purchase?\n",
    "\n",
    "#### Cluster 0\n",
    "It has spent quite a fair amount with us but has not shopped with us in the 3–4 months — We will need to do something before we lose them!"
   ]
  }
 ],
 "metadata": {
  "kernelspec": {
   "display_name": "Python 3",
   "language": "python",
   "name": "python3"
  },
  "language_info": {
   "codemirror_mode": {
    "name": "ipython",
    "version": 3
   },
   "file_extension": ".py",
   "mimetype": "text/x-python",
   "name": "python",
   "nbconvert_exporter": "python",
   "pygments_lexer": "ipython3",
   "version": "3.11.3"
  },
  "orig_nbformat": 4
 },
 "nbformat": 4,
 "nbformat_minor": 2
}
